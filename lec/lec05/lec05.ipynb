{
 "cells": [
  {
   "cell_type": "code",
   "execution_count": 1,
   "id": "bee93afe-448d-4177-b1b6-26b294e6cf56",
   "metadata": {},
   "outputs": [],
   "source": [
    "from datascience import *\n",
    "import numpy as np"
   ]
  },
  {
   "cell_type": "markdown",
   "id": "5dfd45c1-7429-493b-a83f-30197c2a7640",
   "metadata": {},
   "source": [
    "## Review"
   ]
  },
  {
   "cell_type": "markdown",
   "id": "8064204a-ff21-4196-998f-6446ac46c151",
   "metadata": {},
   "source": [
    "**Discussion Question 1:** Question 1, Final, Fall 2019.\n",
    "- What will the following Python expression evaluate to?"
   ]
  },
  {
   "cell_type": "code",
   "execution_count": 2,
   "id": "12fa9794-5274-4535-8368-0344544ff84c",
   "metadata": {},
   "outputs": [
    {
     "data": {
      "text/plain": [
       "array([2, 4, 6])"
      ]
     },
     "execution_count": 2,
     "metadata": {},
     "output_type": "execute_result"
    }
   ],
   "source": [
    "make_array(1,2,3) * 2"
   ]
  },
  {
   "cell_type": "markdown",
   "id": "0658802d-5533-4580-a50e-502190253c91",
   "metadata": {},
   "source": [
    "**Discussion Question 2:**    \n",
    "- What will the following Python expression evaluate to?\n"
   ]
  },
  {
   "cell_type": "code",
   "execution_count": 3,
   "id": "b2e7d6bd-6111-420e-9949-3b756efd9cb2",
   "metadata": {},
   "outputs": [
    {
     "data": {
      "text/plain": [
       "array([2, 4, 6])"
      ]
     },
     "execution_count": 3,
     "metadata": {},
     "output_type": "execute_result"
    }
   ],
   "source": [
    "make_array(1,2,3) + np.arange(start=1, stop=4)"
   ]
  },
  {
   "cell_type": "markdown",
   "id": "a343bbbb-31b7-4e6b-98c5-be14c71a56b0",
   "metadata": {},
   "source": [
    "____"
   ]
  },
  {
   "cell_type": "markdown",
   "id": "9feb475b-c700-444b-8afa-a4a41e8c5f89",
   "metadata": {},
   "source": [
    "## New material"
   ]
  },
  {
   "cell_type": "markdown",
   "id": "f8194f71-ac67-4a84-9d9d-96f91af8fd06",
   "metadata": {},
   "source": [
    "### Two ways to create tables"
   ]
  },
  {
   "cell_type": "markdown",
   "id": "4577499f-3164-4358-b2a9-6d717bd6e8da",
   "metadata": {},
   "source": [
    "**Way 1:** Reading from a file"
   ]
  },
  {
   "cell_type": "code",
   "execution_count": 4,
   "id": "c828c8d5-3bfa-4e4e-ab89-76ceca83f242",
   "metadata": {},
   "outputs": [
    {
     "data": {
      "text/html": [
       "<table border=\"1\" class=\"dataframe\">\n",
       "    <thead>\n",
       "        <tr>\n",
       "            <th>rank</th> <th>name</th> <th>position</th> <th>team</th> <th>salary</th> <th>season</th>\n",
       "        </tr>\n",
       "    </thead>\n",
       "    <tbody>\n",
       "        <tr>\n",
       "            <td>1   </td> <td>Shaquille O'Neal</td> <td>C       </td> <td>Los Angeles Lakers    </td> <td>17142000</td> <td>2000  </td>\n",
       "        </tr>\n",
       "        <tr>\n",
       "            <td>2   </td> <td>Kevin Garnett   </td> <td>PF      </td> <td>Minnesota Timberwolves</td> <td>16806000</td> <td>2000  </td>\n",
       "        </tr>\n",
       "        <tr>\n",
       "            <td>3   </td> <td>Alonzo Mourning </td> <td>C       </td> <td>Miami Heat            </td> <td>15004000</td> <td>2000  </td>\n",
       "        </tr>\n",
       "        <tr>\n",
       "            <td>4   </td> <td>Juwan Howard    </td> <td>PF      </td> <td>Washington Wizards    </td> <td>15000000</td> <td>2000  </td>\n",
       "        </tr>\n",
       "        <tr>\n",
       "            <td>5   </td> <td>Scottie Pippen  </td> <td>SF      </td> <td>Portland Trail Blazers</td> <td>14795000</td> <td>2000  </td>\n",
       "        </tr>\n",
       "        <tr>\n",
       "            <td>6   </td> <td>Karl Malone     </td> <td>PF      </td> <td>Utah Jazz             </td> <td>14000000</td> <td>2000  </td>\n",
       "        </tr>\n",
       "    </tbody>\n",
       "</table>\n",
       "<p>... (9450 rows omitted)</p>"
      ],
      "text/plain": [
       "<IPython.core.display.HTML object>"
      ]
     },
     "metadata": {},
     "output_type": "display_data"
    }
   ],
   "source": [
    "nba = Table.read_table('nba_salaries.csv')\n",
    "nba.show(6)"
   ]
  },
  {
   "cell_type": "markdown",
   "id": "675f9a70-c23f-49c6-8dd4-bc543ec13edf",
   "metadata": {},
   "source": [
    "**Way 2:** Creating from scratch"
   ]
  },
  {
   "cell_type": "code",
   "execution_count": 5,
   "id": "817105f4-3736-42ef-8cf9-776a7cc29f7b",
   "metadata": {},
   "outputs": [
    {
     "data": {
      "text/plain": [
       "array(['Bancroft', 'Durant', 'Channing', 'Haste'],\n",
       "      dtype='<U8')"
      ]
     },
     "execution_count": 5,
     "metadata": {},
     "output_type": "execute_result"
    }
   ],
   "source": [
    "streets = make_array('Bancroft', 'Durant', 'Channing', 'Haste')\n",
    "streets"
   ]
  },
  {
   "cell_type": "code",
   "execution_count": 6,
   "id": "d893396f-20d4-47b7-814f-ea91100543f6",
   "metadata": {},
   "outputs": [
    {
     "data": {
      "text/html": [
       "<table border=\"1\" class=\"dataframe\">\n",
       "    <thead>\n",
       "        <tr>\n",
       "            \n",
       "        </tr>\n",
       "    </thead>\n",
       "    <tbody>\n",
       "    </tbody>\n",
       "</table>"
      ],
      "text/plain": []
     },
     "execution_count": 6,
     "metadata": {},
     "output_type": "execute_result"
    }
   ],
   "source": [
    "Table()"
   ]
  },
  {
   "cell_type": "code",
   "execution_count": 7,
   "id": "4b8cf9df-f60c-4e8e-9904-eedfa283caac",
   "metadata": {},
   "outputs": [
    {
     "data": {
      "text/html": [
       "<table border=\"1\" class=\"dataframe\">\n",
       "    <thead>\n",
       "        <tr>\n",
       "            <th>Streets</th>\n",
       "        </tr>\n",
       "    </thead>\n",
       "    <tbody>\n",
       "        <tr>\n",
       "            <td>Bancroft</td>\n",
       "        </tr>\n",
       "        <tr>\n",
       "            <td>Durant  </td>\n",
       "        </tr>\n",
       "        <tr>\n",
       "            <td>Channing</td>\n",
       "        </tr>\n",
       "        <tr>\n",
       "            <td>Haste   </td>\n",
       "        </tr>\n",
       "    </tbody>\n",
       "</table>"
      ],
      "text/plain": [
       "Streets\n",
       "Bancroft\n",
       "Durant\n",
       "Channing\n",
       "Haste"
      ]
     },
     "execution_count": 7,
     "metadata": {},
     "output_type": "execute_result"
    }
   ],
   "source": [
    "southside = Table().with_column('Streets', streets)\n",
    "southside"
   ]
  },
  {
   "cell_type": "code",
   "execution_count": 8,
   "id": "afa1ac30-20ac-47b8-a478-386bc9feb73c",
   "metadata": {},
   "outputs": [
    {
     "data": {
      "text/html": [
       "<table border=\"1\" class=\"dataframe\">\n",
       "    <thead>\n",
       "        <tr>\n",
       "            <th>Streets</th> <th>Blocks from campus</th>\n",
       "        </tr>\n",
       "    </thead>\n",
       "    <tbody>\n",
       "        <tr>\n",
       "            <td>Bancroft</td> <td>0                 </td>\n",
       "        </tr>\n",
       "        <tr>\n",
       "            <td>Durant  </td> <td>1                 </td>\n",
       "        </tr>\n",
       "        <tr>\n",
       "            <td>Channing</td> <td>2                 </td>\n",
       "        </tr>\n",
       "        <tr>\n",
       "            <td>Haste   </td> <td>3                 </td>\n",
       "        </tr>\n",
       "    </tbody>\n",
       "</table>"
      ],
      "text/plain": [
       "Streets  | Blocks from campus\n",
       "Bancroft | 0\n",
       "Durant   | 1\n",
       "Channing | 2\n",
       "Haste    | 3"
      ]
     },
     "execution_count": 8,
     "metadata": {},
     "output_type": "execute_result"
    }
   ],
   "source": [
    "southside.with_column('Blocks from campus', np.arange(4))"
   ]
  },
  {
   "cell_type": "code",
   "execution_count": 9,
   "id": "7852e483-7906-4c07-8599-aa1359b6b0b9",
   "metadata": {},
   "outputs": [
    {
     "data": {
      "text/html": [
       "<table border=\"1\" class=\"dataframe\">\n",
       "    <thead>\n",
       "        <tr>\n",
       "            <th>Streets</th> <th>Blocks from campus</th>\n",
       "        </tr>\n",
       "    </thead>\n",
       "    <tbody>\n",
       "        <tr>\n",
       "            <td>Bancroft</td> <td>0                 </td>\n",
       "        </tr>\n",
       "        <tr>\n",
       "            <td>Durant  </td> <td>1                 </td>\n",
       "        </tr>\n",
       "        <tr>\n",
       "            <td>Channing</td> <td>2                 </td>\n",
       "        </tr>\n",
       "        <tr>\n",
       "            <td>Haste   </td> <td>3                 </td>\n",
       "        </tr>\n",
       "    </tbody>\n",
       "</table>"
      ],
      "text/plain": [
       "Streets  | Blocks from campus\n",
       "Bancroft | 0\n",
       "Durant   | 1\n",
       "Channing | 2\n",
       "Haste    | 3"
      ]
     },
     "execution_count": 9,
     "metadata": {},
     "output_type": "execute_result"
    }
   ],
   "source": [
    "Table().with_columns(\n",
    "    'Streets', streets,\n",
    "    'Blocks from campus', np.arange(4)\n",
    ")"
   ]
  },
  {
   "cell_type": "markdown",
   "id": "90c55df6-bf02-4a79-85c7-b02987b5735a",
   "metadata": {},
   "source": [
    "### W.E.B. DuBois was a data scientist!"
   ]
  },
  {
   "cell_type": "code",
   "execution_count": 10,
   "id": "c4120695-d49e-4ba8-89d4-9197fada6eea",
   "metadata": {},
   "outputs": [],
   "source": [
    "du_bois = Table.read_table('du_bois.csv')"
   ]
  },
  {
   "cell_type": "code",
   "execution_count": 19,
   "id": "fa6d0efd",
   "metadata": {},
   "outputs": [
    {
     "data": {
      "text/html": [
       "<table border=\"1\" class=\"dataframe\">\n",
       "    <thead>\n",
       "        <tr>\n",
       "            <th>CLASS</th> <th>ACTUAL AVERAGE</th> <th>RENT</th> <th>FOOD</th> <th>CLOTHES</th> <th>TAXES</th> <th>OTHER</th> <th>STATUS</th>\n",
       "        </tr>\n",
       "    </thead>\n",
       "    <tbody>\n",
       "        <tr>\n",
       "            <td>100-200      </td> <td>139.1         </td> <td>0.19</td> <td>0.43</td> <td>0.28   </td> <td>0.001</td> <td>0.099</td> <td>POOR       </td>\n",
       "        </tr>\n",
       "        <tr>\n",
       "            <td>200-300      </td> <td>249.45        </td> <td>0.22</td> <td>0.47</td> <td>0.23   </td> <td>0.04 </td> <td>0.04 </td> <td>POOR       </td>\n",
       "        </tr>\n",
       "        <tr>\n",
       "            <td>300-400      </td> <td>335.66        </td> <td>0.23</td> <td>0.43</td> <td>0.18   </td> <td>0.045</td> <td>0.115</td> <td>FAIR       </td>\n",
       "        </tr>\n",
       "        <tr>\n",
       "            <td>400-500      </td> <td>433.82        </td> <td>0.18</td> <td>0.37</td> <td>0.15   </td> <td>0.055</td> <td>0.245</td> <td>FAIR       </td>\n",
       "        </tr>\n",
       "        <tr>\n",
       "            <td>500-750      </td> <td>547           </td> <td>0.13</td> <td>0.31</td> <td>0.17   </td> <td>0.05 </td> <td>0.34 </td> <td>COMFORTABLE</td>\n",
       "        </tr>\n",
       "        <tr>\n",
       "            <td>750-1000     </td> <td>880           </td> <td>0   </td> <td>0.37</td> <td>0.19   </td> <td>0.08 </td> <td>0.36 </td> <td>COMFORTABLE</td>\n",
       "        </tr>\n",
       "        <tr>\n",
       "            <td>1000 and over</td> <td>1125          </td> <td>0   </td> <td>0.29</td> <td>0.16   </td> <td>0.045</td> <td>0.505</td> <td>WELL-TO-DO </td>\n",
       "        </tr>\n",
       "    </tbody>\n",
       "</table>"
      ],
      "text/plain": [
       "<IPython.core.display.HTML object>"
      ]
     },
     "metadata": {},
     "output_type": "display_data"
    }
   ],
   "source": [
    "du_bois.show(du_bois.num_rows)"
   ]
  },
  {
   "cell_type": "markdown",
   "id": "243fab88-ee76-48a8-b4a1-b9fc910edcc9",
   "metadata": {},
   "source": [
    "**Task**: Find the number of rows and the number of columns in this table."
   ]
  },
  {
   "cell_type": "code",
   "execution_count": 13,
   "id": "6caf8bcd-1b4d-4048-89c9-d5d05a02a9c7",
   "metadata": {},
   "outputs": [
    {
     "data": {
      "text/plain": [
       "(7, 8)"
      ]
     },
     "execution_count": 13,
     "metadata": {},
     "output_type": "execute_result"
    }
   ],
   "source": [
    "du_bois.num_rows, du_bois.num_columns"
   ]
  },
  {
   "cell_type": "markdown",
   "id": "1bfadcf9-776d-4084-91a1-40d4271696f2",
   "metadata": {},
   "source": [
    "**Task:** Find all of the information (all of the variables) recorded on each \"individual\" in this table."
   ]
  },
  {
   "cell_type": "code",
   "execution_count": 17,
   "id": "b046b32d-19e6-49b7-b87d-0856dd9484c0",
   "metadata": {},
   "outputs": [
    {
     "data": {
      "text/plain": [
       "('CLASS',\n",
       " 'ACTUAL AVERAGE',\n",
       " 'RENT',\n",
       " 'FOOD',\n",
       " 'CLOTHES',\n",
       " 'TAXES',\n",
       " 'OTHER',\n",
       " 'STATUS')"
      ]
     },
     "execution_count": 17,
     "metadata": {},
     "output_type": "execute_result"
    }
   ],
   "source": [
    "du_bois.labels"
   ]
  },
  {
   "cell_type": "markdown",
   "id": "3057510a-250c-4b24-a1cf-550636b2121a",
   "metadata": {},
   "source": [
    "**Task:** Extract just the information (row(s)) of the families with the highest earning income bracket on average, circa 1900. \n",
    "- There are multiple correct ways to do this! See if you can find more than one."
   ]
  },
  {
   "cell_type": "markdown",
   "id": "067df7fc-8d41-461a-af40-92e92db5b66d",
   "metadata": {},
   "source": [
    "Way 1:"
   ]
  },
  {
   "cell_type": "code",
   "execution_count": 20,
   "id": "1e1d09ab-93d8-466e-9bd9-a1dd33adf028",
   "metadata": {},
   "outputs": [
    {
     "data": {
      "text/html": [
       "<table border=\"1\" class=\"dataframe\">\n",
       "    <thead>\n",
       "        <tr>\n",
       "            <th>CLASS</th> <th>ACTUAL AVERAGE</th> <th>RENT</th> <th>FOOD</th> <th>CLOTHES</th> <th>TAXES</th> <th>OTHER</th> <th>STATUS</th>\n",
       "        </tr>\n",
       "    </thead>\n",
       "    <tbody>\n",
       "        <tr>\n",
       "            <td>1000 and over</td> <td>1125          </td> <td>0   </td> <td>0.29</td> <td>0.16   </td> <td>0.045</td> <td>0.505</td> <td>WELL-TO-DO</td>\n",
       "        </tr>\n",
       "    </tbody>\n",
       "</table>"
      ],
      "text/plain": [
       "CLASS         | ACTUAL AVERAGE | RENT | FOOD | CLOTHES | TAXES | OTHER | STATUS\n",
       "1000 and over | 1125           | 0    | 0.29 | 0.16    | 0.045 | 0.505 | WELL-TO-DO"
      ]
     },
     "execution_count": 20,
     "metadata": {},
     "output_type": "execute_result"
    }
   ],
   "source": [
    "du_bois.where('ACTUAL AVERAGE', are.above_or_equal_to(np.max(du_bois.column('ACTUAL AVERAGE'))))"
   ]
  },
  {
   "cell_type": "markdown",
   "id": "1ef1af03-e09e-42ad-9f5b-8a6624a135c3",
   "metadata": {},
   "source": [
    "Way 2:"
   ]
  },
  {
   "cell_type": "code",
   "execution_count": 21,
   "id": "0695162e-bfb8-45cd-a942-8bbf168dd93f",
   "metadata": {},
   "outputs": [
    {
     "data": {
      "text/html": [
       "<table border=\"1\" class=\"dataframe\">\n",
       "    <thead>\n",
       "        <tr>\n",
       "            <th>CLASS</th> <th>ACTUAL AVERAGE</th> <th>RENT</th> <th>FOOD</th> <th>CLOTHES</th> <th>TAXES</th> <th>OTHER</th> <th>STATUS</th>\n",
       "        </tr>\n",
       "    </thead>\n",
       "    <tbody>\n",
       "        <tr>\n",
       "            <td>1000 and over</td> <td>1125          </td> <td>0   </td> <td>0.29</td> <td>0.16   </td> <td>0.045</td> <td>0.505</td> <td>WELL-TO-DO</td>\n",
       "        </tr>\n",
       "    </tbody>\n",
       "</table>"
      ],
      "text/plain": [
       "CLASS         | ACTUAL AVERAGE | RENT | FOOD | CLOTHES | TAXES | OTHER | STATUS\n",
       "1000 and over | 1125           | 0    | 0.29 | 0.16    | 0.045 | 0.505 | WELL-TO-DO"
      ]
     },
     "execution_count": 21,
     "metadata": {},
     "output_type": "execute_result"
    }
   ],
   "source": [
    "du_bois.sort('ACTUAL AVERAGE', descending=True).take(0)"
   ]
  },
  {
   "cell_type": "markdown",
   "id": "2a2b6af6-f150-4907-8d6c-3d7b0bad8325",
   "metadata": {},
   "source": [
    "Discussion [1 min]"
   ]
  },
  {
   "cell_type": "markdown",
   "id": "58e1c515-74ca-4deb-9619-014be48c3659",
   "metadata": {},
   "source": [
    "**Task:** Based on the relevant variables in the table, estimate the amount of money each that each income class of Black Americans spent on food, circa 1900.\n",
    "- Discussion [1 min]"
   ]
  },
  {
   "cell_type": "code",
   "execution_count": 24,
   "id": "51e8d149-96dd-4819-ae1c-b4d3b3b0da2b",
   "metadata": {},
   "outputs": [
    {
     "data": {
      "text/plain": [
       "array([  59.813 ,  117.2415,  144.3338,  160.5134,  169.57  ,  325.6   ,\n",
       "        326.25  ])"
      ]
     },
     "execution_count": 24,
     "metadata": {},
     "output_type": "execute_result"
    }
   ],
   "source": [
    "du_bois.column('ACTUAL AVERAGE')*du_bois.column('FOOD')"
   ]
  },
  {
   "cell_type": "markdown",
   "id": "a8d3a668-2872-4fad-8ae3-9e785ff9a09f",
   "metadata": {},
   "source": [
    "**Task:** Add these estimates to the `du_bois` table as a new column."
   ]
  },
  {
   "cell_type": "code",
   "execution_count": 23,
   "id": "8d59ddb0-2a88-442c-9a0d-1819f256fc04",
   "metadata": {},
   "outputs": [
    {
     "data": {
      "text/html": [
       "<table border=\"1\" class=\"dataframe\">\n",
       "    <thead>\n",
       "        <tr>\n",
       "            <th>CLASS</th> <th>ACTUAL AVERAGE</th> <th>RENT</th> <th>FOOD</th> <th>CLOTHES</th> <th>TAXES</th> <th>OTHER</th> <th>STATUS</th> <th>AMOUNT OF MONEY</th>\n",
       "        </tr>\n",
       "    </thead>\n",
       "    <tbody>\n",
       "        <tr>\n",
       "            <td>100-200      </td> <td>139.1         </td> <td>0.19</td> <td>0.43</td> <td>0.28   </td> <td>0.001</td> <td>0.099</td> <td>POOR       </td> <td>59.813         </td>\n",
       "        </tr>\n",
       "        <tr>\n",
       "            <td>200-300      </td> <td>249.45        </td> <td>0.22</td> <td>0.47</td> <td>0.23   </td> <td>0.04 </td> <td>0.04 </td> <td>POOR       </td> <td>117.241        </td>\n",
       "        </tr>\n",
       "        <tr>\n",
       "            <td>300-400      </td> <td>335.66        </td> <td>0.23</td> <td>0.43</td> <td>0.18   </td> <td>0.045</td> <td>0.115</td> <td>FAIR       </td> <td>144.334        </td>\n",
       "        </tr>\n",
       "        <tr>\n",
       "            <td>400-500      </td> <td>433.82        </td> <td>0.18</td> <td>0.37</td> <td>0.15   </td> <td>0.055</td> <td>0.245</td> <td>FAIR       </td> <td>160.513        </td>\n",
       "        </tr>\n",
       "        <tr>\n",
       "            <td>500-750      </td> <td>547           </td> <td>0.13</td> <td>0.31</td> <td>0.17   </td> <td>0.05 </td> <td>0.34 </td> <td>COMFORTABLE</td> <td>169.57         </td>\n",
       "        </tr>\n",
       "        <tr>\n",
       "            <td>750-1000     </td> <td>880           </td> <td>0   </td> <td>0.37</td> <td>0.19   </td> <td>0.08 </td> <td>0.36 </td> <td>COMFORTABLE</td> <td>325.6          </td>\n",
       "        </tr>\n",
       "        <tr>\n",
       "            <td>1000 and over</td> <td>1125          </td> <td>0   </td> <td>0.29</td> <td>0.16   </td> <td>0.045</td> <td>0.505</td> <td>WELL-TO-DO </td> <td>326.25         </td>\n",
       "        </tr>\n",
       "    </tbody>\n",
       "</table>"
      ],
      "text/plain": [
       "CLASS         | ACTUAL AVERAGE | RENT | FOOD | CLOTHES | TAXES | OTHER | STATUS      | AMOUNT OF MONEY\n",
       "100-200       | 139.1          | 0.19 | 0.43 | 0.28    | 0.001 | 0.099 | POOR        | 59.813\n",
       "200-300       | 249.45         | 0.22 | 0.47 | 0.23    | 0.04  | 0.04  | POOR        | 117.241\n",
       "300-400       | 335.66         | 0.23 | 0.43 | 0.18    | 0.045 | 0.115 | FAIR        | 144.334\n",
       "400-500       | 433.82         | 0.18 | 0.37 | 0.15    | 0.055 | 0.245 | FAIR        | 160.513\n",
       "500-750       | 547            | 0.13 | 0.31 | 0.17    | 0.05  | 0.34  | COMFORTABLE | 169.57\n",
       "750-1000      | 880            | 0    | 0.37 | 0.19    | 0.08  | 0.36  | COMFORTABLE | 325.6\n",
       "1000 and over | 1125           | 0    | 0.29 | 0.16    | 0.045 | 0.505 | WELL-TO-DO  | 326.25"
      ]
     },
     "execution_count": 23,
     "metadata": {},
     "output_type": "execute_result"
    }
   ],
   "source": [
    "du_bois.with_column('AMOUNT OF MONEY' ,du_bois.column('ACTUAL AVERAGE')*du_bois.column('FOOD'))"
   ]
  },
  {
   "cell_type": "markdown",
   "id": "17f13f13-81eb-42bd-bdcd-24f1c9d035d2",
   "metadata": {},
   "source": [
    "____"
   ]
  },
  {
   "cell_type": "markdown",
   "id": "eb3a3354-8bb4-4bda-96bf-1969359fcc5a",
   "metadata": {},
   "source": [
    "### Back to the NBA example!"
   ]
  },
  {
   "cell_type": "markdown",
   "id": "3f930df3-c64e-438e-af91-0f42f1077ba7",
   "metadata": {},
   "source": [
    "**Task:**\n",
    "- Extract the rows in the `nba` table that correspond to Stephen Curry from the years 2016, 2017, ..., 2020. \n",
    "- Save the table into the name `recent_curry`."
   ]
  },
  {
   "cell_type": "code",
   "execution_count": 28,
   "id": "d34a96a1-6d12-4f6d-aba7-cb1a60a0648b",
   "metadata": {},
   "outputs": [
    {
     "data": {
      "text/html": [
       "<table border=\"1\" class=\"dataframe\">\n",
       "    <thead>\n",
       "        <tr>\n",
       "            <th>rank</th> <th>name</th> <th>position</th> <th>team</th> <th>salary</th> <th>season</th>\n",
       "        </tr>\n",
       "    </thead>\n",
       "    <tbody>\n",
       "        <tr>\n",
       "            <td>61  </td> <td>Stephen Curry</td> <td>PG      </td> <td>Golden State Warriors</td> <td>11370786</td> <td>2016  </td>\n",
       "        </tr>\n",
       "        <tr>\n",
       "            <td>82  </td> <td>Stephen Curry</td> <td>PG      </td> <td>Golden State Warriors</td> <td>12112359</td> <td>2017  </td>\n",
       "        </tr>\n",
       "        <tr>\n",
       "            <td>1   </td> <td>Stephen Curry</td> <td>PG      </td> <td>Golden State Warriors</td> <td>37457154</td> <td>2018  </td>\n",
       "        </tr>\n",
       "        <tr>\n",
       "            <td>1   </td> <td>Stephen Curry</td> <td>PG      </td> <td>Golden State Warriors</td> <td>37457154</td> <td>2019  </td>\n",
       "        </tr>\n",
       "        <tr>\n",
       "            <td>1   </td> <td>Stephen Curry</td> <td>PG      </td> <td>Golden State Warriors</td> <td>40231758</td> <td>2020  </td>\n",
       "        </tr>\n",
       "    </tbody>\n",
       "</table>"
      ],
      "text/plain": [
       "rank | name          | position | team                  | salary   | season\n",
       "61   | Stephen Curry | PG       | Golden State Warriors | 11370786 | 2016\n",
       "82   | Stephen Curry | PG       | Golden State Warriors | 12112359 | 2017\n",
       "1    | Stephen Curry | PG       | Golden State Warriors | 37457154 | 2018\n",
       "1    | Stephen Curry | PG       | Golden State Warriors | 37457154 | 2019\n",
       "1    | Stephen Curry | PG       | Golden State Warriors | 40231758 | 2020"
      ]
     },
     "execution_count": 28,
     "metadata": {},
     "output_type": "execute_result"
    }
   ],
   "source": [
    "nba.where('name', 'Stephen Curry').where('season', are.between_or_equal_to(2016, 2020))"
   ]
  },
  {
   "cell_type": "code",
   "execution_count": 29,
   "id": "562661d3-0c0f-4e93-b4cb-9a1d0fa9f16b",
   "metadata": {},
   "outputs": [],
   "source": [
    "recent_curry = nba.where('name', 'Stephen Curry').where('season', are.between_or_equal_to(2016, 2020))"
   ]
  },
  {
   "cell_type": "markdown",
   "id": "e1023d8e-ca1e-4a97-b288-6dcf4156ad30",
   "metadata": {},
   "source": [
    "**Discussion Question 3:** \n",
    "- Which of the following two lines of code correctly calculates the average salary of Steph Curry from 2016-2020?\n",
    "- Use the [Python reference sheet](https://www.data8.org/sp25/reference/) to help you answer!"
   ]
  },
  {
   "cell_type": "code",
   "execution_count": 30,
   "id": "629223ba-cf05-464e-ab82-1b6f66badd45",
   "metadata": {},
   "outputs": [
    {
     "ename": "TypeError",
     "evalue": "the resolved dtypes are not compatible with add.reduce. Resolved (dtype('<U6'), dtype('<U6'), dtype('<U12'))",
     "output_type": "error",
     "traceback": [
      "\u001b[31m---------------------------------------------------------------------------\u001b[39m",
      "\u001b[31mTypeError\u001b[39m                                 Traceback (most recent call last)",
      "\u001b[36mCell\u001b[39m\u001b[36m \u001b[39m\u001b[32mIn[30]\u001b[39m\u001b[32m, line 1\u001b[39m\n\u001b[32m----> \u001b[39m\u001b[32m1\u001b[39m np.average(recent_curry.select(\u001b[33m'\u001b[39m\u001b[33msalary\u001b[39m\u001b[33m'\u001b[39m))\n",
      "\u001b[36mFile \u001b[39m\u001b[32md:\\Anaconda\\envs\\data8\\Lib\\site-packages\\numpy\\lib\\_function_base_impl.py:557\u001b[39m, in \u001b[36maverage\u001b[39m\u001b[34m(a, axis, weights, returned, keepdims)\u001b[39m\n\u001b[32m    554\u001b[39m     keepdims_kw = {\u001b[33m'\u001b[39m\u001b[33mkeepdims\u001b[39m\u001b[33m'\u001b[39m: keepdims}\n\u001b[32m    556\u001b[39m \u001b[38;5;28;01mif\u001b[39;00m weights \u001b[38;5;129;01mis\u001b[39;00m \u001b[38;5;28;01mNone\u001b[39;00m:\n\u001b[32m--> \u001b[39m\u001b[32m557\u001b[39m     avg = a.mean(axis, **keepdims_kw)\n\u001b[32m    558\u001b[39m     avg_as_array = np.asanyarray(avg)\n\u001b[32m    559\u001b[39m     scl = avg_as_array.dtype.type(a.size/avg_as_array.size)\n",
      "\u001b[36mFile \u001b[39m\u001b[32md:\\Anaconda\\envs\\data8\\Lib\\site-packages\\numpy\\_core\\_methods.py:127\u001b[39m, in \u001b[36m_mean\u001b[39m\u001b[34m(a, axis, dtype, out, keepdims, where)\u001b[39m\n\u001b[32m    124\u001b[39m         dtype = mu.dtype(\u001b[33m'\u001b[39m\u001b[33mf4\u001b[39m\u001b[33m'\u001b[39m)\n\u001b[32m    125\u001b[39m         is_float16_result = \u001b[38;5;28;01mTrue\u001b[39;00m\n\u001b[32m--> \u001b[39m\u001b[32m127\u001b[39m ret = umr_sum(arr, axis, dtype, out, keepdims, where=where)\n\u001b[32m    128\u001b[39m \u001b[38;5;28;01mif\u001b[39;00m \u001b[38;5;28misinstance\u001b[39m(ret, mu.ndarray):\n\u001b[32m    129\u001b[39m     \u001b[38;5;28;01mwith\u001b[39;00m _no_nep50_warning():\n",
      "\u001b[31mTypeError\u001b[39m: the resolved dtypes are not compatible with add.reduce. Resolved (dtype('<U6'), dtype('<U6'), dtype('<U12'))"
     ]
    }
   ],
   "source": [
    "np.average(recent_curry.select('salary'))"
   ]
  },
  {
   "cell_type": "code",
   "execution_count": 31,
   "id": "467c9492-7261-46e6-abb6-dec51fce2bae",
   "metadata": {},
   "outputs": [
    {
     "data": {
      "text/plain": [
       "27725842.199999999"
      ]
     },
     "execution_count": 31,
     "metadata": {},
     "output_type": "execute_result"
    }
   ],
   "source": [
    "np.average(recent_curry.column('salary'))"
   ]
  },
  {
   "cell_type": "code",
   "execution_count": null,
   "id": "bc26c71c",
   "metadata": {},
   "outputs": [],
   "source": []
  }
 ],
 "metadata": {
  "kernelspec": {
   "display_name": "data8",
   "language": "python",
   "name": "python3"
  },
  "language_info": {
   "codemirror_mode": {
    "name": "ipython",
    "version": 3
   },
   "file_extension": ".py",
   "mimetype": "text/x-python",
   "name": "python",
   "nbconvert_exporter": "python",
   "pygments_lexer": "ipython3",
   "version": "3.12.3"
  }
 },
 "nbformat": 4,
 "nbformat_minor": 5
}
