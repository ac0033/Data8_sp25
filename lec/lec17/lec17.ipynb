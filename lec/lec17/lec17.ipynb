{
 "cells": [
  {
   "cell_type": "code",
   "execution_count": 1,
   "id": "008c9fea-abe4-4ea5-9e3d-4389a54fd286",
   "metadata": {},
   "outputs": [],
   "source": [
    "from datascience import *\n",
    "%matplotlib inline\n",
    "\n",
    "import matplotlib.pyplot as plots\n",
    "plots.style.use('fivethirtyeight')\n",
    "import numpy as np\n",
    "\n",
    "import warnings\n",
    "warnings.simplefilter(\"ignore\")"
   ]
  },
  {
   "cell_type": "markdown",
   "id": "63205e8c-2008-4e31-b206-d24856bb9696",
   "metadata": {},
   "source": [
    "## Review"
   ]
  },
  {
   "cell_type": "markdown",
   "id": "cdde73d5-3173-440e-a83b-5017eb46acdc",
   "metadata": {},
   "source": [
    "In slides."
   ]
  },
  {
   "cell_type": "markdown",
   "id": "0afbb94a-bb05-46ed-823c-a5ba316a94cf",
   "metadata": {},
   "source": [
    "## New material"
   ]
  },
  {
   "cell_type": "markdown",
   "id": "ff0a8b75-b7ab-444f-8279-be464c57a2f6",
   "metadata": {},
   "source": [
    "The midterm (in the demo example) is out of 25 points. The section average scores in the table are fictional and were chosen for the purposes of this problem."
   ]
  },
  {
   "cell_type": "code",
   "execution_count": 2,
   "id": "40952699-c561-49a7-91e9-c304baa3a365",
   "metadata": {},
   "outputs": [
    {
     "data": {
      "text/html": [
       "<table border=\"1\" class=\"dataframe\">\n",
       "    <thead>\n",
       "        <tr>\n",
       "            <th>Section</th> <th>Midterm</th>\n",
       "        </tr>\n",
       "    </thead>\n",
       "    <tbody>\n",
       "        <tr>\n",
       "            <td>1      </td> <td>22     </td>\n",
       "        </tr>\n",
       "        <tr>\n",
       "            <td>2      </td> <td>12     </td>\n",
       "        </tr>\n",
       "        <tr>\n",
       "            <td>2      </td> <td>23     </td>\n",
       "        </tr>\n",
       "        <tr>\n",
       "            <td>2      </td> <td>14     </td>\n",
       "        </tr>\n",
       "        <tr>\n",
       "            <td>1      </td> <td>20     </td>\n",
       "        </tr>\n",
       "    </tbody>\n",
       "</table>\n",
       "<p>... (354 rows omitted)</p>"
      ],
      "text/plain": [
       "<IPython.core.display.HTML object>"
      ]
     },
     "metadata": {},
     "output_type": "display_data"
    }
   ],
   "source": [
    "scores = Table.read_table('scores_by_section.csv')\n",
    "scores.show(5)"
   ]
  },
  {
   "cell_type": "code",
   "execution_count": 3,
   "id": "dfd50229-dce1-4676-8ce2-a36e7c9300f7",
   "metadata": {},
   "outputs": [
    {
     "data": {
      "text/html": [
       "<table border=\"1\" class=\"dataframe\">\n",
       "    <thead>\n",
       "        <tr>\n",
       "            <th>Section</th> <th>count</th>\n",
       "        </tr>\n",
       "    </thead>\n",
       "    <tbody>\n",
       "        <tr>\n",
       "            <td>1      </td> <td>32   </td>\n",
       "        </tr>\n",
       "        <tr>\n",
       "            <td>2      </td> <td>32   </td>\n",
       "        </tr>\n",
       "        <tr>\n",
       "            <td>3      </td> <td>27   </td>\n",
       "        </tr>\n",
       "        <tr>\n",
       "            <td>4      </td> <td>30   </td>\n",
       "        </tr>\n",
       "        <tr>\n",
       "            <td>5      </td> <td>33   </td>\n",
       "        </tr>\n",
       "        <tr>\n",
       "            <td>6      </td> <td>32   </td>\n",
       "        </tr>\n",
       "        <tr>\n",
       "            <td>7      </td> <td>24   </td>\n",
       "        </tr>\n",
       "        <tr>\n",
       "            <td>8      </td> <td>29   </td>\n",
       "        </tr>\n",
       "        <tr>\n",
       "            <td>9      </td> <td>30   </td>\n",
       "        </tr>\n",
       "        <tr>\n",
       "            <td>10     </td> <td>34   </td>\n",
       "        </tr>\n",
       "        <tr>\n",
       "            <td>11     </td> <td>26   </td>\n",
       "        </tr>\n",
       "        <tr>\n",
       "            <td>12     </td> <td>30   </td>\n",
       "        </tr>\n",
       "    </tbody>\n",
       "</table>"
      ],
      "text/plain": [
       "<IPython.core.display.HTML object>"
      ]
     },
     "metadata": {},
     "output_type": "display_data"
    }
   ],
   "source": [
    "scores.group('Section').show(12)"
   ]
  },
  {
   "cell_type": "code",
   "execution_count": 4,
   "id": "88a6b860-9a04-4104-9846-2502e681890f",
   "metadata": {},
   "outputs": [
    {
     "data": {
      "text/html": [
       "<table border=\"1\" class=\"dataframe\">\n",
       "    <thead>\n",
       "        <tr>\n",
       "            <th>Section</th> <th>Midterm average</th>\n",
       "        </tr>\n",
       "    </thead>\n",
       "    <tbody>\n",
       "        <tr>\n",
       "            <td>1      </td> <td>15.5938        </td>\n",
       "        </tr>\n",
       "        <tr>\n",
       "            <td>2      </td> <td>15.125         </td>\n",
       "        </tr>\n",
       "        <tr>\n",
       "            <td>3      </td> <td>13.6667        </td>\n",
       "        </tr>\n",
       "        <tr>\n",
       "            <td>4      </td> <td>14.7667        </td>\n",
       "        </tr>\n",
       "        <tr>\n",
       "            <td>5      </td> <td>17.4545        </td>\n",
       "        </tr>\n",
       "        <tr>\n",
       "            <td>6      </td> <td>15.0312        </td>\n",
       "        </tr>\n",
       "        <tr>\n",
       "            <td>7      </td> <td>16.625         </td>\n",
       "        </tr>\n",
       "        <tr>\n",
       "            <td>8      </td> <td>16.3103        </td>\n",
       "        </tr>\n",
       "        <tr>\n",
       "            <td>9      </td> <td>14.5667        </td>\n",
       "        </tr>\n",
       "        <tr>\n",
       "            <td>10     </td> <td>15.2353        </td>\n",
       "        </tr>\n",
       "        <tr>\n",
       "            <td>11     </td> <td>15.8077        </td>\n",
       "        </tr>\n",
       "        <tr>\n",
       "            <td>12     </td> <td>15.7333        </td>\n",
       "        </tr>\n",
       "    </tbody>\n",
       "</table>"
      ],
      "text/plain": [
       "<IPython.core.display.HTML object>"
      ]
     },
     "metadata": {},
     "output_type": "display_data"
    }
   ],
   "source": [
    "scores.group('Section', np.average).show()"
   ]
  },
  {
   "cell_type": "code",
   "execution_count": 5,
   "id": "7f452240-6bb5-4a18-a635-75dd3a4b227a",
   "metadata": {},
   "outputs": [],
   "source": [
    "section_3_average = scores.group('Section', np.average).column('Midterm average').item(2)"
   ]
  },
  {
   "cell_type": "code",
   "execution_count": 6,
   "id": "318fc4ef-de80-44b4-a204-11d908eb8ecf",
   "metadata": {},
   "outputs": [],
   "source": [
    "section_3_size = scores.group('Section').column('count').item(2)"
   ]
  },
  {
   "cell_type": "markdown",
   "id": "6d166c59-7b27-42c9-bf59-0c854baf5de6",
   "metadata": {},
   "source": [
    "We can simulate a random section using the `sample` Table method."
   ]
  },
  {
   "cell_type": "code",
   "execution_count": 7,
   "id": "6b8e079d-0492-4b47-86ad-7f0d0f769b4b",
   "metadata": {},
   "outputs": [
    {
     "data": {
      "text/html": [
       "<table border=\"1\" class=\"dataframe\">\n",
       "    <thead>\n",
       "        <tr>\n",
       "            <th>Section</th> <th>Midterm</th>\n",
       "        </tr>\n",
       "    </thead>\n",
       "    <tbody>\n",
       "        <tr>\n",
       "            <td>2      </td> <td>17     </td>\n",
       "        </tr>\n",
       "        <tr>\n",
       "            <td>3      </td> <td>8      </td>\n",
       "        </tr>\n",
       "        <tr>\n",
       "            <td>7      </td> <td>23     </td>\n",
       "        </tr>\n",
       "        <tr>\n",
       "            <td>6      </td> <td>20     </td>\n",
       "        </tr>\n",
       "        <tr>\n",
       "            <td>12     </td> <td>10     </td>\n",
       "        </tr>\n",
       "        <tr>\n",
       "            <td>8      </td> <td>21     </td>\n",
       "        </tr>\n",
       "        <tr>\n",
       "            <td>5      </td> <td>13     </td>\n",
       "        </tr>\n",
       "        <tr>\n",
       "            <td>1      </td> <td>14     </td>\n",
       "        </tr>\n",
       "        <tr>\n",
       "            <td>6      </td> <td>17     </td>\n",
       "        </tr>\n",
       "        <tr>\n",
       "            <td>12     </td> <td>10     </td>\n",
       "        </tr>\n",
       "    </tbody>\n",
       "</table>\n",
       "<p>... (17 rows omitted)</p>"
      ],
      "text/plain": [
       "Section | Midterm\n",
       "2       | 17\n",
       "3       | 8\n",
       "7       | 23\n",
       "6       | 20\n",
       "12      | 10\n",
       "8       | 21\n",
       "5       | 13\n",
       "1       | 14\n",
       "6       | 17\n",
       "12      | 10\n",
       "... (17 rows omitted)"
      ]
     },
     "execution_count": 7,
     "metadata": {},
     "output_type": "execute_result"
    }
   ],
   "source": [
    "random_section = scores.sample(27, with_replacement=False)\n",
    "random_section"
   ]
  },
  {
   "cell_type": "code",
   "execution_count": 8,
   "id": "60fedcb6-1314-4e6e-a38b-f6aebc55ad5d",
   "metadata": {},
   "outputs": [
    {
     "data": {
      "text/plain": [
       "16.111111111111111"
      ]
     },
     "execution_count": 8,
     "metadata": {},
     "output_type": "execute_result"
    }
   ],
   "source": [
    "np.average(random_section.column('Midterm'))"
   ]
  },
  {
   "cell_type": "code",
   "execution_count": 9,
   "id": "511ce2b0-32a3-4301-b2c6-319edb423334",
   "metadata": {},
   "outputs": [
    {
     "data": {
      "text/plain": [
       "16.814814814814813"
      ]
     },
     "execution_count": 9,
     "metadata": {},
     "output_type": "execute_result"
    }
   ],
   "source": [
    "np.average(scores.sample(27, with_replacement=False).column('Midterm'))"
   ]
  },
  {
   "cell_type": "markdown",
   "id": "d47b4397-d4ba-402a-ab33-8d3d23471b5c",
   "metadata": {},
   "source": [
    "- Null hypothesis: The average score of section 3 is no different from a random section of 27 students sampled from the class.\n",
    "- Alternative: The average score of section 3 is lower than what we would expect from a random section of 27 students sampled from the class. There is something other than randomness causing the low average.\n"
   ]
  },
  {
   "cell_type": "markdown",
   "id": "a5fdf819-68d0-4105-b013-0c12d9d169bd",
   "metadata": {},
   "source": [
    "**Discussion Task [2 min]:** Create an array of 10000 test statistics that are simulated under the null hypothesis and assign them to the name `simulated_sample_averages` to help test these hypotheses.\n",
    "- Write any functions that you need to. \n",
    "- The code below will make a histogram of the simulated test statistics with the observed test statistic superimposed once you've made the array correctly."
   ]
  },
  {
   "cell_type": "code",
   "execution_count": 10,
   "id": "a6c1762e-374d-446d-b321-d836efa6993c",
   "metadata": {},
   "outputs": [],
   "source": [
    "def one_sample_average():\n",
    "    return np.average(scores.sample(27, with_replacement=False).column('Midterm'))"
   ]
  },
  {
   "cell_type": "code",
   "execution_count": 11,
   "id": "d53424d8-2392-4a5b-ac93-78d46df380d7",
   "metadata": {},
   "outputs": [],
   "source": [
    "simulated_sample_averages = make_array()\n",
    "\n",
    "for i in np.arange(10000):\n",
    "    simulated_sample_averages = np.append(simulated_sample_averages, one_sample_average())"
   ]
  },
  {
   "cell_type": "code",
   "execution_count": 12,
   "id": "643b05d1-5e98-4708-96fa-11f1e40bafe1",
   "metadata": {},
   "outputs": [
    {
     "data": {
      "text/plain": [
       "array([ 13.66666667,  16.18518519,  18.25925926, ...,  13.55555556,\n",
       "        16.48148148,  15.48148148])"
      ]
     },
     "execution_count": 12,
     "metadata": {},
     "output_type": "execute_result"
    }
   ],
   "source": [
    "simulated_sample_averages"
   ]
  },
  {
   "cell_type": "code",
   "execution_count": 19,
   "id": "6c486d6b-3f6d-4c28-b15d-789686863422",
   "metadata": {},
   "outputs": [
    {
     "data": {
      "image/png": "[encoded data removed]",
      "text/plain": [
       "<Figure size 600x400 with 1 Axes>"
      ]
     },
     "metadata": {},
     "output_type": "display_data"
    }
   ],
   "source": [
    "averages_tbl = Table().with_column('Random Sample Average', simulated_sample_averages)\n",
    "averages_tbl.hist(bins = 20)\n",
    "plots.ylim(-0.012, 0.35)\n",
    "plots.scatter(section_3_average, 0, color='red', s=120)\n",
    "plots.show();"
   ]
  },
  {
   "cell_type": "markdown",
   "id": "f947ee35-c48e-4093-8074-89c49ca3ae70",
   "metadata": {},
   "source": [
    "**Discussion Question [1 min]:** Imagine you are the instructor for this class and are in charge of supervising the TAs who staff each of the 12 sections. How might you approach the TA of section 3 after seeing these results?\n"
   ]
  },
  {
   "cell_type": "markdown",
   "id": "32be4a88-d00b-4cbb-b19c-b33695bd77ff",
   "metadata": {},
   "source": [
    "**STOP**"
   ]
  },
  {
   "cell_type": "markdown",
   "id": "0fe5dcd2-2634-44a7-886e-0e372c42f481",
   "metadata": {},
   "source": [
    "### In a close call, calculate the p-value!"
   ]
  },
  {
   "cell_type": "markdown",
   "id": "0adc6354-2241-4cd2-86ae-74e04cf09401",
   "metadata": {},
   "source": [
    "**Task:** \n",
    "- Calculate the proportion of sample averages which are lower than the section 3 average which was observed.\n",
    "- This is called the *p*-value."
   ]
  },
  {
   "cell_type": "code",
   "execution_count": 20,
   "id": "bf6c5e68-cff7-4255-8c04-ef9d74b8a449",
   "metadata": {},
   "outputs": [
    {
     "data": {
      "text/plain": [
       "array([ 13.66666667,  16.18518519,  18.25925926, ...,  13.55555556,\n",
       "        16.48148148,  15.48148148])"
      ]
     },
     "execution_count": 20,
     "metadata": {},
     "output_type": "execute_result"
    }
   ],
   "source": [
    "simulated_sample_averages"
   ]
  },
  {
   "cell_type": "code",
   "execution_count": 21,
   "id": "aafc0e06-ddaa-46bc-9a3e-861eb0e212be",
   "metadata": {},
   "outputs": [
    {
     "data": {
      "text/plain": [
       "13.666666666666666"
      ]
     },
     "execution_count": 21,
     "metadata": {},
     "output_type": "execute_result"
    }
   ],
   "source": [
    "section_3_average"
   ]
  },
  {
   "cell_type": "code",
   "execution_count": 22,
   "id": "782a6aa6-adfe-44e6-8371-e621bd19c8ba",
   "metadata": {},
   "outputs": [
    {
     "data": {
      "text/plain": [
       "array([ True, False, False, ...,  True, False, False], dtype=bool)"
      ]
     },
     "execution_count": 22,
     "metadata": {},
     "output_type": "execute_result"
    }
   ],
   "source": [
    "simulated_sample_averages <= section_3_average"
   ]
  },
  {
   "cell_type": "code",
   "execution_count": 23,
   "id": "1abe65dd-d3cd-4802-a206-a2f47f2e70c8",
   "metadata": {
    "scrolled": true
   },
   "outputs": [
    {
     "data": {
      "text/plain": [
       "572"
      ]
     },
     "execution_count": 23,
     "metadata": {},
     "output_type": "execute_result"
    }
   ],
   "source": [
    "np.count_nonzero(simulated_sample_averages <= section_3_average)"
   ]
  },
  {
   "cell_type": "code",
   "execution_count": 24,
   "id": "891d17f0-d60e-4b6e-9905-1fc64311af16",
   "metadata": {},
   "outputs": [],
   "source": [
    "simulations = 10000"
   ]
  },
  {
   "cell_type": "code",
   "execution_count": 25,
   "id": "c84354e8-18b6-4a6f-ab35-fa4a8ecc6bf2",
   "metadata": {},
   "outputs": [
    {
     "data": {
      "text/plain": [
       "0.0572"
      ]
     },
     "execution_count": 25,
     "metadata": {},
     "output_type": "execute_result"
    }
   ],
   "source": [
    "p_value = np.count_nonzero(simulated_sample_averages  <= section_3_average) / 10000\n",
    "p_value"
   ]
  },
  {
   "cell_type": "markdown",
   "id": "88a7c1d9-0644-4fcd-97e8-a5d4987c9710",
   "metadata": {},
   "source": [
    "**Task:** Demarcate:\n",
    "- the area of the simulated distribution of test statistics lower than the section 3 average with a vertical line.\n",
    "- the area covered by the lowest five percent of the simulated distribution of statistics."
   ]
  },
  {
   "cell_type": "code",
   "execution_count": 26,
   "id": "f3ad53af-6ec0-4c49-aa92-0f55d2f5acb5",
   "metadata": {},
   "outputs": [],
   "source": [
    "sorted_averages = averages_tbl.sort(0).column(0)"
   ]
  },
  {
   "cell_type": "code",
   "execution_count": 27,
   "id": "b105b93e-7a06-43bb-b01b-4f0aadc7bc26",
   "metadata": {},
   "outputs": [
    {
     "data": {
      "text/plain": [
       "array([ 11.        ,  11.33333333,  11.33333333, ...,  19.25925926,\n",
       "        19.33333333,  19.44444444])"
      ]
     },
     "execution_count": 27,
     "metadata": {},
     "output_type": "execute_result"
    }
   ],
   "source": [
    "sorted_averages"
   ]
  },
  {
   "cell_type": "code",
   "execution_count": 28,
   "id": "8b66b751-5630-4c3c-af8d-60dc1d799af4",
   "metadata": {},
   "outputs": [
    {
     "data": {
      "text/plain": [
       "500"
      ]
     },
     "execution_count": 28,
     "metadata": {},
     "output_type": "execute_result"
    }
   ],
   "source": [
    "five_percent_index = round(simulations* 0.05)\n",
    "five_percent_index"
   ]
  },
  {
   "cell_type": "code",
   "execution_count": 29,
   "id": "55a6e01a-07ad-463a-906a-3cb1302ac0f4",
   "metadata": {},
   "outputs": [
    {
     "data": {
      "text/plain": [
       "13.592592592592593"
      ]
     },
     "execution_count": 29,
     "metadata": {},
     "output_type": "execute_result"
    }
   ],
   "source": [
    "five_percent_point = sorted_averages.item(five_percent_index)\n",
    "five_percent_point"
   ]
  },
  {
   "cell_type": "code",
   "execution_count": 33,
   "id": "9d90ec97-722c-4637-8a1c-70a0e9d4711e",
   "metadata": {},
   "outputs": [
    {
     "data": {
      "image/png": "[encoded data removed]",
      "text/plain": [
       "<Figure size 600x400 with 1 Axes>"
      ]
     },
     "metadata": {},
     "output_type": "display_data"
    }
   ],
   "source": [
    "averages_tbl.hist(bins = 20)\n",
    "plots.ylim(-0.012, 0.35)\n",
    "plots.plot([five_percent_point, five_percent_point], [-0.012, 0.35], color='gold', lw=2)\n",
    "plots.title('5% of the simulated statistics are to the left of the line!');\n",
    "plots.scatter(section_3_average, 0, color='red', s=40)\n",
    "plots.show();"
   ]
  },
  {
   "cell_type": "markdown",
   "id": "414f4759-83db-4aba-96c0-2f132a2df385",
   "metadata": {
    "slideshow": {
     "slide_type": "slide"
    }
   },
   "source": [
    "Since smaller values are more consistent with the alternative, and larger ones are more consistent with the null:\n",
    "\n",
    "- If the red dot is to the *left* of the gold line: *reject* null!\n",
    "- If the red dot is to the **right** of the gold line: **retain** null!"
   ]
  },
  {
   "cell_type": "markdown",
   "id": "723c8db4-d4d6-493e-95c8-b27db3862a34",
   "metadata": {},
   "source": [
    "**STOP**"
   ]
  }
 ],
 "metadata": {
  "kernelspec": {
   "display_name": "data8",
   "language": "python",
   "name": "python3"
  },
  "language_info": {
   "codemirror_mode": {
    "name": "ipython",
    "version": 3
   },
   "file_extension": ".py",
   "mimetype": "text/x-python",
   "name": "python",
   "nbconvert_exporter": "python",
   "pygments_lexer": "ipython3",
   "version": "3.12.3"
  }
 },
 "nbformat": 4,
 "nbformat_minor": 5
}
