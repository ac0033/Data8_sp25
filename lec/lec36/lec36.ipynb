{
 "cells": [
  {
   "cell_type": "code",
   "execution_count": 1,
   "id": "0f900b1d-b5c9-420c-a6ea-0c8e9fb7b707",
   "metadata": {},
   "outputs": [],
   "source": [
    "from datascience import *\n",
    "import numpy as np\n",
    "import matplotlib\n",
    "\n",
    "%matplotlib inline\n",
    "import matplotlib.pyplot as plt\n",
    "plt.style.use('fivethirtyeight')\n",
    "\n",
    "import warnings\n",
    "warnings.simplefilter(\"ignore\")"
   ]
  },
  {
   "cell_type": "markdown",
   "id": "2d6ed8f4-7045-4ec4-be2d-3527d6521c61",
   "metadata": {},
   "source": [
    "## Review"
   ]
  },
  {
   "cell_type": "markdown",
   "id": "f1b44049-73f4-443e-b8de-ec418d0c5205",
   "metadata": {},
   "source": [
    "### The $k$-Nearest Neighbors algorithm"
   ]
  },
  {
   "cell_type": "markdown",
   "id": "83d520dd-917f-4021-bffd-e8ce172768b9",
   "metadata": {},
   "source": [
    "#### Find the “distance” between the example and one training point"
   ]
  },
  {
   "cell_type": "markdown",
   "id": "c570d12c-802f-4298-a5ae-ba073ee0e605",
   "metadata": {},
   "source": [
    "##### We use $\\text{D}$, the **Euclidean distance:**\n",
    "\n",
    "$$ \\text{D} = \\sqrt{(x_0-x_1)^2 + (y_0-y_1)^2} $$"
   ]
  },
  {
   "cell_type": "code",
   "execution_count": 2,
   "id": "af79c41e-2c96-4859-b14d-e0737429c620",
   "metadata": {},
   "outputs": [],
   "source": [
    "def distance(point1, point2):\n",
    "    \"\"\"Returns the distance between point1 and point2\n",
    "    where each argument is an array \n",
    "    consisting of the coordinates of the point\"\"\"\n",
    "    return np.sum((point1-point2)**2) ** 0.5"
   ]
  },
  {
   "cell_type": "markdown",
   "id": "d85d7793-88f9-4fbb-a7f3-41bfe8949567",
   "metadata": {},
   "source": [
    "#### Find the “distance” between the example and each observation in the training set"
   ]
  },
  {
   "cell_type": "code",
   "execution_count": 3,
   "id": "c4050992-6534-416d-83fb-e4d684b6e2ac",
   "metadata": {},
   "outputs": [],
   "source": [
    "def all_distances(training, new_row):\n",
    "    \"\"\"Returns an array of distances\n",
    "    between each point in the training set\n",
    "    and the new point (which is a row of attributes)\"\"\"\n",
    "    attributes = training.drop('Class')\n",
    "    def distance_from_new(row):\n",
    "        return distance(make_array(new_row), make_array(row))\n",
    "    return attributes.apply(distance_from_new)"
   ]
  },
  {
   "cell_type": "markdown",
   "id": "0aa009e4-c5f4-4220-ac61-1818cf38cdad",
   "metadata": {},
   "source": [
    "#### Augment the training data table with a column containing all the distances"
   ]
  },
  {
   "cell_type": "code",
   "execution_count": 4,
   "id": "2b5ad7d6-d2c3-472d-b1b2-e7e48b8f41d7",
   "metadata": {},
   "outputs": [],
   "source": [
    "def table_with_distances(training, new_point):\n",
    "    \"\"\"Augments the training table \n",
    "    with a column of distances from new_point\"\"\"\n",
    "    return training.with_column('Distance', all_distances(training, new_point))"
   ]
  },
  {
   "cell_type": "markdown",
   "id": "dd14c5d7-a07b-4ada-886b-95e60a8be702",
   "metadata": {},
   "source": [
    "#### The smaller $\\text{D}$ is, the nearer the neighbor! Find the $k$-nearest neighbors using table manipulations."
   ]
  },
  {
   "cell_type": "code",
   "execution_count": 5,
   "id": "ffe6c24f-a859-4775-ad89-9ef7bf954af2",
   "metadata": {},
   "outputs": [],
   "source": [
    "def nearest(training, new_point, k):\n",
    "    \"\"\"Returns a table of the k rows of the augmented table\n",
    "    corresponding to the k smallest distances\"\"\"\n",
    "    with_dists = table_with_distances(training, new_point)\n",
    "    sorted_by_distance = with_dists.sort('Distance')\n",
    "    nearest_neighbors_table = sorted_by_distance.take(np.arange(k))\n",
    "    return nearest_neighbors_table"
   ]
  },
  {
   "cell_type": "markdown",
   "id": "bfdbe825-423b-4572-b4a0-7ebd1e0a6408",
   "metadata": {},
   "source": [
    "#### Take a majority vote of the $k$-nearest neighbors. Assign the new point to the majority class"
   ]
  },
  {
   "cell_type": "code",
   "execution_count": 6,
   "id": "764d877a-f9ff-4ebd-9c07-cfc00c0dbfbe",
   "metadata": {},
   "outputs": [],
   "source": [
    "def majority(nearest_neighbors_table, class_name):\n",
    "    return nearest_neighbors_table.group(class_name).sort('count', \n",
    "                                                         descending=True).column(class_name).item(0)"
   ]
  },
  {
   "cell_type": "markdown",
   "id": "ad3e25ed-388d-4a4e-b445-187e45517ba0",
   "metadata": {},
   "source": [
    "#### A function to run the complete algorithm!"
   ]
  },
  {
   "cell_type": "code",
   "execution_count": 7,
   "id": "c782133f-057b-414a-9c89-c24982417f44",
   "metadata": {},
   "outputs": [],
   "source": [
    "def one_knn(training, class_name, new_point, k):\n",
    "    nearest_neighbors_table = nearest(training, new_point, k)\n",
    "    return majority(nearest_neighbors_table, class_name)"
   ]
  },
  {
   "cell_type": "markdown",
   "id": "14978de0-6bb0-4361-8233-3b34e6230127",
   "metadata": {},
   "source": [
    "____"
   ]
  },
  {
   "cell_type": "markdown",
   "id": "f3418c44-e786-4f88-a712-b9392217545d",
   "metadata": {},
   "source": [
    "### `ckd` dataset"
   ]
  },
  {
   "cell_type": "code",
   "execution_count": 8,
   "id": "5b0ce554-6306-465d-a00b-1f6287693f2e",
   "metadata": {},
   "outputs": [
    {
     "data": {
      "text/html": [
       "<table border=\"1\" class=\"dataframe\">\n",
       "    <thead>\n",
       "        <tr>\n",
       "            <th>Age</th> <th>Blood Pressure</th> <th>Specific Gravity</th> <th>Albumin</th> <th>Sugar</th> <th>Red Blood Cells</th> <th>Pus Cell</th> <th>Pus Cell clumps</th> <th>Bacteria</th> <th>Glucose</th> <th>Blood Urea</th> <th>Serum Creatinine</th> <th>Sodium</th> <th>Potassium</th> <th>Hemoglobin</th> <th>Packed Cell Volume</th> <th>White Blood Cell Count</th> <th>Red Blood Cell Count</th> <th>Hypertension</th> <th>Diabetes Mellitus</th> <th>Coronary Artery Disease</th> <th>Appetite</th> <th>Pedal Edema</th> <th>Anemia</th> <th>Class</th>\n",
       "        </tr>\n",
       "    </thead>\n",
       "    <tbody>\n",
       "        <tr>\n",
       "            <td>46  </td> <td>60            </td> <td>1.02            </td> <td>0      </td> <td>0    </td> <td>normal         </td> <td>normal  </td> <td>notpresent     </td> <td>notpresent</td> <td>102    </td> <td>27        </td> <td>0.7             </td> <td>142   </td> <td>4.9      </td> <td>13.2      </td> <td>44                </td> <td>11000                 </td> <td>5.4                 </td> <td>no          </td> <td>no               </td> <td>no                     </td> <td>good    </td> <td>no         </td> <td>no    </td> <td>0    </td>\n",
       "        </tr>\n",
       "        <tr>\n",
       "            <td>74  </td> <td>60            </td> <td>1.02            </td> <td>0      </td> <td>0    </td> <td>normal         </td> <td>normal  </td> <td>notpresent     </td> <td>notpresent</td> <td>88     </td> <td>50        </td> <td>0.6             </td> <td>147   </td> <td>3.7      </td> <td>17.2      </td> <td>53                </td> <td>6000                  </td> <td>4.5                 </td> <td>no          </td> <td>no               </td> <td>no                     </td> <td>good    </td> <td>no         </td> <td>no    </td> <td>0    </td>\n",
       "        </tr>\n",
       "        <tr>\n",
       "            <td>62  </td> <td>80            </td> <td>1.02            </td> <td>0      </td> <td>0    </td> <td>normal         </td> <td>normal  </td> <td>notpresent     </td> <td>notpresent</td> <td>132    </td> <td>34        </td> <td>0.8             </td> <td>147   </td> <td>3.5      </td> <td>17.8      </td> <td>44                </td> <td>4700                  </td> <td>4.5                 </td> <td>no          </td> <td>no               </td> <td>no                     </td> <td>good    </td> <td>no         </td> <td>no    </td> <td>0    </td>\n",
       "        </tr>\n",
       "    </tbody>\n",
       "</table>"
      ],
      "text/plain": [
       "<IPython.core.display.HTML object>"
      ]
     },
     "metadata": {},
     "output_type": "display_data"
    }
   ],
   "source": [
    "ckd = Table.read_table('ckd.csv').relabeled('Blood Glucose Random', 'Glucose')\n",
    "ckd.sample(3).show(3)"
   ]
  },
  {
   "cell_type": "code",
   "execution_count": 9,
   "id": "2f9e13ed-01df-4ce9-98fe-1d33f631b762",
   "metadata": {},
   "outputs": [],
   "source": [
    "ckd = ckd.select('Hemoglobin','Glucose','White Blood Cell Count', 'Class')"
   ]
  },
  {
   "cell_type": "markdown",
   "id": "0cfb4d55-3f57-4b05-b17f-0e22a1654577",
   "metadata": {},
   "source": [
    "_____"
   ]
  },
  {
   "cell_type": "markdown",
   "id": "65ed31fc-0563-4456-b457-24a63a9715a1",
   "metadata": {},
   "source": [
    "### `banknotes` dataset"
   ]
  },
  {
   "cell_type": "code",
   "execution_count": 10,
   "id": "7a994f0f-1ceb-4fdd-a92f-bf7020c10a63",
   "metadata": {},
   "outputs": [
    {
     "data": {
      "text/html": [
       "<table border=\"1\" class=\"dataframe\">\n",
       "    <thead>\n",
       "        <tr>\n",
       "            <th>WaveletVar</th> <th>WaveletSkew</th> <th>WaveletCurt</th> <th>Entropy</th> <th>Class</th>\n",
       "        </tr>\n",
       "    </thead>\n",
       "    <tbody>\n",
       "        <tr>\n",
       "            <td>-1.1188   </td> <td>3.3357     </td> <td>-1.3455    </td> <td>-1.9573</td> <td>1    </td>\n",
       "        </tr>\n",
       "        <tr>\n",
       "            <td>-3.6817   </td> <td>3.2239     </td> <td>-0.69347   </td> <td>-3.4004</td> <td>1    </td>\n",
       "        </tr>\n",
       "        <tr>\n",
       "            <td>4.2458    </td> <td>1.1981     </td> <td>0.66633    </td> <td>0.94696</td> <td>0    </td>\n",
       "        </tr>\n",
       "    </tbody>\n",
       "</table>"
      ],
      "text/plain": [
       "<IPython.core.display.HTML object>"
      ]
     },
     "metadata": {},
     "output_type": "display_data"
    }
   ],
   "source": [
    "banknotes = Table().read_table('banknote.csv')\n",
    "banknotes.sample(3).show()"
   ]
  },
  {
   "cell_type": "code",
   "execution_count": 11,
   "id": "456a6f9f-a5b8-40eb-b421-d68377a52863",
   "metadata": {},
   "outputs": [
    {
     "data": {
      "text/plain": [
       "Row(WaveletVar=3.6215999999999999, WaveletSkew=8.6661000000000001, WaveletCurt=-2.8073000000000001, Entropy=-0.44699)"
      ]
     },
     "execution_count": 11,
     "metadata": {},
     "output_type": "execute_result"
    }
   ],
   "source": [
    "first_banknote = banknotes.drop('Class').row(0)\n",
    "first_banknote"
   ]
  },
  {
   "cell_type": "markdown",
   "id": "ce293213-c21c-4e7d-bbda-7b31a54f2c22",
   "metadata": {},
   "source": [
    "**Distance in 4 dimensions**\n",
    "\n",
    "$$ \\text{D} = \\sqrt{(w_0-w_1)^2 + (x_0-x_1)^2 + (y_0-y_1)^2 + (z_0-z_1)^2} $$"
   ]
  },
  {
   "cell_type": "code",
   "execution_count": 12,
   "id": "763d1d63-2494-4ec9-889e-c3db410c7604",
   "metadata": {},
   "outputs": [
    {
     "data": {
      "text/html": [
       "<table border=\"1\" class=\"dataframe\">\n",
       "    <thead>\n",
       "        <tr>\n",
       "            <th>WaveletVar</th> <th>WaveletSkew</th> <th>WaveletCurt</th> <th>Entropy</th> <th>Class</th>\n",
       "        </tr>\n",
       "    </thead>\n",
       "    <tbody>\n",
       "        <tr>\n",
       "            <td>3.6216    </td> <td>8.6661     </td> <td>-2.8073    </td> <td>-0.44699</td> <td>0    </td>\n",
       "        </tr>\n",
       "    </tbody>\n",
       "</table>\n",
       "<p>... (1371 rows omitted)</p>"
      ],
      "text/plain": [
       "<IPython.core.display.HTML object>"
      ]
     },
     "metadata": {},
     "output_type": "display_data"
    }
   ],
   "source": [
    "banknotes.show(1)"
   ]
  },
  {
   "cell_type": "code",
   "execution_count": 14,
   "id": "35da1db9-6014-443d-9e32-7f3269224560",
   "metadata": {},
   "outputs": [
    {
     "data": {
      "text/html": [
       "<table border=\"1\" class=\"dataframe\">\n",
       "    <thead>\n",
       "        <tr>\n",
       "            <th>WaveletVar</th> <th>WaveletSkew</th> <th>WaveletCurt</th> <th>Entropy</th> <th>Class</th> <th>Distance</th>\n",
       "        </tr>\n",
       "    </thead>\n",
       "    <tbody>\n",
       "        <tr>\n",
       "            <td>3.4916    </td> <td>8.5709     </td> <td>-3.0326    </td> <td>-0.59182</td> <td>0    </td> <td>0.312568</td>\n",
       "        </tr>\n",
       "    </tbody>\n",
       "</table>"
      ],
      "text/plain": [
       "WaveletVar | WaveletSkew | WaveletCurt | Entropy  | Class | Distance\n",
       "3.4916     | 8.5709      | -3.0326     | -0.59182 | 0     | 0.312568"
      ]
     },
     "execution_count": 14,
     "metadata": {},
     "output_type": "execute_result"
    }
   ],
   "source": [
    "nearest(banknotes.exclude(0),first_banknote,1)"
   ]
  },
  {
   "cell_type": "markdown",
   "id": "8c006541-276b-49c1-838b-876e2d0bddca",
   "metadata": {},
   "source": [
    "**Discussion Question**"
   ]
  },
  {
   "cell_type": "markdown",
   "id": "a874c564-91a4-48f1-8282-0b367b831f48",
   "metadata": {},
   "source": [
    "## New material"
   ]
  },
  {
   "cell_type": "markdown",
   "id": "883d9da2-ca8b-4259-8a80-42baa3216e76",
   "metadata": {},
   "source": [
    "**CONTINUE**"
   ]
  },
  {
   "cell_type": "code",
   "execution_count": 15,
   "id": "158295fa-15e3-42de-b113-2e59b6e756ac",
   "metadata": {},
   "outputs": [],
   "source": [
    "patients = Table.read_table('breast-cancer.csv').drop('ID')"
   ]
  },
  {
   "cell_type": "code",
   "execution_count": 16,
   "id": "29255084-b258-434c-b313-c3a079ae6ef3",
   "metadata": {},
   "outputs": [
    {
     "data": {
      "text/html": [
       "<table border=\"1\" class=\"dataframe\">\n",
       "    <thead>\n",
       "        <tr>\n",
       "            <th>Clump Thickness</th> <th>Uniformity of Cell Size</th> <th>Uniformity of Cell Shape</th> <th>Marginal Adhesion</th> <th>Single Epithelial Cell Size</th> <th>Bare Nuclei</th> <th>Bland Chromatin</th> <th>Normal Nucleoli</th> <th>Mitoses</th> <th>Class</th>\n",
       "        </tr>\n",
       "    </thead>\n",
       "    <tbody>\n",
       "        <tr>\n",
       "            <td>5              </td> <td>1                      </td> <td>1                       </td> <td>1                </td> <td>2                          </td> <td>1          </td> <td>2              </td> <td>1              </td> <td>1      </td> <td>0    </td>\n",
       "        </tr>\n",
       "        <tr>\n",
       "            <td>1              </td> <td>4                      </td> <td>3                       </td> <td>10               </td> <td>4                          </td> <td>10         </td> <td>5              </td> <td>6              </td> <td>1      </td> <td>1    </td>\n",
       "        </tr>\n",
       "        <tr>\n",
       "            <td>1              </td> <td>3                      </td> <td>1                       </td> <td>2                </td> <td>2                          </td> <td>2          </td> <td>5              </td> <td>3              </td> <td>2      </td> <td>0    </td>\n",
       "        </tr>\n",
       "        <tr>\n",
       "            <td>5              </td> <td>3                      </td> <td>3                       </td> <td>3                </td> <td>6                          </td> <td>10         </td> <td>3              </td> <td>1              </td> <td>1      </td> <td>1    </td>\n",
       "        </tr>\n",
       "        <tr>\n",
       "            <td>9              </td> <td>8                      </td> <td>8                       </td> <td>9                </td> <td>6                          </td> <td>3          </td> <td>4              </td> <td>1              </td> <td>1      </td> <td>1    </td>\n",
       "        </tr>\n",
       "    </tbody>\n",
       "</table>"
      ],
      "text/plain": [
       "Clump Thickness | Uniformity of Cell Size | Uniformity of Cell Shape | Marginal Adhesion | Single Epithelial Cell Size | Bare Nuclei | Bland Chromatin | Normal Nucleoli | Mitoses | Class\n",
       "5               | 1                       | 1                        | 1                 | 2                           | 1           | 2               | 1               | 1       | 0\n",
       "1               | 4                       | 3                        | 10                | 4                           | 10          | 5               | 6               | 1       | 1\n",
       "1               | 3                       | 1                        | 2                 | 2                           | 2           | 5               | 3               | 2       | 0\n",
       "5               | 3                       | 3                        | 3                 | 6                           | 10          | 3               | 1               | 1       | 1\n",
       "9               | 8                       | 8                        | 9                 | 6                           | 3           | 4               | 1               | 1       | 1"
      ]
     },
     "execution_count": 16,
     "metadata": {},
     "output_type": "execute_result"
    }
   ],
   "source": [
    "patients.sample(5)"
   ]
  },
  {
   "cell_type": "code",
   "execution_count": 17,
   "id": "569751b8-4313-4307-aae4-8422d08ea645",
   "metadata": {},
   "outputs": [
    {
     "data": {
      "text/plain": [
       "10"
      ]
     },
     "execution_count": 17,
     "metadata": {},
     "output_type": "execute_result"
    }
   ],
   "source": [
    "patients.num_columns"
   ]
  },
  {
   "cell_type": "markdown",
   "id": "2df0144b-ad55-4e25-8b6a-62030304c27b",
   "metadata": {},
   "source": [
    "### Exploration"
   ]
  },
  {
   "cell_type": "code",
   "execution_count": 18,
   "id": "1d4a5b0a-a47e-4449-865f-2aaf8d368dcf",
   "metadata": {},
   "outputs": [
    {
     "data": {
      "text/html": [
       "<table border=\"1\" class=\"dataframe\">\n",
       "    <thead>\n",
       "        <tr>\n",
       "            <th>Class</th> <th>count</th>\n",
       "        </tr>\n",
       "    </thead>\n",
       "    <tbody>\n",
       "        <tr>\n",
       "            <td>0    </td> <td>444  </td>\n",
       "        </tr>\n",
       "        <tr>\n",
       "            <td>1    </td> <td>239  </td>\n",
       "        </tr>\n",
       "    </tbody>\n",
       "</table>"
      ],
      "text/plain": [
       "Class | count\n",
       "0     | 444\n",
       "1     | 239"
      ]
     },
     "execution_count": 18,
     "metadata": {},
     "output_type": "execute_result"
    }
   ],
   "source": [
    "patients.group('Class')"
   ]
  },
  {
   "cell_type": "code",
   "execution_count": 19,
   "id": "7830e728-c9ba-46d1-ad13-76cb480ffe66",
   "metadata": {},
   "outputs": [
    {
     "data": {
      "image/png": "[encoded data removed]",
      "text/plain": [
       "<Figure size 500x500 with 1 Axes>"
      ]
     },
     "metadata": {},
     "output_type": "display_data"
    }
   ],
   "source": [
    "patients.scatter('Bland Chromatin', 'Single Epithelial Cell Size', group='Class')\n",
    "plt.title('You are witnessing something called overplotting!')\n",
    "plt.show();"
   ]
  },
  {
   "cell_type": "markdown",
   "id": "1c5af255-df36-4e32-8377-0b74a9253420",
   "metadata": {},
   "source": [
    "Do not worry about how to use the code below. Just understand that it makes a new table containing data which enhance the previous visualization!"
   ]
  },
  {
   "cell_type": "code",
   "execution_count": 20,
   "id": "5234501a-92aa-45f1-a1cc-d3819baae64d",
   "metadata": {},
   "outputs": [],
   "source": [
    "def randomize_column(a):\n",
    "    return a + np.random.normal(0.0, 0.09, size=len(a))\n",
    "\n",
    "jittered = Table().with_columns([\n",
    "        'Bland Chromatin (jittered)', \n",
    "        randomize_column(patients.column('Bland Chromatin')),\n",
    "        'Single Epithelial Cell Size (jittered)', \n",
    "        randomize_column(patients.column('Single Epithelial Cell Size')),\n",
    "        'Class',\n",
    "        patients.column('Class')\n",
    "    ])"
   ]
  },
  {
   "cell_type": "code",
   "execution_count": 21,
   "id": "0a2186b6-018a-43dc-8dbb-d3e8f4e6c7e2",
   "metadata": {},
   "outputs": [
    {
     "data": {
      "image/png": "[encoded data removed]",
      "text/plain": [
       "<Figure size 500x500 with 1 Axes>"
      ]
     },
     "metadata": {},
     "output_type": "display_data"
    }
   ],
   "source": [
    "jittered.scatter(0, 1, group='Class')\n",
    "plt.show()"
   ]
  },
  {
   "cell_type": "markdown",
   "id": "7726fbb5-de20-4b0a-a555-d83b61df7cbe",
   "metadata": {},
   "source": [
    "**STOP**"
   ]
  },
  {
   "cell_type": "markdown",
   "id": "4ebfb4d5-b036-4f16-ad5c-4cea24726ea4",
   "metadata": {},
   "source": [
    "### Prediction"
   ]
  },
  {
   "cell_type": "markdown",
   "id": "8bb6d68e-adea-4d08-a8b5-d3889bd1ff2e",
   "metadata": {},
   "source": [
    "#### **Task**: Split the `patients` data into `train` and `test` sets of (roughly) equal size."
   ]
  },
  {
   "cell_type": "markdown",
   "id": "d8849df0-9dbe-4140-9c67-7228c1f6cb56",
   "metadata": {},
   "source": [
    "##### Method 1: from yesterday - use the `sample` + `take` table methods"
   ]
  },
  {
   "cell_type": "code",
   "execution_count": 22,
   "id": "942b32b0-8964-472e-a59f-fab0460dc24a",
   "metadata": {},
   "outputs": [
    {
     "data": {
      "text/plain": [
       "342"
      ]
     },
     "execution_count": 22,
     "metadata": {},
     "output_type": "execute_result"
    }
   ],
   "source": [
    "halfway = round(patients.num_rows/2)\n",
    "halfway"
   ]
  },
  {
   "cell_type": "code",
   "execution_count": 23,
   "id": "1ecec965-24c1-4b41-8ea8-f9c4d7a4e635",
   "metadata": {},
   "outputs": [],
   "source": [
    "shuffled_patients = patients.sample(with_replacement=False)"
   ]
  },
  {
   "cell_type": "code",
   "execution_count": 24,
   "id": "bd1c0942-9aae-492a-a4dc-f028355b1005",
   "metadata": {},
   "outputs": [],
   "source": [
    "train = shuffled_patients.take(np.arange(halfway))\n",
    "test = shuffled_patients.take(np.arange(halfway, patients.num_rows))"
   ]
  },
  {
   "cell_type": "markdown",
   "id": "fcde4cbf-ef68-4c25-b2b9-162aa14378f8",
   "metadata": {},
   "source": [
    "##### Method 2: use the `split` table method!\n",
    "- If you're confused about what's going on here - don't feel bad. This code involves the use of a data type in Python called a `tuple`, which is beyond the scope of the course. You can just use code like this to speed up the train and test split, if you wish."
   ]
  },
  {
   "cell_type": "code",
   "execution_count": 25,
   "id": "b7007a60-a1db-40c0-9088-f0481c56c528",
   "metadata": {},
   "outputs": [],
   "source": [
    "train, test = patients.split(k = round(patients.num_rows/2))"
   ]
  },
  {
   "cell_type": "markdown",
   "id": "16a34dd6-2e2c-4267-b3bb-a628025c79ee",
   "metadata": {},
   "source": [
    "#### **Task**: Calculate the Euclidean distance between an example test point and every point in the training set."
   ]
  },
  {
   "cell_type": "code",
   "execution_count": 26,
   "id": "713b260c-0494-4b85-aa7f-710509ba133f",
   "metadata": {},
   "outputs": [
    {
     "data": {
      "text/plain": [
       "Row(Clump Thickness=5, Uniformity of Cell Size=1, Uniformity of Cell Shape=1, Marginal Adhesion=1, Single Epithelial Cell Size=2, Bare Nuclei=1, Bland Chromatin=2, Normal Nucleoli=1, Mitoses=1)"
      ]
     },
     "execution_count": 26,
     "metadata": {},
     "output_type": "execute_result"
    }
   ],
   "source": [
    "example = test.drop('Class').row(2)\n",
    "example"
   ]
  },
  {
   "cell_type": "markdown",
   "id": "17d28a2e-76a4-4ca1-aba0-6dc6db10793f",
   "metadata": {},
   "source": [
    "**Discussion Question**"
   ]
  },
  {
   "cell_type": "code",
   "execution_count": 27,
   "id": "e939a3ee-fb72-4598-a041-b1b7273b83e5",
   "metadata": {},
   "outputs": [
    {
     "data": {
      "text/html": [
       "<table border=\"1\" class=\"dataframe\">\n",
       "    <thead>\n",
       "        <tr>\n",
       "            <th>Clump Thickness</th> <th>Uniformity of Cell Size</th> <th>Uniformity of Cell Shape</th> <th>Marginal Adhesion</th> <th>Single Epithelial Cell Size</th> <th>Bare Nuclei</th> <th>Bland Chromatin</th> <th>Normal Nucleoli</th> <th>Mitoses</th> <th>Class</th> <th>Distance</th>\n",
       "        </tr>\n",
       "    </thead>\n",
       "    <tbody>\n",
       "        <tr>\n",
       "            <td>4              </td> <td>2                      </td> <td>2                       </td> <td>1                </td> <td>2                          </td> <td>1          </td> <td>2              </td> <td>1              </td> <td>1      </td> <td>0    </td> <td>1.73205 </td>\n",
       "        </tr>\n",
       "        <tr>\n",
       "            <td>4              </td> <td>3                      </td> <td>2                       </td> <td>1                </td> <td>3                          </td> <td>1          </td> <td>2              </td> <td>1              </td> <td>1      </td> <td>0    </td> <td>2.64575 </td>\n",
       "        </tr>\n",
       "        <tr>\n",
       "            <td>1              </td> <td>1                      </td> <td>1                       </td> <td>1                </td> <td>2                          </td> <td>1          </td> <td>2              </td> <td>3              </td> <td>1      </td> <td>0    </td> <td>4.47214 </td>\n",
       "        </tr>\n",
       "        <tr>\n",
       "            <td>1              </td> <td>4                      </td> <td>3                       </td> <td>10               </td> <td>4                          </td> <td>10         </td> <td>5              </td> <td>6              </td> <td>1      </td> <td>1    </td> <td>15.1327 </td>\n",
       "        </tr>\n",
       "        <tr>\n",
       "            <td>4              </td> <td>3                      </td> <td>1                       </td> <td>1                </td> <td>2                          </td> <td>1          </td> <td>4              </td> <td>8              </td> <td>1      </td> <td>0    </td> <td>7.61577 </td>\n",
       "        </tr>\n",
       "        <tr>\n",
       "            <td>3              </td> <td>1                      </td> <td>1                       </td> <td>1                </td> <td>2                          </td> <td>1          </td> <td>1              </td> <td>1              </td> <td>1      </td> <td>0    </td> <td>2.23607 </td>\n",
       "        </tr>\n",
       "        <tr>\n",
       "            <td>5              </td> <td>1                      </td> <td>1                       </td> <td>1                </td> <td>2                          </td> <td>1          </td> <td>1              </td> <td>1              </td> <td>1      </td> <td>0    </td> <td>1       </td>\n",
       "        </tr>\n",
       "        <tr>\n",
       "            <td>10             </td> <td>2                      </td> <td>2                       </td> <td>1                </td> <td>2                          </td> <td>6          </td> <td>1              </td> <td>1              </td> <td>2      </td> <td>1    </td> <td>7.34847 </td>\n",
       "        </tr>\n",
       "        <tr>\n",
       "            <td>5              </td> <td>8                      </td> <td>7                       </td> <td>7                </td> <td>10                         </td> <td>10         </td> <td>5              </td> <td>7              </td> <td>1      </td> <td>1    </td> <td>17.6352 </td>\n",
       "        </tr>\n",
       "        <tr>\n",
       "            <td>4              </td> <td>1                      </td> <td>3                       </td> <td>1                </td> <td>2                          </td> <td>1          </td> <td>2              </td> <td>1              </td> <td>1      </td> <td>0    </td> <td>2.23607 </td>\n",
       "        </tr>\n",
       "    </tbody>\n",
       "</table>\n",
       "<p>... (332 rows omitted)</p>"
      ],
      "text/plain": [
       "Clump Thickness | Uniformity of Cell Size | Uniformity of Cell Shape | Marginal Adhesion | Single Epithelial Cell Size | Bare Nuclei | Bland Chromatin | Normal Nucleoli | Mitoses | Class | Distance\n",
       "4               | 2                       | 2                        | 1                 | 2                           | 1           | 2               | 1               | 1       | 0     | 1.73205\n",
       "4               | 3                       | 2                        | 1                 | 3                           | 1           | 2               | 1               | 1       | 0     | 2.64575\n",
       "1               | 1                       | 1                        | 1                 | 2                           | 1           | 2               | 3               | 1       | 0     | 4.47214\n",
       "1               | 4                       | 3                        | 10                | 4                           | 10          | 5               | 6               | 1       | 1     | 15.1327\n",
       "4               | 3                       | 1                        | 1                 | 2                           | 1           | 4               | 8               | 1       | 0     | 7.61577\n",
       "3               | 1                       | 1                        | 1                 | 2                           | 1           | 1               | 1               | 1       | 0     | 2.23607\n",
       "5               | 1                       | 1                        | 1                 | 2                           | 1           | 1               | 1               | 1       | 0     | 1\n",
       "10              | 2                       | 2                        | 1                 | 2                           | 6           | 1               | 1               | 2       | 1     | 7.34847\n",
       "5               | 8                       | 7                        | 7                 | 10                          | 10          | 5               | 7               | 1       | 1     | 17.6352\n",
       "4               | 1                       | 3                        | 1                 | 2                           | 1           | 2               | 1               | 1       | 0     | 2.23607\n",
       "... (332 rows omitted)"
      ]
     },
     "execution_count": 27,
     "metadata": {},
     "output_type": "execute_result"
    }
   ],
   "source": [
    "table_with_distances(train, example)"
   ]
  },
  {
   "cell_type": "markdown",
   "id": "cbcc6960-de43-4310-9d43-635fea000345",
   "metadata": {},
   "source": [
    "#### **Task**: Find the 5-nearest neighbors!"
   ]
  },
  {
   "cell_type": "code",
   "execution_count": 28,
   "id": "50a6e44a-41e4-40fd-bbc3-cbf1e4402126",
   "metadata": {},
   "outputs": [
    {
     "data": {
      "text/html": [
       "<table border=\"1\" class=\"dataframe\">\n",
       "    <thead>\n",
       "        <tr>\n",
       "            <th>Clump Thickness</th> <th>Uniformity of Cell Size</th> <th>Uniformity of Cell Shape</th> <th>Marginal Adhesion</th> <th>Single Epithelial Cell Size</th> <th>Bare Nuclei</th> <th>Bland Chromatin</th> <th>Normal Nucleoli</th> <th>Mitoses</th> <th>Class</th> <th>Distance</th>\n",
       "        </tr>\n",
       "    </thead>\n",
       "    <tbody>\n",
       "        <tr>\n",
       "            <td>5              </td> <td>1                      </td> <td>1                       </td> <td>1                </td> <td>2                          </td> <td>1          </td> <td>2              </td> <td>1              </td> <td>1      </td> <td>0    </td> <td>0       </td>\n",
       "        </tr>\n",
       "        <tr>\n",
       "            <td>5              </td> <td>1                      </td> <td>1                       </td> <td>1                </td> <td>2                          </td> <td>1          </td> <td>2              </td> <td>1              </td> <td>1      </td> <td>0    </td> <td>0       </td>\n",
       "        </tr>\n",
       "        <tr>\n",
       "            <td>5              </td> <td>1                      </td> <td>1                       </td> <td>1                </td> <td>2                          </td> <td>1          </td> <td>2              </td> <td>1              </td> <td>1      </td> <td>0    </td> <td>0       </td>\n",
       "        </tr>\n",
       "        <tr>\n",
       "            <td>5              </td> <td>1                      </td> <td>1                       </td> <td>1                </td> <td>2                          </td> <td>1          </td> <td>2              </td> <td>1              </td> <td>1      </td> <td>0    </td> <td>0       </td>\n",
       "        </tr>\n",
       "        <tr>\n",
       "            <td>5              </td> <td>1                      </td> <td>1                       </td> <td>1                </td> <td>2                          </td> <td>1          </td> <td>2              </td> <td>1              </td> <td>1      </td> <td>0    </td> <td>0       </td>\n",
       "        </tr>\n",
       "    </tbody>\n",
       "</table>"
      ],
      "text/plain": [
       "Clump Thickness | Uniformity of Cell Size | Uniformity of Cell Shape | Marginal Adhesion | Single Epithelial Cell Size | Bare Nuclei | Bland Chromatin | Normal Nucleoli | Mitoses | Class | Distance\n",
       "5               | 1                       | 1                        | 1                 | 2                           | 1           | 2               | 1               | 1       | 0     | 0\n",
       "5               | 1                       | 1                        | 1                 | 2                           | 1           | 2               | 1               | 1       | 0     | 0\n",
       "5               | 1                       | 1                        | 1                 | 2                           | 1           | 2               | 1               | 1       | 0     | 0\n",
       "5               | 1                       | 1                        | 1                 | 2                           | 1           | 2               | 1               | 1       | 0     | 0\n",
       "5               | 1                       | 1                        | 1                 | 2                           | 1           | 2               | 1               | 1       | 0     | 0"
      ]
     },
     "execution_count": 28,
     "metadata": {},
     "output_type": "execute_result"
    }
   ],
   "source": [
    "nearest(train, example, 5)"
   ]
  },
  {
   "cell_type": "markdown",
   "id": "99545667-c6e4-434e-9591-2dcf7b4edf1d",
   "metadata": {},
   "source": [
    "#### **Task**: Find the majority class!"
   ]
  },
  {
   "cell_type": "code",
   "execution_count": 29,
   "id": "7ea71011-5281-4d28-92fe-49677f34b0b9",
   "metadata": {},
   "outputs": [
    {
     "data": {
      "text/plain": [
       "0"
      ]
     },
     "execution_count": 29,
     "metadata": {},
     "output_type": "execute_result"
    }
   ],
   "source": [
    "majority(nearest(train, example, 5), 'Class')"
   ]
  },
  {
   "cell_type": "markdown",
   "id": "4611f96d-d0e3-4bc2-a4ef-fee254138dee",
   "metadata": {},
   "source": [
    "#### **Task**: Repeat this process for every point in the testing set!"
   ]
  },
  {
   "cell_type": "code",
   "execution_count": 30,
   "id": "e239fc2d-c001-46dc-8602-e4eb9ff848ad",
   "metadata": {},
   "outputs": [
    {
     "data": {
      "text/plain": [
       "0"
      ]
     },
     "execution_count": 30,
     "metadata": {},
     "output_type": "execute_result"
    }
   ],
   "source": [
    "one_knn(train, 'Class', test.drop('Class').row(0),  5)"
   ]
  },
  {
   "cell_type": "markdown",
   "id": "4aa28713-c064-4f4f-987b-421e1634c208",
   "metadata": {},
   "source": [
    "There are a few ways to do this. Today, we will use a for-loop method."
   ]
  },
  {
   "cell_type": "code",
   "execution_count": 31,
   "id": "4ee5fa8e-39f9-489c-b68a-76e7ec82bc98",
   "metadata": {},
   "outputs": [],
   "source": [
    "def knn(training, class_name, testing, k):\n",
    "    \"\"\"Returns the test predictions in the test set in a table, along with their actual classifications\"\"\"\n",
    "    \n",
    "    predictions = make_array()\n",
    "    testing_attribute = testing.drop(class_name)\n",
    "    for row in testing_attribute.rows:\n",
    "        predictions = np.append(predictions, one_knn(training, \n",
    "                                                     class_name, \n",
    "                                                     row, \n",
    "                                                     k))\n",
    "\n",
    "    knn_table = Table().with_columns('Actual', testing.column(class_name),\n",
    "                                     'Predicted', predictions)\n",
    "    \n",
    "    return knn_table "
   ]
  },
  {
   "cell_type": "code",
   "execution_count": 32,
   "id": "d5880fec-6dcd-4b0c-9be1-e589b1acba1b",
   "metadata": {},
   "outputs": [
    {
     "data": {
      "text/html": [
       "<table border=\"1\" class=\"dataframe\">\n",
       "    <thead>\n",
       "        <tr>\n",
       "            <th>Actual</th> <th>Predicted</th>\n",
       "        </tr>\n",
       "    </thead>\n",
       "    <tbody>\n",
       "        <tr>\n",
       "            <td>0     </td> <td>0        </td>\n",
       "        </tr>\n",
       "        <tr>\n",
       "            <td>0     </td> <td>0        </td>\n",
       "        </tr>\n",
       "        <tr>\n",
       "            <td>0     </td> <td>0        </td>\n",
       "        </tr>\n",
       "        <tr>\n",
       "            <td>1     </td> <td>1        </td>\n",
       "        </tr>\n",
       "        <tr>\n",
       "            <td>0     </td> <td>0        </td>\n",
       "        </tr>\n",
       "        <tr>\n",
       "            <td>1     </td> <td>1        </td>\n",
       "        </tr>\n",
       "        <tr>\n",
       "            <td>0     </td> <td>0        </td>\n",
       "        </tr>\n",
       "        <tr>\n",
       "            <td>0     </td> <td>0        </td>\n",
       "        </tr>\n",
       "        <tr>\n",
       "            <td>1     </td> <td>1        </td>\n",
       "        </tr>\n",
       "        <tr>\n",
       "            <td>0     </td> <td>0        </td>\n",
       "        </tr>\n",
       "    </tbody>\n",
       "</table>\n",
       "<p>... (331 rows omitted)</p>"
      ],
      "text/plain": [
       "Actual | Predicted\n",
       "0      | 0\n",
       "0      | 0\n",
       "0      | 0\n",
       "1      | 1\n",
       "0      | 0\n",
       "1      | 1\n",
       "0      | 0\n",
       "0      | 0\n",
       "1      | 1\n",
       "0      | 0\n",
       "... (331 rows omitted)"
      ]
     },
     "execution_count": 32,
     "metadata": {},
     "output_type": "execute_result"
    }
   ],
   "source": [
    "results = knn(train, 'Class', test, 5)\n",
    "results"
   ]
  },
  {
   "cell_type": "markdown",
   "id": "3963ac8b-c344-44fb-a17e-d5f88d3297f6",
   "metadata": {},
   "source": [
    "**STOP**"
   ]
  },
  {
   "cell_type": "markdown",
   "id": "4074f301-78d2-416c-8da5-0fb931685f2d",
   "metadata": {},
   "source": [
    "#### **Task**: Evaluate the accuracy of the classifier using $k=5$."
   ]
  },
  {
   "cell_type": "markdown",
   "id": "b3d14d84-568c-4a4b-9012-5ab834447a03",
   "metadata": {},
   "source": [
    "$$\\text{Misclassification Rate (MCR)} = \\text{proportion of testing points that are misclassified}$$"
   ]
  },
  {
   "cell_type": "markdown",
   "id": "1e6418a1-b9dd-42ee-98e0-ff6cef6919bf",
   "metadata": {},
   "source": [
    "- Practice [5 min]: Find the mis-classification rate for the 5-nearest neighbors algorithm!\n",
    "  - Can you find the number of misclassified points?\n",
    "  - Can you find the total number of points in the `test` table?\n",
    "  - If you can do both of these, you should be able to answer this question!\n",
    "  - Or, see if you can use any useful Numpy methods to do the calculation more quickly!"
   ]
  },
  {
   "cell_type": "code",
   "execution_count": 33,
   "id": "0b9b7f9c-126c-40c5-9722-ff3960077b09",
   "metadata": {},
   "outputs": [
    {
     "data": {
      "text/plain": [
       "array([False, False, False, False, False, False, False, False, False,\n",
       "       False, False, False, False, False, False, False, False, False,\n",
       "       False, False, False, False, False,  True, False, False, False,\n",
       "       False, False, False, False, False, False, False, False, False,\n",
       "       False, False, False, False, False, False, False, False, False,\n",
       "       False, False, False, False, False, False, False, False,  True,\n",
       "       False, False, False, False, False, False, False, False, False,\n",
       "       False, False, False, False, False, False, False, False, False,\n",
       "       False, False, False, False, False, False, False, False, False,\n",
       "       False, False, False, False, False, False, False, False, False,\n",
       "       False, False, False, False, False, False, False, False, False,\n",
       "       False, False, False, False, False, False,  True, False, False,\n",
       "       False, False, False, False, False, False, False, False, False,\n",
       "       False, False, False, False, False, False, False, False, False,\n",
       "       False, False, False, False, False, False, False, False, False,\n",
       "       False, False, False, False, False, False, False,  True, False,\n",
       "       False, False, False, False, False, False, False, False, False,\n",
       "       False, False, False, False, False, False, False, False, False,\n",
       "       False, False, False, False, False, False, False, False, False,\n",
       "       False, False, False, False, False, False, False, False,  True,\n",
       "       False, False,  True, False, False, False, False, False, False,\n",
       "       False, False, False, False, False, False, False, False, False,\n",
       "       False, False, False, False, False, False, False, False, False,\n",
       "       False, False, False, False, False, False, False, False, False,\n",
       "       False,  True, False, False, False, False,  True, False, False,\n",
       "       False, False,  True, False, False, False, False, False, False,\n",
       "        True, False, False, False, False, False, False, False, False,\n",
       "       False, False, False, False, False, False, False, False, False,\n",
       "       False, False, False, False, False, False, False, False, False,\n",
       "       False, False, False, False, False, False, False, False, False,\n",
       "       False, False, False, False, False, False, False, False, False,\n",
       "       False, False, False, False, False, False, False, False, False,\n",
       "       False, False, False, False, False, False, False, False, False,\n",
       "       False, False, False, False, False, False, False, False, False,\n",
       "       False, False, False, False, False, False, False, False, False,\n",
       "       False, False, False, False, False, False, False, False, False,\n",
       "       False, False, False, False, False, False, False, False,  True,\n",
       "       False, False, False, False, False, False, False, False], dtype=bool)"
      ]
     },
     "execution_count": 33,
     "metadata": {},
     "output_type": "execute_result"
    }
   ],
   "source": [
    "results.column('Actual') != results.column('Predicted')"
   ]
  },
  {
   "cell_type": "code",
   "execution_count": 35,
   "id": "ed95cf34",
   "metadata": {},
   "outputs": [
    {
     "data": {
      "text/plain": [
       "0.032258064516129031"
      ]
     },
     "execution_count": 35,
     "metadata": {},
     "output_type": "execute_result"
    }
   ],
   "source": [
    "np.average(results.column('Actual') != results.column('Predicted'))"
   ]
  },
  {
   "cell_type": "markdown",
   "id": "c571aef4-dad4-402e-b54d-48b588ef0bc4",
   "metadata": {},
   "source": [
    "#### **Task**: See where our classifier went wrong."
   ]
  },
  {
   "cell_type": "markdown",
   "id": "357540e6-e99d-4580-8dce-929e591dcae6",
   "metadata": {},
   "source": [
    "**Discussion Question**: How many rows and columns will the table produced by the following command have?\n",
    "\n",
    "```\n",
    "results.group(['Actual', 'Predicted'])\n",
    "```\n"
   ]
  },
  {
   "cell_type": "code",
   "execution_count": 34,
   "id": "3d4dca9b-5b95-4908-a962-19dbc6b335c2",
   "metadata": {},
   "outputs": [
    {
     "data": {
      "text/html": [
       "<table border=\"1\" class=\"dataframe\">\n",
       "    <thead>\n",
       "        <tr>\n",
       "            <th>Actual</th> <th>Predicted</th> <th>count</th>\n",
       "        </tr>\n",
       "    </thead>\n",
       "    <tbody>\n",
       "        <tr>\n",
       "            <td>0     </td> <td>0        </td> <td>217  </td>\n",
       "        </tr>\n",
       "        <tr>\n",
       "            <td>0     </td> <td>1        </td> <td>5    </td>\n",
       "        </tr>\n",
       "        <tr>\n",
       "            <td>1     </td> <td>0        </td> <td>6    </td>\n",
       "        </tr>\n",
       "        <tr>\n",
       "            <td>1     </td> <td>1        </td> <td>113  </td>\n",
       "        </tr>\n",
       "    </tbody>\n",
       "</table>"
      ],
      "text/plain": [
       "Actual | Predicted | count\n",
       "0      | 0         | 217\n",
       "0      | 1         | 5\n",
       "1      | 0         | 6\n",
       "1      | 1         | 113"
      ]
     },
     "execution_count": 34,
     "metadata": {},
     "output_type": "execute_result"
    }
   ],
   "source": [
    "results.group(['Actual', 'Predicted'])"
   ]
  },
  {
   "cell_type": "markdown",
   "id": "2395322e-689d-4fbd-bdb9-da88f437ded0",
   "metadata": {},
   "source": [
    "**Discussion Question**"
   ]
  },
  {
   "cell_type": "markdown",
   "id": "eaaba015-effe-460c-8dd4-1eb3ee08f95f",
   "metadata": {},
   "source": [
    "**STOP**"
   ]
  },
  {
   "cell_type": "markdown",
   "id": "825a8ddd-20e1-4904-8f47-08bc66f6d5e7",
   "metadata": {},
   "source": [
    "### If you are purely interested in prediction... standardize!"
   ]
  },
  {
   "cell_type": "code",
   "execution_count": 37,
   "id": "797cd626-1024-4e2a-8542-e0e6df4b36e8",
   "metadata": {},
   "outputs": [],
   "source": [
    "def standard_units(x):\n",
    "    return (x - np.average(x)) / np.std(x)"
   ]
  },
  {
   "cell_type": "code",
   "execution_count": 38,
   "id": "74ea7323-77ca-418c-8836-0f82d249d4ce",
   "metadata": {},
   "outputs": [
    {
     "data": {
      "text/html": [
       "<table border=\"1\" class=\"dataframe\">\n",
       "    <thead>\n",
       "        <tr>\n",
       "            <th>Hemoglobin</th> <th>Glucose</th> <th>White Blood Cell Count</th> <th>Class</th>\n",
       "        </tr>\n",
       "    </thead>\n",
       "    <tbody>\n",
       "        <tr>\n",
       "            <td>13.8      </td> <td>97     </td> <td>6400                  </td> <td>0    </td>\n",
       "        </tr>\n",
       "        <tr>\n",
       "            <td>7.9       </td> <td>163    </td> <td>7500                  </td> <td>1    </td>\n",
       "        </tr>\n",
       "        <tr>\n",
       "            <td>14.4      </td> <td>132    </td> <td>5000                  </td> <td>0    </td>\n",
       "        </tr>\n",
       "    </tbody>\n",
       "</table>"
      ],
      "text/plain": [
       "<IPython.core.display.HTML object>"
      ]
     },
     "metadata": {},
     "output_type": "display_data"
    }
   ],
   "source": [
    "ckd.sample(3).show(3)"
   ]
  },
  {
   "cell_type": "code",
   "execution_count": 39,
   "id": "84ce1305-2ca8-4c76-80f6-e182ff33eabd",
   "metadata": {},
   "outputs": [],
   "source": [
    "ckd_train,ckd_test = ckd.split(k = round(ckd.num_rows/2))"
   ]
  },
  {
   "cell_type": "code",
   "execution_count": 40,
   "id": "7d0e9ae9-38c2-4797-8590-528f6813c8b2",
   "metadata": {},
   "outputs": [
    {
     "data": {
      "text/plain": [
       "0.16455696202531644"
      ]
     },
     "execution_count": 40,
     "metadata": {},
     "output_type": "execute_result"
    }
   ],
   "source": [
    "ckd_results = knn(ckd_train, 'Class', ckd_test, 5)\n",
    "np.average(ckd_results.column('Actual') != ckd_results.column('Predicted'))"
   ]
  },
  {
   "cell_type": "markdown",
   "id": "8cd4e20c-c4cc-4ec3-b0b3-98b59e462e5b",
   "metadata": {},
   "source": [
    "Notice that the standardization comes after the train/test split."
   ]
  },
  {
   "cell_type": "code",
   "execution_count": 41,
   "id": "b6a25d47-d39d-4be9-87c5-4b73f78e602f",
   "metadata": {},
   "outputs": [],
   "source": [
    "std_ckd_train = ckd_train.select('Class').with_columns(\n",
    "    'Glucose_su', standard_units(ckd_train.column('Glucose')),\n",
    "    'Hemoglobin_su', standard_units(ckd_train.column('Hemoglobin')),\n",
    "    'WBC_su', standard_units(ckd_train.column('White Blood Cell Count'))\n",
    ")"
   ]
  },
  {
   "cell_type": "code",
   "execution_count": 42,
   "id": "c67f94e1-f911-417d-b021-1bdff1b692e9",
   "metadata": {},
   "outputs": [],
   "source": [
    "std_ckd_test = ckd_test.select('Class').with_columns(\n",
    "    'Glucose_su', standard_units(ckd_test.column('Glucose')),\n",
    "    'Hemoglobin_su', standard_units(ckd_test.column('Hemoglobin')),\n",
    "    'WBC_su', standard_units(ckd_test.column('White Blood Cell Count'))\n",
    ")"
   ]
  },
  {
   "cell_type": "code",
   "execution_count": 43,
   "id": "821c7975-a565-416f-8453-137443724153",
   "metadata": {},
   "outputs": [
    {
     "data": {
      "text/plain": [
       "0.050632911392405063"
      ]
     },
     "execution_count": 43,
     "metadata": {},
     "output_type": "execute_result"
    }
   ],
   "source": [
    "std_ckd_results = knn(std_ckd_train, 'Class', std_ckd_test, 5)\n",
    "np.average(std_ckd_results.column('Actual') != std_ckd_results.column('Predicted'))"
   ]
  },
  {
   "cell_type": "markdown",
   "id": "414139ff-5b66-47e2-b346-d5e58d553901",
   "metadata": {},
   "source": [
    "## Appendix"
   ]
  },
  {
   "cell_type": "markdown",
   "id": "08a0211c-18b2-4fd7-9c97-81ba7b7ae7f7",
   "metadata": {},
   "source": [
    "### Which $k$ should we choose?"
   ]
  },
  {
   "cell_type": "markdown",
   "id": "7ccf51aa-bae0-4089-a253-dce15cd52843",
   "metadata": {},
   "source": [
    "We can figure out which one based on the evaluation metric, $\\text{MCR}$. "
   ]
  },
  {
   "cell_type": "markdown",
   "id": "f9ae6799-353a-47a7-8aaf-6b3475e8aa7a",
   "metadata": {},
   "source": [
    "This step should be performed on the training set, *not* the testing set. Usually, we end up splitting the original training set into two parts: \n",
    "\n",
    "- \"new\" training set\n",
    "- validation set."
   ]
  },
  {
   "cell_type": "code",
   "execution_count": 44,
   "id": "a41bd547-69fa-48e7-ac75-7c8ba8b6edec",
   "metadata": {},
   "outputs": [],
   "source": [
    "new_train, validation = train.split(k = round(train.num_rows*(7/10)))"
   ]
  },
  {
   "cell_type": "code",
   "execution_count": 45,
   "id": "fe19263b-c98f-45e1-93b1-9c87f56c8fff",
   "metadata": {},
   "outputs": [
    {
     "data": {
      "text/plain": [
       "239"
      ]
     },
     "execution_count": 45,
     "metadata": {},
     "output_type": "execute_result"
    }
   ],
   "source": [
    "new_train.num_rows"
   ]
  },
  {
   "cell_type": "code",
   "execution_count": 46,
   "id": "85a8667b-f3aa-4858-89ff-d5dd00d53509",
   "metadata": {},
   "outputs": [
    {
     "data": {
      "text/plain": [
       "103"
      ]
     },
     "execution_count": 46,
     "metadata": {},
     "output_type": "execute_result"
    }
   ],
   "source": [
    "validation.num_rows"
   ]
  },
  {
   "cell_type": "code",
   "execution_count": 47,
   "id": "3037d1ce-e8ba-41c9-8977-522149c6f20f",
   "metadata": {},
   "outputs": [],
   "source": [
    "def which_k(training, class_name, validation, k_values):\n",
    "\n",
    "    mc_rates = make_array()\n",
    "\n",
    "    for i in np.arange(np.size(k_values)):\n",
    "\n",
    "        results = knn(training, class_name, validation, k_values.item(i))\n",
    "        new_rate = np.average(results.column('Actual') != results.column('Predicted'))\n",
    "        mc_rates = np.append(mc_rates, new_rate)\n",
    "\n",
    "    k_table = Table().with_columns(\"k\", k_values,\n",
    "                                   \"MCR\", mc_rates)\n",
    "                             \n",
    "    return k_table"
   ]
  },
  {
   "cell_type": "code",
   "execution_count": 48,
   "id": "ed860ee0-f8fc-4f1e-a86e-617fa8dbd4e7",
   "metadata": {},
   "outputs": [],
   "source": [
    "k_s = make_array(1,3,5,7,9,11,13,15,17,19,21,23,25)"
   ]
  },
  {
   "cell_type": "code",
   "execution_count": 49,
   "id": "47628565-36d4-49ca-b597-592e0dbb1bff",
   "metadata": {},
   "outputs": [],
   "source": [
    "k_table = which_k(new_train, 'Class', validation, k_s)"
   ]
  },
  {
   "cell_type": "code",
   "execution_count": 50,
   "id": "5c2d384d-9ad5-454d-b8e1-950e59340e0b",
   "metadata": {},
   "outputs": [
    {
     "data": {
      "text/html": [
       "<table border=\"1\" class=\"dataframe\">\n",
       "    <thead>\n",
       "        <tr>\n",
       "            <th>k</th> <th>MCR</th>\n",
       "        </tr>\n",
       "    </thead>\n",
       "    <tbody>\n",
       "        <tr>\n",
       "            <td>1   </td> <td>0.0582524</td>\n",
       "        </tr>\n",
       "        <tr>\n",
       "            <td>3   </td> <td>0.0291262</td>\n",
       "        </tr>\n",
       "        <tr>\n",
       "            <td>5   </td> <td>0.0194175</td>\n",
       "        </tr>\n",
       "        <tr>\n",
       "            <td>7   </td> <td>0.0291262</td>\n",
       "        </tr>\n",
       "        <tr>\n",
       "            <td>9   </td> <td>0.038835 </td>\n",
       "        </tr>\n",
       "        <tr>\n",
       "            <td>11  </td> <td>0.0485437</td>\n",
       "        </tr>\n",
       "        <tr>\n",
       "            <td>13  </td> <td>0.0485437</td>\n",
       "        </tr>\n",
       "        <tr>\n",
       "            <td>15  </td> <td>0.038835 </td>\n",
       "        </tr>\n",
       "        <tr>\n",
       "            <td>17  </td> <td>0.038835 </td>\n",
       "        </tr>\n",
       "        <tr>\n",
       "            <td>19  </td> <td>0.038835 </td>\n",
       "        </tr>\n",
       "    </tbody>\n",
       "</table>\n",
       "<p>... (3 rows omitted)</p>"
      ],
      "text/plain": [
       "k    | MCR\n",
       "1    | 0.0582524\n",
       "3    | 0.0291262\n",
       "5    | 0.0194175\n",
       "7    | 0.0291262\n",
       "9    | 0.038835\n",
       "11   | 0.0485437\n",
       "13   | 0.0485437\n",
       "15   | 0.038835\n",
       "17   | 0.038835\n",
       "19   | 0.038835\n",
       "... (3 rows omitted)"
      ]
     },
     "execution_count": 50,
     "metadata": {},
     "output_type": "execute_result"
    }
   ],
   "source": [
    "k_table"
   ]
  },
  {
   "cell_type": "markdown",
   "id": "22ce3c12-8c9d-4a39-82e5-929402952602",
   "metadata": {},
   "source": [
    "**Discussion Question**: What plot type would work best to visualize how the $\\text{MCR}$ increases and decreases as the number of neighbors increases?"
   ]
  },
  {
   "cell_type": "code",
   "execution_count": 51,
   "id": "edb8a625-97cd-4a85-a1b6-68c3bdb34987",
   "metadata": {},
   "outputs": [
    {
     "data": {
      "image/png": "[encoded data removed]",
      "text/plain": [
       "<Figure size 600x600 with 1 Axes>"
      ]
     },
     "metadata": {},
     "output_type": "display_data"
    }
   ],
   "source": [
    "k_table.plot('k','MCR')\n",
    "plt.title('The best k for the job is...?')\n",
    "plt.show();"
   ]
  },
  {
   "cell_type": "markdown",
   "id": "25982c82-d45c-42ed-9643-4d77e3462989",
   "metadata": {},
   "source": [
    "#### **Task**: Evaluate our classifier's performance on the test set using the best $k$: ($k = 3$)."
   ]
  },
  {
   "cell_type": "code",
   "execution_count": 63,
   "id": "bbcd5bc5-2fc3-4eb4-9fc1-7834c99eee95",
   "metadata": {},
   "outputs": [],
   "source": [
    "results = knn(train, 'Class', test, 9)"
   ]
  },
  {
   "cell_type": "code",
   "execution_count": 64,
   "id": "7b5a5834-00b2-45c2-a2ee-36950af2739f",
   "metadata": {},
   "outputs": [
    {
     "data": {
      "text/plain": [
       "0.032258064516129031"
      ]
     },
     "execution_count": 64,
     "metadata": {},
     "output_type": "execute_result"
    }
   ],
   "source": [
    "np.average(results.column('Actual') != results.column('Predicted'))"
   ]
  },
  {
   "cell_type": "code",
   "execution_count": 75,
   "id": "85873b51",
   "metadata": {},
   "outputs": [],
   "source": [
    "results = knn(train, 'Class', test, 5)"
   ]
  },
  {
   "cell_type": "code",
   "execution_count": 76,
   "id": "51fb75d7",
   "metadata": {},
   "outputs": [
    {
     "data": {
      "text/plain": [
       "0.032258064516129031"
      ]
     },
     "execution_count": 76,
     "metadata": {},
     "output_type": "execute_result"
    }
   ],
   "source": [
    "np.average(results.column('Actual') != results.column('Predicted'))"
   ]
  },
  {
   "cell_type": "code",
   "execution_count": null,
   "id": "0767e3de",
   "metadata": {},
   "outputs": [],
   "source": []
  }
 ],
 "metadata": {
  "kernelspec": {
   "display_name": "data8",
   "language": "python",
   "name": "python3"
  },
  "language_info": {
   "codemirror_mode": {
    "name": "ipython",
    "version": 3
   },
   "file_extension": ".py",
   "mimetype": "text/x-python",
   "name": "python",
   "nbconvert_exporter": "python",
   "pygments_lexer": "ipython3",
   "version": "3.12.3"
  }
 },
 "nbformat": 4,
 "nbformat_minor": 5
}
