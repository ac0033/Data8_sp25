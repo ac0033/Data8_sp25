{
 "cells": [
  {
   "cell_type": "code",
   "execution_count": 1,
   "id": "0fc87d3c-9e36-40c1-b173-7f1efe41be3d",
   "metadata": {},
   "outputs": [],
   "source": [
    "from datascience import *\n",
    "import numpy as np\n",
    "\n",
    "%matplotlib inline\n",
    "import matplotlib.pyplot as plots\n",
    "plots.style.use('fivethirtyeight')\n",
    "\n",
    "import warnings\n",
    "warnings.simplefilter(\"ignore\")"
   ]
  },
  {
   "cell_type": "markdown",
   "id": "61a00230-4ff1-4d9c-8f72-6b2d534ddba4",
   "metadata": {},
   "source": [
    "## Review"
   ]
  },
  {
   "cell_type": "markdown",
   "id": "69e135c3-a097-449a-a11d-1fa871bf8228",
   "metadata": {},
   "source": [
    "Hosted at https://pollev.com/jeremysanchez."
   ]
  },
  {
   "cell_type": "markdown",
   "id": "c202663e-686a-4db3-a989-8115a123af03",
   "metadata": {},
   "source": [
    "## New material"
   ]
  },
  {
   "cell_type": "code",
   "execution_count": 2,
   "id": "f2b4d97b-ffea-44af-8b85-d22439ec4468",
   "metadata": {},
   "outputs": [
    {
     "data": {
      "text/html": [
       "<table border=\"1\" class=\"dataframe\">\n",
       "    <thead>\n",
       "        <tr>\n",
       "            <th>Group</th> <th>Result</th>\n",
       "        </tr>\n",
       "    </thead>\n",
       "    <tbody>\n",
       "        <tr>\n",
       "            <td>Treatment</td> <td>1     </td>\n",
       "        </tr>\n",
       "        <tr>\n",
       "            <td>Treatment</td> <td>1     </td>\n",
       "        </tr>\n",
       "        <tr>\n",
       "            <td>Control  </td> <td>1     </td>\n",
       "        </tr>\n",
       "        <tr>\n",
       "            <td>Control  </td> <td>0     </td>\n",
       "        </tr>\n",
       "        <tr>\n",
       "            <td>Treatment</td> <td>0     </td>\n",
       "        </tr>\n",
       "    </tbody>\n",
       "</table>"
      ],
      "text/plain": [
       "Group     | Result\n",
       "Treatment | 1\n",
       "Treatment | 1\n",
       "Control   | 1\n",
       "Control   | 0\n",
       "Treatment | 0"
      ]
     },
     "execution_count": 2,
     "metadata": {},
     "output_type": "execute_result"
    }
   ],
   "source": [
    "back_pain = Table.read_table('bta.csv')\n",
    "back_pain.sample(5, with_replacement = False)"
   ]
  },
  {
   "cell_type": "code",
   "execution_count": 3,
   "id": "7c448d9e-1953-4287-a5b2-967deecc6aa2",
   "metadata": {},
   "outputs": [
    {
     "data": {
      "text/html": [
       "<table border=\"1\" class=\"dataframe\">\n",
       "    <thead>\n",
       "        <tr>\n",
       "            <th>Group</th> <th>0.0</th> <th>1.0</th>\n",
       "        </tr>\n",
       "    </thead>\n",
       "    <tbody>\n",
       "        <tr>\n",
       "            <td>Control  </td> <td>14  </td> <td>2   </td>\n",
       "        </tr>\n",
       "        <tr>\n",
       "            <td>Treatment</td> <td>6   </td> <td>9   </td>\n",
       "        </tr>\n",
       "    </tbody>\n",
       "</table>"
      ],
      "text/plain": [
       "Group     | 0.0  | 1.0\n",
       "Control   | 14   | 2\n",
       "Treatment | 6    | 9"
      ]
     },
     "execution_count": 3,
     "metadata": {},
     "output_type": "execute_result"
    }
   ],
   "source": [
    "back_pain.pivot('Result', 'Group')"
   ]
  },
  {
   "cell_type": "code",
   "execution_count": 4,
   "id": "90cce87a-88ed-4ae8-95c8-8a3a1732d43b",
   "metadata": {},
   "outputs": [
    {
     "data": {
      "text/html": [
       "<table border=\"1\" class=\"dataframe\">\n",
       "    <thead>\n",
       "        <tr>\n",
       "            <th>Group</th> <th>count</th>\n",
       "        </tr>\n",
       "    </thead>\n",
       "    <tbody>\n",
       "        <tr>\n",
       "            <td>Control  </td> <td>16   </td>\n",
       "        </tr>\n",
       "        <tr>\n",
       "            <td>Treatment</td> <td>15   </td>\n",
       "        </tr>\n",
       "    </tbody>\n",
       "</table>"
      ],
      "text/plain": [
       "Group     | count\n",
       "Control   | 16\n",
       "Treatment | 15"
      ]
     },
     "execution_count": 4,
     "metadata": {},
     "output_type": "execute_result"
    }
   ],
   "source": [
    "back_pain.group('Group')"
   ]
  },
  {
   "cell_type": "code",
   "execution_count": 5,
   "id": "9d3e6d58-1298-4e5a-aef9-b630015b5b07",
   "metadata": {},
   "outputs": [
    {
     "data": {
      "text/html": [
       "<table border=\"1\" class=\"dataframe\">\n",
       "    <thead>\n",
       "        <tr>\n",
       "            <th>Group</th> <th>Result average</th>\n",
       "        </tr>\n",
       "    </thead>\n",
       "    <tbody>\n",
       "        <tr>\n",
       "            <td>Control  </td> <td>0.125         </td>\n",
       "        </tr>\n",
       "        <tr>\n",
       "            <td>Treatment</td> <td>0.6           </td>\n",
       "        </tr>\n",
       "    </tbody>\n",
       "</table>"
      ],
      "text/plain": [
       "Group     | Result average\n",
       "Control   | 0.125\n",
       "Treatment | 0.6"
      ]
     },
     "execution_count": 5,
     "metadata": {},
     "output_type": "execute_result"
    }
   ],
   "source": [
    "back_pain.group('Group', np.average)"
   ]
  },
  {
   "cell_type": "markdown",
   "id": "cd722646-034a-4de6-a909-a4aee256eadd",
   "metadata": {},
   "source": [
    "**Discussion** [2 min] - Questions in slides!"
   ]
  },
  {
   "cell_type": "code",
   "execution_count": 6,
   "id": "b0d3834b-332e-4328-9da6-62c4bc7c7032",
   "metadata": {},
   "outputs": [
    {
     "data": {
      "text/plain": [
       "array([ 0.125,  0.6  ])"
      ]
     },
     "execution_count": 6,
     "metadata": {},
     "output_type": "execute_result"
    }
   ],
   "source": [
    "means_array = back_pain.group('Group', np.average).column('Result average')\n",
    "means_array"
   ]
  },
  {
   "cell_type": "code",
   "execution_count": 7,
   "id": "d7f4eee7-9bbb-40a0-80e9-5a9769c29ca1",
   "metadata": {},
   "outputs": [
    {
     "data": {
      "text/plain": [
       "0.475"
      ]
     },
     "execution_count": 7,
     "metadata": {},
     "output_type": "execute_result"
    }
   ],
   "source": [
    "observed_difference = abs(means_array.item(1)-means_array.item(0))\n",
    "observed_difference"
   ]
  },
  {
   "cell_type": "code",
   "execution_count": 8,
   "id": "dfa1438d-3f9b-4313-ab52-cfdda3d413b9",
   "metadata": {},
   "outputs": [],
   "source": [
    "def simulated_abs_difference(table, group_label, numeric_label, function):\n",
    "    \"\"\"\n",
    "    Takes: \n",
    "       - name of table\n",
    "       - column label of numerical variable\n",
    "       - column label of categorical variable\n",
    "       - statistic to be calculated (as a function)\n",
    "       \n",
    "    Returns: Difference in statistics of the two groups\n",
    "    \"\"\"\n",
    "    shuffled_group = table.select(group_label).sample(with_replacement=False)\n",
    "    simulated_table = Table().with_columns(group_label, shuffled_group.column(0),\n",
    "                                        numeric_label, table.column(numeric_label))\n",
    "    \n",
    "    stats_array = simulated_table.group(group_label, function).column(1)\n",
    "    \n",
    "    \n",
    "    return abs(stats_array.item(1)-stats_array.item(0))"
   ]
  },
  {
   "cell_type": "code",
   "execution_count": 9,
   "id": "58b55c09-a3ec-4c2e-a1ff-ea496b834e87",
   "metadata": {},
   "outputs": [
    {
     "data": {
      "text/plain": [
       "0.21666666666666667"
      ]
     },
     "execution_count": 9,
     "metadata": {},
     "output_type": "execute_result"
    }
   ],
   "source": [
    "simulated_abs_difference(back_pain, 'Group', 'Result', np.average)"
   ]
  },
  {
   "cell_type": "code",
   "execution_count": 15,
   "id": "acb22a75-f34a-4d83-8ac0-645ed1216de8",
   "metadata": {},
   "outputs": [],
   "source": [
    "simulated_differences = make_array()\n",
    "simulations = 25000"
   ]
  },
  {
   "cell_type": "code",
   "execution_count": 16,
   "id": "1e97ccea-d2bb-410f-bb8e-52a0ccaffde4",
   "metadata": {},
   "outputs": [],
   "source": [
    "for i in np.arange(simulations):\n",
    "    one_difference = simulated_abs_difference(back_pain, \n",
    "                                              'Group', \n",
    "                                              'Result', \n",
    "                                              np.average)\n",
    "    simulated_differences = np.append(simulated_differences, one_difference)"
   ]
  },
  {
   "cell_type": "code",
   "execution_count": 17,
   "id": "ecd980a2-ae11-4273-a56c-79ffe7d41463",
   "metadata": {},
   "outputs": [
    {
     "data": {
      "image/png": "[encoded data removed]",
      "text/plain": [
       "<Figure size 600x400 with 1 Axes>"
      ]
     },
     "metadata": {},
     "output_type": "display_data"
    },
    {
     "name": "stdout",
     "output_type": "stream",
     "text": [
      "Our observed difference of 0.475 is rare given what we would expect under the null!\n"
     ]
    }
   ],
   "source": [
    "Table().with_column('Simulated Differences Between Group Averages', \n",
    "                    simulated_differences).hist()\n",
    "plots.scatter(observed_difference, -0.001, color='red', s=30)\n",
    "plots.show();\n",
    "print('Our observed difference of ' + str(observed_difference) + ' is rare given what we would expect under the null!')"
   ]
  },
  {
   "cell_type": "markdown",
   "id": "8d96bcbc-b8c4-44d2-aa70-5fc1cebc5ed1",
   "metadata": {},
   "source": [
    "____"
   ]
  },
  {
   "cell_type": "code",
   "execution_count": 18,
   "id": "06713ef3-ff9b-41bd-9445-bc35e1b811e1",
   "metadata": {},
   "outputs": [
    {
     "data": {
      "text/plain": [
       "0.475"
      ]
     },
     "execution_count": 18,
     "metadata": {},
     "output_type": "execute_result"
    }
   ],
   "source": [
    "observed_difference"
   ]
  },
  {
   "cell_type": "code",
   "execution_count": 19,
   "id": "abf77c5e-27de-4051-a2a1-4912560a2ab0",
   "metadata": {},
   "outputs": [
    {
     "data": {
      "text/plain": [
       "array([ 0.04166667,  0.04166667,  0.04166667, ...,  0.17083333,\n",
       "        0.0875    ,  0.17083333])"
      ]
     },
     "execution_count": 19,
     "metadata": {},
     "output_type": "execute_result"
    }
   ],
   "source": [
    "simulated_differences"
   ]
  },
  {
   "cell_type": "code",
   "execution_count": 20,
   "id": "41eab83f-9654-4fb7-9770-9f9df332b3d9",
   "metadata": {},
   "outputs": [
    {
     "data": {
      "text/plain": [
       "0.0090399999999999994"
      ]
     },
     "execution_count": 20,
     "metadata": {},
     "output_type": "execute_result"
    }
   ],
   "source": [
    "np.average(simulated_differences >= observed_difference)"
   ]
  },
  {
   "cell_type": "code",
   "execution_count": 21,
   "id": "089c07ce",
   "metadata": {},
   "outputs": [
    {
     "data": {
      "text/plain": [
       "0.00904"
      ]
     },
     "execution_count": 21,
     "metadata": {},
     "output_type": "execute_result"
    }
   ],
   "source": [
    "np.count_nonzero(simulated_differences >= observed_difference) / len(simulated_differences)"
   ]
  },
  {
   "cell_type": "code",
   "execution_count": null,
   "id": "ea4ece5f",
   "metadata": {},
   "outputs": [],
   "source": []
  }
 ],
 "metadata": {
  "kernelspec": {
   "display_name": "data8",
   "language": "python",
   "name": "python3"
  },
  "language_info": {
   "codemirror_mode": {
    "name": "ipython",
    "version": 3
   },
   "file_extension": ".py",
   "mimetype": "text/x-python",
   "name": "python",
   "nbconvert_exporter": "python",
   "pygments_lexer": "ipython3",
   "version": "3.12.3"
  }
 },
 "nbformat": 4,
 "nbformat_minor": 5
}
