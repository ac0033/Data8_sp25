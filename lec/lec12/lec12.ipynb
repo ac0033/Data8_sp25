{
 "cells": [
  {
   "cell_type": "code",
   "execution_count": 1,
   "id": "caeb06f6-8c8d-4983-8dd9-e4326913e1ce",
   "metadata": {},
   "outputs": [],
   "source": [
    "from datascience import *\n",
    "import numpy as np\n",
    "\n",
    "%matplotlib inline\n",
    "import matplotlib.pyplot as plots\n",
    "plots.style.use('fivethirtyeight')\n",
    "import warnings\n",
    "warnings.simplefilter(action='ignore', category=DeprecationWarning)"
   ]
  },
  {
   "cell_type": "markdown",
   "id": "f4d7a3ff-06f2-4caf-a43e-ea41e48b8029",
   "metadata": {},
   "source": [
    "## Review\n",
    "\n",
    "- Pivots and joins multiple choice\n",
    "- Conducted at https://pollev.com/jeremysanchez\n"
   ]
  },
  {
   "cell_type": "code",
   "execution_count": 2,
   "id": "d4fb773b-5c3b-4194-b516-906bb19f9bc2",
   "metadata": {},
   "outputs": [
    {
     "data": {
      "text/html": [
       "<table border=\"1\" class=\"dataframe\">\n",
       "    <thead>\n",
       "        <tr>\n",
       "            <th>Bakedgoods</th> <th>Vegetables</th> <th>Seafood</th> <th>count</th>\n",
       "        </tr>\n",
       "    </thead>\n",
       "    <tbody>\n",
       "        <tr>\n",
       "            <td>Y         </td> <td>Y         </td> <td>N      </td> <td>3379 </td>\n",
       "        </tr>\n",
       "        <tr>\n",
       "            <td>N         </td> <td>N         </td> <td>N      </td> <td>3202 </td>\n",
       "        </tr>\n",
       "        <tr>\n",
       "            <td>Y         </td> <td>Y         </td> <td>Y      </td> <td>1248 </td>\n",
       "        </tr>\n",
       "        <tr>\n",
       "            <td>N         </td> <td>Y         </td> <td>N      </td> <td>564  </td>\n",
       "        </tr>\n",
       "        <tr>\n",
       "            <td>Y         </td> <td>N         </td> <td>N      </td> <td>80   </td>\n",
       "        </tr>\n",
       "        <tr>\n",
       "            <td>N         </td> <td>Y         </td> <td>Y      </td> <td>41   </td>\n",
       "        </tr>\n",
       "        <tr>\n",
       "            <td>Y         </td> <td>N         </td> <td>Y      </td> <td>30   </td>\n",
       "        </tr>\n",
       "        <tr>\n",
       "            <td>N         </td> <td>N         </td> <td>Y      </td> <td>2    </td>\n",
       "        </tr>\n",
       "    </tbody>\n",
       "</table>"
      ],
      "text/plain": [
       "Bakedgoods | Vegetables | Seafood | count\n",
       "Y          | Y          | N       | 3379\n",
       "N          | N          | N       | 3202\n",
       "Y          | Y          | Y       | 1248\n",
       "N          | Y          | N       | 564\n",
       "Y          | N          | N       | 80\n",
       "N          | Y          | Y       | 41\n",
       "Y          | N          | Y       | 30\n",
       "N          | N          | Y       | 2"
      ]
     },
     "execution_count": 2,
     "metadata": {},
     "output_type": "execute_result"
    }
   ],
   "source": [
    "farmers_markets = Table.read_table('farmers_markets.csv')\n",
    "farmers_markets.group(['Bakedgoods','Vegetables','Seafood']).sort('count',descending=True)"
   ]
  },
  {
   "cell_type": "code",
   "execution_count": 3,
   "id": "dfbc0f25-a397-40df-93b4-2b9a87c508f3",
   "metadata": {},
   "outputs": [],
   "source": [
    "skyscrapers = Table.read_table('skyscrapers.csv')"
   ]
  },
  {
   "cell_type": "markdown",
   "id": "6f8873e1-1f4c-4ae9-9290-72f4a2515431",
   "metadata": {},
   "source": [
    "### Question \n",
    "\n",
    "- I would like to make a visualization of the distribution of material types of buildings among each of San Francisco, New York and Chicago.\n",
    "- Which cross-classification method is best for this? "
   ]
  },
  {
   "cell_type": "code",
   "execution_count": 4,
   "id": "e9273761-64a3-4111-9edb-3418d3cc5320",
   "metadata": {},
   "outputs": [
    {
     "data": {
      "image/png": "[encoded data removed]",
      "text/plain": [
       "<Figure size 600x400 with 1 Axes>"
      ]
     },
     "metadata": {},
     "output_type": "display_data"
    }
   ],
   "source": [
    "cities_we_want = make_array('San Francisco', 'New York City', 'Chicago')\n",
    "\n",
    "\n",
    "skyscrapers.where('city', are.contained_in(cities_we_want)).pivot('material','city').barh('city')\n",
    "plots.show()"
   ]
  },
  {
   "cell_type": "markdown",
   "id": "2bdfad2a-e1ad-4033-abb3-5f02ac53d9f2",
   "metadata": {},
   "source": [
    "## New material"
   ]
  },
  {
   "cell_type": "markdown",
   "id": "fb866da9-d847-49f0-85e4-cbcff1f16d01",
   "metadata": {},
   "source": [
    "### Comparison Expressions result in a `bool`"
   ]
  },
  {
   "cell_type": "code",
   "execution_count": 5,
   "id": "96a8c6f5-439e-46fe-9bd5-af9b22dbd6c9",
   "metadata": {},
   "outputs": [],
   "source": [
    "x = 3 \n",
    "y = 2"
   ]
  },
  {
   "cell_type": "code",
   "execution_count": 6,
   "id": "e6ab1eca-412a-4852-b80d-71d4fc25fa1f",
   "metadata": {},
   "outputs": [
    {
     "data": {
      "text/plain": [
       "False"
      ]
     },
     "execution_count": 6,
     "metadata": {},
     "output_type": "execute_result"
    }
   ],
   "source": [
    "x == y"
   ]
  },
  {
   "cell_type": "code",
   "execution_count": 7,
   "id": "55e79eb1-048b-4954-98de-4a016e4f864c",
   "metadata": {},
   "outputs": [
    {
     "data": {
      "text/plain": [
       "True"
      ]
     },
     "execution_count": 7,
     "metadata": {},
     "output_type": "execute_result"
    }
   ],
   "source": [
    "x == y + 1"
   ]
  },
  {
   "cell_type": "code",
   "execution_count": 8,
   "id": "cab21618-2a12-4424-aa0b-4b08316340c3",
   "metadata": {},
   "outputs": [
    {
     "data": {
      "text/plain": [
       "True"
      ]
     },
     "execution_count": 8,
     "metadata": {},
     "output_type": "execute_result"
    }
   ],
   "source": [
    "x != y"
   ]
  },
  {
   "cell_type": "code",
   "execution_count": 9,
   "id": "ff14648d-5011-4a09-a365-8e3bf8957c48",
   "metadata": {},
   "outputs": [
    {
     "data": {
      "text/plain": [
       "True"
      ]
     },
     "execution_count": 9,
     "metadata": {},
     "output_type": "execute_result"
    }
   ],
   "source": [
    "2 < x < 5"
   ]
  },
  {
   "cell_type": "code",
   "execution_count": 10,
   "id": "6e91d73c-371a-4f49-9cce-bec8b691e87f",
   "metadata": {},
   "outputs": [
    {
     "data": {
      "text/plain": [
       "True"
      ]
     },
     "execution_count": 10,
     "metadata": {},
     "output_type": "execute_result"
    }
   ],
   "source": [
    "y >= x - 1"
   ]
  },
  {
   "cell_type": "code",
   "execution_count": 11,
   "id": "fe53b694-1da1-4f90-b6b4-12b822d42ca5",
   "metadata": {},
   "outputs": [
    {
     "data": {
      "text/plain": [
       "False"
      ]
     },
     "execution_count": 11,
     "metadata": {},
     "output_type": "execute_result"
    }
   ],
   "source": [
    "y > x - 1"
   ]
  },
  {
   "cell_type": "markdown",
   "id": "71a3d566-7ae0-4f88-9c83-1f5b485fd5bd",
   "metadata": {},
   "source": [
    "#### `=` and `==` are different!!!"
   ]
  },
  {
   "cell_type": "code",
   "execution_count": 12,
   "id": "126c6ff8-404c-4620-8e78-6bcb620d936b",
   "metadata": {},
   "outputs": [],
   "source": [
    "x = y"
   ]
  },
  {
   "cell_type": "code",
   "execution_count": 13,
   "id": "c72089f4-e910-4244-ad50-5f53008f5bdb",
   "metadata": {},
   "outputs": [
    {
     "data": {
      "text/plain": [
       "2"
      ]
     },
     "execution_count": 13,
     "metadata": {},
     "output_type": "execute_result"
    }
   ],
   "source": [
    "x"
   ]
  },
  {
   "cell_type": "code",
   "execution_count": 14,
   "id": "b1275d18-c950-4b23-b672-90dfda2f196f",
   "metadata": {},
   "outputs": [
    {
     "data": {
      "text/plain": [
       "2"
      ]
     },
     "execution_count": 14,
     "metadata": {},
     "output_type": "execute_result"
    }
   ],
   "source": [
    "y"
   ]
  },
  {
   "cell_type": "code",
   "execution_count": 15,
   "id": "d84b429a-8433-4081-a644-773d2206ec8a",
   "metadata": {},
   "outputs": [
    {
     "data": {
      "text/plain": [
       "False"
      ]
     },
     "execution_count": 15,
     "metadata": {},
     "output_type": "execute_result"
    }
   ],
   "source": [
    "x = 3 \n",
    "y = 2\n",
    "x == y"
   ]
  },
  {
   "cell_type": "markdown",
   "id": "b76550b8-de96-4210-8cf7-8f53f5bd4ec9",
   "metadata": {},
   "source": [
    "### `True` counts as `1`, `False` counts as `0`"
   ]
  },
  {
   "cell_type": "code",
   "execution_count": 16,
   "id": "4aeab660-0b74-4645-ba55-160a597fcc6a",
   "metadata": {},
   "outputs": [],
   "source": [
    "z = make_array('Jeremy', 'DeNero', 'Jeremy')"
   ]
  },
  {
   "cell_type": "code",
   "execution_count": 17,
   "id": "58f4cf2a-2908-4c43-b5fe-6f37c4fd23b3",
   "metadata": {},
   "outputs": [
    {
     "data": {
      "text/plain": [
       "array([ True, False,  True], dtype=bool)"
      ]
     },
     "execution_count": 17,
     "metadata": {},
     "output_type": "execute_result"
    }
   ],
   "source": [
    "z == \"Jeremy\""
   ]
  },
  {
   "cell_type": "code",
   "execution_count": 18,
   "id": "9b5db516-d41f-454d-bd79-672b6359542f",
   "metadata": {},
   "outputs": [
    {
     "data": {
      "text/plain": [
       "2"
      ]
     },
     "execution_count": 18,
     "metadata": {},
     "output_type": "execute_result"
    }
   ],
   "source": [
    "sum(z == \"Jeremy\")"
   ]
  },
  {
   "cell_type": "code",
   "execution_count": 19,
   "id": "d081ca02-af82-4aac-bab0-cd25b58e2cc1",
   "metadata": {},
   "outputs": [
    {
     "data": {
      "text/plain": [
       "0.66666666666666663"
      ]
     },
     "execution_count": 19,
     "metadata": {},
     "output_type": "execute_result"
    }
   ],
   "source": [
    "np.average(z == \"Jeremy\")"
   ]
  },
  {
   "cell_type": "code",
   "execution_count": 20,
   "id": "c19dd735-a258-4233-ada6-51b0cac40457",
   "metadata": {},
   "outputs": [
    {
     "data": {
      "text/plain": [
       "array([False, False,  True], dtype=bool)"
      ]
     },
     "execution_count": 20,
     "metadata": {},
     "output_type": "execute_result"
    }
   ],
   "source": [
    "np.arange(3) > 1"
   ]
  },
  {
   "cell_type": "code",
   "execution_count": 21,
   "id": "50176ba2-f714-47ae-b8a1-54de24c2df13",
   "metadata": {},
   "outputs": [
    {
     "data": {
      "text/plain": [
       "2"
      ]
     },
     "execution_count": 21,
     "metadata": {},
     "output_type": "execute_result"
    }
   ],
   "source": [
    "sum(make_array(0,1,2) >= 1)"
   ]
  },
  {
   "cell_type": "code",
   "execution_count": 22,
   "id": "26ba1c05-cbda-40c8-806d-ec0a03b0b0cd",
   "metadata": {},
   "outputs": [
    {
     "data": {
      "text/plain": [
       "True"
      ]
     },
     "execution_count": 22,
     "metadata": {},
     "output_type": "execute_result"
    }
   ],
   "source": [
    "sum(make_array(0,1,2,3) <=1) == 2"
   ]
  },
  {
   "cell_type": "markdown",
   "id": "95a21022-be63-49e5-83fd-31db4b158ac2",
   "metadata": {},
   "source": [
    "### Control your computations with an `if` statement"
   ]
  },
  {
   "cell_type": "code",
   "execution_count": 23,
   "id": "5735e8fd-4abc-4e6f-a5bf-fa0b26caffc5",
   "metadata": {},
   "outputs": [],
   "source": [
    "def sign(x):\n",
    "    \"\"\"determines the sign (+/-) of a numeric input\"\"\"\n",
    "    if x > 0:\n",
    "        return 'Positive'\n",
    "    \n",
    "    elif x < 0:\n",
    "        return 'Negative'\n",
    "    \n",
    "    elif x == 0:\n",
    "        return 'Neither positive nor negative'"
   ]
  },
  {
   "cell_type": "code",
   "execution_count": 24,
   "id": "6ba5d3e8-6b48-4ddc-a6fe-bdadbc675eb6",
   "metadata": {},
   "outputs": [
    {
     "data": {
      "text/plain": [
       "'Positive'"
      ]
     },
     "execution_count": 24,
     "metadata": {},
     "output_type": "execute_result"
    }
   ],
   "source": [
    "sign(1)"
   ]
  },
  {
   "cell_type": "code",
   "execution_count": 25,
   "id": "6768635e-609a-492c-9e9b-ad49c2cdb59d",
   "metadata": {},
   "outputs": [
    {
     "data": {
      "text/plain": [
       "'Negative'"
      ]
     },
     "execution_count": 25,
     "metadata": {},
     "output_type": "execute_result"
    }
   ],
   "source": [
    "sign(-1)"
   ]
  },
  {
   "cell_type": "code",
   "execution_count": 26,
   "id": "a5abf41c-1b55-4685-9607-e3c099a00344",
   "metadata": {},
   "outputs": [
    {
     "data": {
      "text/plain": [
       "'Neither positive nor negative'"
      ]
     },
     "execution_count": 26,
     "metadata": {},
     "output_type": "execute_result"
    }
   ],
   "source": [
    "sign(0)"
   ]
  },
  {
   "cell_type": "code",
   "execution_count": 27,
   "id": "d5795d75-7664-4038-a38b-dea770cfc871",
   "metadata": {},
   "outputs": [
    {
     "ename": "TypeError",
     "evalue": "'>' not supported between instances of 'str' and 'int'",
     "output_type": "error",
     "traceback": [
      "\u001b[31m---------------------------------------------------------------------------\u001b[39m",
      "\u001b[31mTypeError\u001b[39m                                 Traceback (most recent call last)",
      "\u001b[36mCell\u001b[39m\u001b[36m \u001b[39m\u001b[32mIn[27]\u001b[39m\u001b[32m, line 1\u001b[39m\n\u001b[32m----> \u001b[39m\u001b[32m1\u001b[39m sign(\u001b[33m'\u001b[39m\u001b[33m-1\u001b[39m\u001b[33m'\u001b[39m)\n",
      "\u001b[36mCell\u001b[39m\u001b[36m \u001b[39m\u001b[32mIn[23]\u001b[39m\u001b[32m, line 3\u001b[39m, in \u001b[36msign\u001b[39m\u001b[34m(x)\u001b[39m\n\u001b[32m      1\u001b[39m \u001b[38;5;28;01mdef\u001b[39;00m\u001b[38;5;250m \u001b[39m\u001b[34msign\u001b[39m(x):\n\u001b[32m      2\u001b[39m \u001b[38;5;250m    \u001b[39m\u001b[33;03m\"\"\"determines the sign (+/-) of a numeric input\"\"\"\u001b[39;00m\n\u001b[32m----> \u001b[39m\u001b[32m3\u001b[39m     \u001b[38;5;28;01mif\u001b[39;00m x > \u001b[32m0\u001b[39m:\n\u001b[32m      4\u001b[39m         \u001b[38;5;28;01mreturn\u001b[39;00m \u001b[33m'\u001b[39m\u001b[33mPositive\u001b[39m\u001b[33m'\u001b[39m\n\u001b[32m      6\u001b[39m     \u001b[38;5;28;01melif\u001b[39;00m x < \u001b[32m0\u001b[39m:\n",
      "\u001b[31mTypeError\u001b[39m: '>' not supported between instances of 'str' and 'int'"
     ]
    }
   ],
   "source": [
    "sign('-1')"
   ]
  },
  {
   "cell_type": "markdown",
   "id": "80b0189c-f075-47df-b831-8298a46f1b70",
   "metadata": {},
   "source": [
    "#### Discussion Question*: \n",
    "- What is the sign of the following expression?\n",
    "\n",
    "```python\n",
    "sign(sum(np.arange(4) <= 1) * -2)\n",
    "```"
   ]
  },
  {
   "cell_type": "code",
   "execution_count": 28,
   "id": "5aae7f01",
   "metadata": {},
   "outputs": [
    {
     "data": {
      "text/plain": [
       "'Negative'"
      ]
     },
     "execution_count": 28,
     "metadata": {},
     "output_type": "execute_result"
    }
   ],
   "source": [
    "sign(sum(np.arange(4) <= 1) * -2)"
   ]
  },
  {
   "cell_type": "markdown",
   "id": "83562aee-9119-4be4-ba47-a24a5a8cd56b",
   "metadata": {},
   "source": [
    "### Control your computations with a `for` loop"
   ]
  },
  {
   "cell_type": "code",
   "execution_count": 29,
   "id": "a8df571a-4f78-48ee-8753-485b390f6b73",
   "metadata": {},
   "outputs": [
    {
     "name": "stdout",
     "output_type": "stream",
     "text": [
      "I am counting to 100. I am at 1\n",
      "I am counting to 100. I am at 2\n",
      "I am counting to 100. I am at 3\n",
      "I am counting to 100. I am at 4\n",
      "I am counting to 100. I am at 5\n"
     ]
    }
   ],
   "source": [
    "for i in np.arange(5):\n",
    "    print(\"I am counting to 100. I am at \" + str(i + 1))"
   ]
  },
  {
   "cell_type": "code",
   "execution_count": 30,
   "id": "d6e0c41f-3a57-4d93-baea-02bdbfc7d0c1",
   "metadata": {},
   "outputs": [
    {
     "name": "stdout",
     "output_type": "stream",
     "text": [
      "Jeremy\n",
      "DeNero\n",
      "Adhikari\n"
     ]
    }
   ],
   "source": [
    "faculty = make_array('Jeremy', 'DeNero', 'Adhikari')\n",
    "\n",
    "for i in faculty:\n",
    "    print(i)"
   ]
  },
  {
   "cell_type": "code",
   "execution_count": 53,
   "id": "c3278d51",
   "metadata": {},
   "outputs": [],
   "source": [
    "def bet_on_one_roll():\n",
    "    \"\"\"Returns my net gain on one bet\"\"\"\n",
    "    x = np.random.choice(np.arange(1, 7))  # roll a die once and record the number of spots\n",
    "    if x <= 2:\n",
    "        return -1\n",
    "    elif x <= 4:\n",
    "        return 0\n",
    "    elif x <= 6:\n",
    "        return 1"
   ]
  },
  {
   "cell_type": "code",
   "execution_count": 60,
   "id": "49b1de09",
   "metadata": {},
   "outputs": [],
   "source": [
    "outcomes = np.array([])\n",
    "\n",
    "for i in np.arange(20000):\n",
    "    outcome_of_bet = bet_on_one_roll()\n",
    "    outcomes = np.append(outcomes, outcome_of_bet)\n",
    "    "
   ]
  },
  {
   "cell_type": "code",
   "execution_count": 61,
   "id": "4b4aae85",
   "metadata": {},
   "outputs": [
    {
     "data": {
      "image/png": "[encoded data removed]",
      "text/plain": [
       "<Figure size 600x400 with 1 Axes>"
      ]
     },
     "metadata": {},
     "output_type": "display_data"
    }
   ],
   "source": [
    "outcome_table = Table().with_column('Outcome', outcomes)\n",
    "outcome_table.group('Outcome').barh(0)\n",
    "plots.show()"
   ]
  },
  {
   "cell_type": "code",
   "execution_count": null,
   "id": "adb2726e",
   "metadata": {},
   "outputs": [],
   "source": []
  }
 ],
 "metadata": {
  "kernelspec": {
   "display_name": "data8",
   "language": "python",
   "name": "python3"
  },
  "language_info": {
   "codemirror_mode": {
    "name": "ipython",
    "version": 3
   },
   "file_extension": ".py",
   "mimetype": "text/x-python",
   "name": "python",
   "nbconvert_exporter": "python",
   "pygments_lexer": "ipython3",
   "version": "3.12.3"
  }
 },
 "nbformat": 4,
 "nbformat_minor": 5
}
