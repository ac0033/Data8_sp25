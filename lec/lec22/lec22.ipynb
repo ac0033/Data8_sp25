{
 "cells": [
  {
   "cell_type": "code",
   "execution_count": 1,
   "id": "fca6d9dd-068e-49d4-a21d-f141222b0712",
   "metadata": {},
   "outputs": [],
   "source": [
    "from datascience import *\n",
    "import numpy as np\n",
    "\n",
    "%matplotlib inline\n",
    "import matplotlib.pyplot as plt\n",
    "plt.style.use('fivethirtyeight')"
   ]
  },
  {
   "cell_type": "markdown",
   "id": "fc17d025-491d-4b1a-ab17-d462075eb62f",
   "metadata": {},
   "source": [
    "## Review"
   ]
  },
  {
   "cell_type": "code",
   "execution_count": 2,
   "id": "ff5404e6-a518-4726-b854-033b10154df1",
   "metadata": {},
   "outputs": [],
   "source": [
    "restaurants = Table().read_table('berkeley-restaurants.csv').where('Neighborhood',\n",
    "                                                 are.contained_in(make_array('Southside',\n",
    "                                                                             'North Berkeley')))"
   ]
  },
  {
   "cell_type": "code",
   "execution_count": 3,
   "id": "a23cc796-7959-439b-b998-663ba653bc6e",
   "metadata": {},
   "outputs": [
    {
     "data": {
      "text/html": [
       "<table border=\"1\" class=\"dataframe\">\n",
       "    <thead>\n",
       "        <tr>\n",
       "            <th>Name</th> <th>Cuisine</th> <th>Neighborhood</th> <th>Reviews</th> <th>Price</th> <th>Rating</th> <th>Open Time</th> <th>Close Time</th> <th>Photos</th>\n",
       "        </tr>\n",
       "    </thead>\n",
       "    <tbody>\n",
       "        <tr>\n",
       "            <td>Agrodolce Osteria               </td> <td>Italian    </td> <td>North Berkeley</td> <td>421    </td> <td>2    </td> <td>4.3   </td> <td>17       </td> <td>21.75     </td> <td>298   </td>\n",
       "        </tr>\n",
       "        <tr>\n",
       "            <td>Artichoke Basille’s Pizza       </td> <td>Pizza      </td> <td>Southside     </td> <td>896    </td> <td>1    </td> <td>4.6   </td> <td>11       </td> <td>27        </td> <td>281   </td>\n",
       "        </tr>\n",
       "        <tr>\n",
       "            <td>Barney’s Gourmet Hamburgers     </td> <td>Hamburger  </td> <td>North Berkeley</td> <td>633    </td> <td>2    </td> <td>4.4   </td> <td>11       </td> <td>21        </td> <td>303   </td>\n",
       "        </tr>\n",
       "        <tr>\n",
       "            <td>Berkeley Thai House             </td> <td>Thai       </td> <td>Southside     </td> <td>159    </td> <td>2    </td> <td>4.3   </td> <td>17       </td> <td>21        </td> <td>223   </td>\n",
       "        </tr>\n",
       "        <tr>\n",
       "            <td>Cafe Milano                     </td> <td>Cafe       </td> <td>Southside     </td> <td>283    </td> <td>1    </td> <td>4.2   </td> <td>8        </td> <td>20        </td> <td>126   </td>\n",
       "        </tr>\n",
       "        <tr>\n",
       "            <td>Caffe Strada                    </td> <td>Coffee Shop</td> <td>Southside     </td> <td>919    </td> <td>1    </td> <td>4.3   </td> <td>7        </td> <td>23        </td> <td>355   </td>\n",
       "        </tr>\n",
       "        <tr>\n",
       "            <td>Caravaggio Gelato Lab           </td> <td>Gelato     </td> <td>North Berkeley</td> <td>326    </td> <td>2    </td> <td>4.7   </td> <td>13       </td> <td>22        </td> <td>144   </td>\n",
       "        </tr>\n",
       "        <tr>\n",
       "            <td>Cha Ya                          </td> <td>Japanese   </td> <td>North Berkeley</td> <td>330    </td> <td>2    </td> <td>4.5   </td> <td>12       </td> <td>20        </td> <td>326   </td>\n",
       "        </tr>\n",
       "        <tr>\n",
       "            <td>Cheese Board Collective Pizzeria</td> <td>Pizza      </td> <td>North Berkeley</td> <td>2941   </td> <td>1    </td> <td>4.8   </td> <td>4        </td> <td>17.5      </td> <td>1891  </td>\n",
       "        </tr>\n",
       "        <tr>\n",
       "            <td>Chengdu Style Restaurant        </td> <td>Chinese    </td> <td>Southside     </td> <td>482    </td> <td>1    </td> <td>4.2   </td> <td>11       </td> <td>21        </td> <td>207   </td>\n",
       "        </tr>\n",
       "    </tbody>\n",
       "</table>\n",
       "<p>... (37 rows omitted)</p>"
      ],
      "text/plain": [
       "Name                             | Cuisine     | Neighborhood   | Reviews | Price | Rating | Open Time | Close Time | Photos\n",
       "Agrodolce Osteria                | Italian     | North Berkeley | 421     | 2     | 4.3    | 17        | 21.75      | 298\n",
       "Artichoke Basille’s Pizza        | Pizza       | Southside      | 896     | 1     | 4.6    | 11        | 27         | 281\n",
       "Barney’s Gourmet Hamburgers      | Hamburger   | North Berkeley | 633     | 2     | 4.4    | 11        | 21         | 303\n",
       "Berkeley Thai House              | Thai        | Southside      | 159     | 2     | 4.3    | 17        | 21         | 223\n",
       "Cafe Milano                      | Cafe        | Southside      | 283     | 1     | 4.2    | 8         | 20         | 126\n",
       "Caffe Strada                     | Coffee Shop | Southside      | 919     | 1     | 4.3    | 7         | 23         | 355\n",
       "Caravaggio Gelato Lab            | Gelato      | North Berkeley | 326     | 2     | 4.7    | 13        | 22         | 144\n",
       "Cha Ya                           | Japanese    | North Berkeley | 330     | 2     | 4.5    | 12        | 20         | 326\n",
       "Cheese Board Collective Pizzeria | Pizza       | North Berkeley | 2941    | 1     | 4.8    | 4         | 17.5       | 1891\n",
       "Chengdu Style Restaurant         | Chinese     | Southside      | 482     | 1     | 4.2    | 11        | 21         | 207\n",
       "... (37 rows omitted)"
      ]
     },
     "execution_count": 3,
     "metadata": {},
     "output_type": "execute_result"
    }
   ],
   "source": [
    "restaurants"
   ]
  },
  {
   "cell_type": "markdown",
   "id": "0b65e889-e28d-46b4-a19f-a8f6f8d1c231",
   "metadata": {},
   "source": [
    "### Review Question 1"
   ]
  },
  {
   "cell_type": "code",
   "execution_count": 6,
   "id": "629dd0e4-a500-4a89-a5e7-1e7ed26cb589",
   "metadata": {},
   "outputs": [
    {
     "data": {
      "image/png": "[encoded data removed]",
      "text/plain": [
       "<Figure size 600x1550 with 1 Axes>"
      ]
     },
     "metadata": {},
     "output_type": "display_data"
    }
   ],
   "source": [
    "restaurants.group('Cuisine').sort('count',descending=True).barh('Cuisine')\n",
    "plt.show()"
   ]
  },
  {
   "cell_type": "markdown",
   "id": "65a1cd12-3041-469a-89fa-7c1eaf644e10",
   "metadata": {},
   "source": [
    "### Review Question 2"
   ]
  },
  {
   "cell_type": "code",
   "execution_count": 7,
   "id": "307a689a-64d5-45e8-8c17-cfe272c7cac8",
   "metadata": {},
   "outputs": [
    {
     "data": {
      "text/plain": [
       "array([  4.75,  16.  ,  10.  ,   4.  ,  12.  ,  16.  ,   9.  ,   8.  ,\n",
       "        13.5 ,  10.  ,  12.  ,  13.  ,  11.  ,   5.  ,   7.  ,  10.  ,\n",
       "         7.5 ,  14.  ,   6.  ,  15.  ,   3.5 ,  10.5 ,  11.  ,  15.  ,\n",
       "         9.  ,   5.  ,  12.  ,  10.5 ,   4.5 ,  10.  ,   8.5 ,  13.  ,\n",
       "         7.  ,  13.  ,  10.  ,   9.5 ,   9.5 ,  15.  ,  10.  ,   5.  ,\n",
       "         5.5 ,  16.  ,   9.5 ,   5.  ,  13.  ,   9.  ,  11.5 ])"
      ]
     },
     "execution_count": 7,
     "metadata": {},
     "output_type": "execute_result"
    }
   ],
   "source": [
    "restaurants.column('Close Time')-restaurants.column('Open Time')"
   ]
  },
  {
   "cell_type": "code",
   "execution_count": 8,
   "id": "6cd984ce-05f3-4441-aad4-a221dc8bb9c1",
   "metadata": {},
   "outputs": [
    {
     "data": {
      "text/html": [
       "<table border=\"1\" class=\"dataframe\">\n",
       "    <thead>\n",
       "        <tr>\n",
       "            <th>Name</th> <th>Cuisine</th> <th>Neighborhood</th> <th>Reviews</th> <th>Price</th> <th>Rating</th> <th>Open Time</th> <th>Close Time</th> <th>Photos</th> <th>Time Open</th>\n",
       "        </tr>\n",
       "    </thead>\n",
       "    <tbody>\n",
       "        <tr>\n",
       "            <td>Agrodolce Osteria               </td> <td>Italian    </td> <td>North Berkeley</td> <td>421    </td> <td>2    </td> <td>4.3   </td> <td>17       </td> <td>21.75     </td> <td>298   </td> <td>4.75     </td>\n",
       "        </tr>\n",
       "        <tr>\n",
       "            <td>Artichoke Basille’s Pizza       </td> <td>Pizza      </td> <td>Southside     </td> <td>896    </td> <td>1    </td> <td>4.6   </td> <td>11       </td> <td>27        </td> <td>281   </td> <td>16       </td>\n",
       "        </tr>\n",
       "        <tr>\n",
       "            <td>Barney’s Gourmet Hamburgers     </td> <td>Hamburger  </td> <td>North Berkeley</td> <td>633    </td> <td>2    </td> <td>4.4   </td> <td>11       </td> <td>21        </td> <td>303   </td> <td>10       </td>\n",
       "        </tr>\n",
       "        <tr>\n",
       "            <td>Berkeley Thai House             </td> <td>Thai       </td> <td>Southside     </td> <td>159    </td> <td>2    </td> <td>4.3   </td> <td>17       </td> <td>21        </td> <td>223   </td> <td>4        </td>\n",
       "        </tr>\n",
       "        <tr>\n",
       "            <td>Cafe Milano                     </td> <td>Cafe       </td> <td>Southside     </td> <td>283    </td> <td>1    </td> <td>4.2   </td> <td>8        </td> <td>20        </td> <td>126   </td> <td>12       </td>\n",
       "        </tr>\n",
       "        <tr>\n",
       "            <td>Caffe Strada                    </td> <td>Coffee Shop</td> <td>Southside     </td> <td>919    </td> <td>1    </td> <td>4.3   </td> <td>7        </td> <td>23        </td> <td>355   </td> <td>16       </td>\n",
       "        </tr>\n",
       "        <tr>\n",
       "            <td>Caravaggio Gelato Lab           </td> <td>Gelato     </td> <td>North Berkeley</td> <td>326    </td> <td>2    </td> <td>4.7   </td> <td>13       </td> <td>22        </td> <td>144   </td> <td>9        </td>\n",
       "        </tr>\n",
       "        <tr>\n",
       "            <td>Cha Ya                          </td> <td>Japanese   </td> <td>North Berkeley</td> <td>330    </td> <td>2    </td> <td>4.5   </td> <td>12       </td> <td>20        </td> <td>326   </td> <td>8        </td>\n",
       "        </tr>\n",
       "        <tr>\n",
       "            <td>Cheese Board Collective Pizzeria</td> <td>Pizza      </td> <td>North Berkeley</td> <td>2941   </td> <td>1    </td> <td>4.8   </td> <td>4        </td> <td>17.5      </td> <td>1891  </td> <td>13.5     </td>\n",
       "        </tr>\n",
       "        <tr>\n",
       "            <td>Chengdu Style Restaurant        </td> <td>Chinese    </td> <td>Southside     </td> <td>482    </td> <td>1    </td> <td>4.2   </td> <td>11       </td> <td>21        </td> <td>207   </td> <td>10       </td>\n",
       "        </tr>\n",
       "    </tbody>\n",
       "</table>\n",
       "<p>... (37 rows omitted)</p>"
      ],
      "text/plain": [
       "Name                             | Cuisine     | Neighborhood   | Reviews | Price | Rating | Open Time | Close Time | Photos | Time Open\n",
       "Agrodolce Osteria                | Italian     | North Berkeley | 421     | 2     | 4.3    | 17        | 21.75      | 298    | 4.75\n",
       "Artichoke Basille’s Pizza        | Pizza       | Southside      | 896     | 1     | 4.6    | 11        | 27         | 281    | 16\n",
       "Barney’s Gourmet Hamburgers      | Hamburger   | North Berkeley | 633     | 2     | 4.4    | 11        | 21         | 303    | 10\n",
       "Berkeley Thai House              | Thai        | Southside      | 159     | 2     | 4.3    | 17        | 21         | 223    | 4\n",
       "Cafe Milano                      | Cafe        | Southside      | 283     | 1     | 4.2    | 8         | 20         | 126    | 12\n",
       "Caffe Strada                     | Coffee Shop | Southside      | 919     | 1     | 4.3    | 7         | 23         | 355    | 16\n",
       "Caravaggio Gelato Lab            | Gelato      | North Berkeley | 326     | 2     | 4.7    | 13        | 22         | 144    | 9\n",
       "Cha Ya                           | Japanese    | North Berkeley | 330     | 2     | 4.5    | 12        | 20         | 326    | 8\n",
       "Cheese Board Collective Pizzeria | Pizza       | North Berkeley | 2941    | 1     | 4.8    | 4         | 17.5       | 1891   | 13.5\n",
       "Chengdu Style Restaurant         | Chinese     | Southside      | 482     | 1     | 4.2    | 11        | 21         | 207    | 10\n",
       "... (37 rows omitted)"
      ]
     },
     "execution_count": 8,
     "metadata": {},
     "output_type": "execute_result"
    }
   ],
   "source": [
    "restaurants.with_columns('Time Open', \n",
    "                         restaurants.column('Close Time')-restaurants.column('Open Time'))"
   ]
  },
  {
   "cell_type": "markdown",
   "id": "cb59deaf-1731-4141-ad79-6f92fa40e23f",
   "metadata": {},
   "source": [
    "### Review Question 3"
   ]
  },
  {
   "cell_type": "code",
   "execution_count": 9,
   "id": "de6f22ba-fb83-4205-b759-34055f0ad51a",
   "metadata": {},
   "outputs": [],
   "source": [
    "def simulated_difference(table, group_label, variable_label, function):\n",
    "    \"\"\"\n",
    "    Takes: \n",
    "       - name of table\n",
    "       - column label of numerical variable\n",
    "       - column label of categorical variable\n",
    "       - statistic to be calculated (as a function)\n",
    "       \n",
    "    Returns: Difference in statistics of the two groups\n",
    "    \"\"\"\n",
    "    shuffled_group = table.select(group_label).sample(with_replacement=False)\n",
    "    simulated_table = Table().with_columns(group_label, shuffled_group.column(0),\n",
    "                                        variable_label, table.column(variable_label))\n",
    "    \n",
    "    stats_array = simulated_table.group(group_label, function).column(1)\n",
    "    \n",
    "    \n",
    "    return stats_array.item(0)-stats_array.item(1)"
   ]
  },
  {
   "cell_type": "code",
   "execution_count": 10,
   "id": "95ea6793-0dfe-45c2-bbea-fde32bf76ff0",
   "metadata": {},
   "outputs": [
    {
     "data": {
      "text/html": [
       "<table border=\"1\" class=\"dataframe\">\n",
       "    <thead>\n",
       "        <tr>\n",
       "            <th>Neighborhood</th> <th>Price average</th>\n",
       "        </tr>\n",
       "    </thead>\n",
       "    <tbody>\n",
       "        <tr>\n",
       "            <td>North Berkeley</td> <td>1.89474      </td>\n",
       "        </tr>\n",
       "        <tr>\n",
       "            <td>Southside     </td> <td>1.17857      </td>\n",
       "        </tr>\n",
       "    </tbody>\n",
       "</table>"
      ],
      "text/plain": [
       "Neighborhood   | Price average\n",
       "North Berkeley | 1.89474\n",
       "Southside      | 1.17857"
      ]
     },
     "execution_count": 10,
     "metadata": {},
     "output_type": "execute_result"
    }
   ],
   "source": [
    "restaurants.group('Neighborhood', np.average).select('Neighborhood','Price average')"
   ]
  },
  {
   "cell_type": "code",
   "execution_count": 11,
   "id": "ce54eebe-8560-4e05-a40b-707563c9c02b",
   "metadata": {},
   "outputs": [],
   "source": [
    "group_array = restaurants.group('Neighborhood', np.average).column('Price average')"
   ]
  },
  {
   "cell_type": "code",
   "execution_count": 12,
   "id": "212917b7-6dbc-4c0f-9b34-6aa357cb14b2",
   "metadata": {},
   "outputs": [
    {
     "data": {
      "text/plain": [
       "0.7161654135338344"
      ]
     },
     "execution_count": 12,
     "metadata": {},
     "output_type": "execute_result"
    }
   ],
   "source": [
    "observed_difference = group_array.item(0)-group_array.item(1)\n",
    "observed_difference"
   ]
  },
  {
   "cell_type": "code",
   "execution_count": 13,
   "id": "6c2fe22e-773e-4f8e-abd0-4b0ba97a0370",
   "metadata": {},
   "outputs": [
    {
     "data": {
      "text/html": [
       "<table border=\"1\" class=\"dataframe\">\n",
       "    <thead>\n",
       "        <tr>\n",
       "            <th>Neighborhood</th> <th>count</th>\n",
       "        </tr>\n",
       "    </thead>\n",
       "    <tbody>\n",
       "        <tr>\n",
       "            <td>North Berkeley</td> <td>19   </td>\n",
       "        </tr>\n",
       "        <tr>\n",
       "            <td>Southside     </td> <td>28   </td>\n",
       "        </tr>\n",
       "    </tbody>\n",
       "</table>"
      ],
      "text/plain": [
       "Neighborhood   | count\n",
       "North Berkeley | 19\n",
       "Southside      | 28"
      ]
     },
     "execution_count": 13,
     "metadata": {},
     "output_type": "execute_result"
    }
   ],
   "source": [
    "restaurants.group('Neighborhood')"
   ]
  },
  {
   "cell_type": "markdown",
   "id": "41a3ef65-af1b-41c9-943d-d1229969ae70",
   "metadata": {},
   "source": [
    "### Review Question 4"
   ]
  },
  {
   "cell_type": "markdown",
   "id": "f13cabb7-cd01-4516-83d6-bbb10f469126",
   "metadata": {},
   "source": [
    "### Review Question 5"
   ]
  },
  {
   "cell_type": "code",
   "execution_count": 22,
   "id": "23737e9c",
   "metadata": {},
   "outputs": [
    {
     "data": {
      "text/html": [
       "<table border=\"1\" class=\"dataframe\">\n",
       "    <thead>\n",
       "        <tr>\n",
       "            <th>Price</th> <th>North Berkeley</th> <th>Southside</th>\n",
       "        </tr>\n",
       "    </thead>\n",
       "    <tbody>\n",
       "        <tr>\n",
       "            <td>1    </td> <td>2             </td> <td>23       </td>\n",
       "        </tr>\n",
       "        <tr>\n",
       "            <td>2    </td> <td>17            </td> <td>5        </td>\n",
       "        </tr>\n",
       "    </tbody>\n",
       "</table>"
      ],
      "text/plain": [
       "Price | North Berkeley | Southside\n",
       "1     | 2              | 23\n",
       "2     | 17             | 5"
      ]
     },
     "execution_count": 22,
     "metadata": {},
     "output_type": "execute_result"
    }
   ],
   "source": [
    "restaurants.pivot('Neighborhood','Price')"
   ]
  },
  {
   "cell_type": "code",
   "execution_count": 16,
   "id": "c38d9de5-0c2a-4d68-a56f-cac8c4121885",
   "metadata": {},
   "outputs": [
    {
     "data": {
      "image/png": "[encoded data removed]",
      "text/plain": [
       "<Figure size 600x400 with 1 Axes>"
      ]
     },
     "metadata": {},
     "output_type": "display_data"
    }
   ],
   "source": [
    "restaurants.pivot('Neighborhood','Price').barh('Price')\n",
    "plt.show()"
   ]
  },
  {
   "cell_type": "code",
   "execution_count": 17,
   "id": "c97b086f-eec7-47e5-8b9f-32a3ea22141c",
   "metadata": {},
   "outputs": [
    {
     "data": {
      "text/plain": [
       "-0.07894736842105265"
      ]
     },
     "execution_count": 17,
     "metadata": {},
     "output_type": "execute_result"
    }
   ],
   "source": [
    "simulated_difference(restaurants,'Neighborhood','Price',np.average)"
   ]
  },
  {
   "cell_type": "code",
   "execution_count": 18,
   "id": "703d5f24-342d-4113-8653-b4f56110a7c6",
   "metadata": {},
   "outputs": [],
   "source": [
    "simulated_differences = make_array()\n",
    "\n",
    "for i in np.arange(1000):\n",
    "    one_difference = simulated_difference(restaurants,'Neighborhood','Price',np.average)\n",
    "    simulated_differences = np.append(simulated_differences, one_difference)"
   ]
  },
  {
   "cell_type": "code",
   "execution_count": 19,
   "id": "864e2ac8-2002-458f-ab5c-2615f73d4a05",
   "metadata": {},
   "outputs": [
    {
     "data": {
      "text/plain": [
       "array([-0.07894737,  0.09774436, -0.34398496, -0.2556391 ,  0.0093985 ,\n",
       "        0.0093985 , -0.16729323,  0.09774436, -0.07894737,  0.09774436,\n",
       "        0.09774436,  0.0093985 ,  0.09774436,  0.09774436,  0.09774436,\n",
       "       -0.07894737,  0.09774436,  0.0093985 , -0.16729323,  0.09774436,\n",
       "        0.0093985 ,  0.18609023,  0.0093985 ,  0.36278195, -0.16729323,\n",
       "        0.0093985 , -0.16729323, -0.07894737, -0.07894737,  0.09774436,\n",
       "       -0.07894737, -0.07894737,  0.09774436,  0.36278195,  0.09774436,\n",
       "       -0.16729323,  0.0093985 ,  0.0093985 ,  0.0093985 ,  0.18609023,\n",
       "       -0.07894737, -0.07894737, -0.07894737,  0.18609023,  0.09774436,\n",
       "       -0.07894737,  0.09774436,  0.0093985 ,  0.0093985 , -0.07894737,\n",
       "       -0.16729323, -0.07894737,  0.09774436, -0.16729323, -0.07894737,\n",
       "       -0.07894737, -0.16729323, -0.07894737, -0.07894737,  0.0093985 ,\n",
       "       -0.07894737, -0.34398496,  0.09774436, -0.16729323, -0.07894737,\n",
       "        0.09774436,  0.18609023, -0.07894737, -0.16729323,  0.0093985 ,\n",
       "        0.0093985 ,  0.09774436,  0.0093985 , -0.16729323,  0.09774436,\n",
       "        0.18609023, -0.16729323, -0.07894737,  0.18609023,  0.27443609,\n",
       "       -0.2556391 ,  0.09774436,  0.0093985 , -0.07894737, -0.07894737,\n",
       "       -0.2556391 ,  0.18609023,  0.18609023, -0.07894737,  0.0093985 ,\n",
       "        0.18609023,  0.0093985 , -0.07894737,  0.0093985 ,  0.18609023,\n",
       "       -0.07894737,  0.0093985 ,  0.18609023,  0.27443609,  0.09774436,\n",
       "        0.0093985 , -0.07894737, -0.07894737,  0.0093985 ,  0.0093985 ,\n",
       "        0.09774436, -0.16729323,  0.0093985 , -0.2556391 , -0.16729323,\n",
       "        0.09774436,  0.0093985 , -0.16729323,  0.09774436,  0.09774436,\n",
       "        0.0093985 , -0.16729323,  0.0093985 ,  0.09774436, -0.07894737,\n",
       "       -0.07894737, -0.07894737, -0.07894737, -0.43233083, -0.07894737,\n",
       "        0.0093985 , -0.2556391 ,  0.09774436, -0.16729323,  0.18609023,\n",
       "        0.0093985 , -0.16729323,  0.0093985 ,  0.0093985 , -0.2556391 ,\n",
       "        0.18609023,  0.0093985 , -0.16729323, -0.07894737,  0.0093985 ,\n",
       "       -0.16729323,  0.18609023, -0.07894737,  0.0093985 ,  0.0093985 ,\n",
       "       -0.07894737,  0.0093985 ,  0.0093985 ,  0.09774436,  0.0093985 ,\n",
       "        0.36278195,  0.0093985 ,  0.27443609, -0.07894737, -0.07894737,\n",
       "        0.18609023,  0.0093985 ,  0.0093985 , -0.07894737,  0.0093985 ,\n",
       "        0.27443609,  0.09774436,  0.09774436,  0.09774436, -0.07894737,\n",
       "        0.18609023,  0.09774436,  0.09774436,  0.18609023,  0.0093985 ,\n",
       "       -0.07894737, -0.07894737,  0.18609023,  0.09774436, -0.34398496,\n",
       "       -0.2556391 , -0.16729323,  0.0093985 ,  0.18609023, -0.07894737,\n",
       "       -0.07894737,  0.0093985 ,  0.0093985 ,  0.18609023,  0.0093985 ,\n",
       "        0.0093985 , -0.07894737, -0.07894737,  0.27443609,  0.0093985 ,\n",
       "        0.09774436, -0.07894737,  0.0093985 , -0.07894737, -0.07894737,\n",
       "       -0.16729323,  0.09774436, -0.07894737,  0.0093985 , -0.16729323,\n",
       "        0.09774436,  0.0093985 ,  0.09774436, -0.07894737,  0.0093985 ,\n",
       "        0.0093985 , -0.2556391 ,  0.27443609,  0.18609023, -0.07894737,\n",
       "        0.0093985 ,  0.18609023, -0.16729323,  0.09774436,  0.18609023,\n",
       "       -0.07894737, -0.07894737,  0.0093985 , -0.07894737,  0.09774436,\n",
       "       -0.16729323,  0.18609023, -0.07894737,  0.09774436, -0.2556391 ,\n",
       "       -0.07894737, -0.16729323,  0.0093985 , -0.07894737,  0.0093985 ,\n",
       "       -0.07894737,  0.0093985 ,  0.0093985 , -0.07894737,  0.45112782,\n",
       "        0.09774436, -0.16729323, -0.16729323, -0.07894737, -0.07894737,\n",
       "        0.0093985 ,  0.27443609, -0.16729323,  0.0093985 ,  0.09774436,\n",
       "       -0.2556391 ,  0.0093985 , -0.2556391 ,  0.0093985 , -0.34398496,\n",
       "       -0.07894737,  0.09774436,  0.09774436,  0.09774436, -0.07894737,\n",
       "       -0.07894737, -0.34398496,  0.09774436,  0.0093985 ,  0.18609023,\n",
       "        0.18609023, -0.07894737,  0.0093985 ,  0.0093985 ,  0.0093985 ,\n",
       "        0.18609023,  0.09774436, -0.07894737,  0.0093985 ,  0.0093985 ,\n",
       "       -0.16729323,  0.09774436,  0.0093985 , -0.07894737, -0.34398496,\n",
       "       -0.16729323,  0.0093985 ,  0.18609023,  0.09774436,  0.0093985 ,\n",
       "       -0.07894737, -0.34398496,  0.27443609,  0.18609023, -0.07894737,\n",
       "       -0.2556391 ,  0.0093985 ,  0.09774436,  0.09774436, -0.16729323,\n",
       "       -0.07894737,  0.18609023,  0.09774436,  0.0093985 ,  0.18609023,\n",
       "       -0.07894737, -0.07894737,  0.0093985 , -0.07894737,  0.09774436,\n",
       "        0.18609023, -0.2556391 ,  0.18609023,  0.0093985 ,  0.18609023,\n",
       "        0.18609023,  0.09774436,  0.27443609,  0.0093985 ,  0.09774436,\n",
       "        0.09774436,  0.09774436, -0.07894737,  0.18609023,  0.0093985 ,\n",
       "        0.18609023, -0.07894737,  0.0093985 , -0.07894737,  0.0093985 ,\n",
       "        0.09774436,  0.27443609, -0.2556391 ,  0.18609023,  0.09774436,\n",
       "        0.0093985 ,  0.09774436, -0.07894737, -0.07894737,  0.0093985 ,\n",
       "       -0.07894737,  0.0093985 , -0.07894737,  0.09774436,  0.09774436,\n",
       "        0.0093985 , -0.07894737,  0.0093985 ,  0.0093985 ,  0.0093985 ,\n",
       "        0.09774436, -0.16729323, -0.07894737,  0.0093985 ,  0.18609023,\n",
       "        0.18609023, -0.07894737,  0.18609023,  0.27443609,  0.0093985 ,\n",
       "        0.0093985 ,  0.0093985 , -0.2556391 ,  0.09774436, -0.16729323,\n",
       "       -0.2556391 , -0.07894737, -0.16729323, -0.07894737, -0.34398496,\n",
       "       -0.2556391 , -0.16729323,  0.0093985 , -0.07894737,  0.09774436,\n",
       "       -0.07894737,  0.45112782, -0.16729323,  0.45112782,  0.09774436,\n",
       "       -0.2556391 ,  0.09774436,  0.18609023, -0.07894737,  0.27443609,\n",
       "        0.18609023,  0.0093985 ,  0.0093985 ,  0.09774436,  0.18609023,\n",
       "        0.0093985 , -0.07894737,  0.0093985 , -0.07894737, -0.07894737,\n",
       "       -0.07894737,  0.09774436,  0.09774436,  0.09774436, -0.07894737,\n",
       "       -0.2556391 ,  0.09774436,  0.0093985 ,  0.09774436,  0.0093985 ,\n",
       "       -0.2556391 , -0.16729323,  0.09774436,  0.09774436,  0.0093985 ,\n",
       "        0.0093985 ,  0.0093985 ,  0.09774436, -0.34398496,  0.09774436,\n",
       "        0.36278195, -0.07894737,  0.0093985 ,  0.18609023,  0.18609023,\n",
       "        0.27443609,  0.0093985 ,  0.0093985 , -0.07894737, -0.07894737,\n",
       "       -0.07894737,  0.09774436, -0.07894737, -0.2556391 ,  0.0093985 ,\n",
       "        0.18609023,  0.0093985 ,  0.18609023, -0.07894737, -0.07894737,\n",
       "        0.0093985 ,  0.27443609,  0.09774436, -0.16729323,  0.18609023,\n",
       "       -0.07894737,  0.0093985 , -0.34398496,  0.0093985 , -0.16729323,\n",
       "        0.0093985 , -0.07894737,  0.27443609,  0.0093985 , -0.07894737,\n",
       "        0.0093985 ,  0.0093985 ,  0.18609023,  0.0093985 ,  0.18609023,\n",
       "       -0.16729323, -0.07894737, -0.07894737,  0.0093985 ,  0.18609023,\n",
       "        0.09774436,  0.09774436, -0.16729323,  0.0093985 , -0.07894737,\n",
       "        0.0093985 , -0.16729323,  0.27443609, -0.07894737, -0.07894737,\n",
       "        0.0093985 , -0.2556391 ,  0.18609023,  0.09774436,  0.0093985 ,\n",
       "        0.09774436,  0.18609023,  0.09774436,  0.0093985 ,  0.18609023,\n",
       "       -0.07894737,  0.18609023, -0.07894737,  0.0093985 ,  0.09774436,\n",
       "       -0.16729323, -0.07894737,  0.0093985 , -0.16729323,  0.09774436,\n",
       "       -0.07894737,  0.09774436,  0.09774436,  0.0093985 ,  0.0093985 ,\n",
       "        0.0093985 , -0.34398496,  0.0093985 ,  0.0093985 ,  0.09774436,\n",
       "       -0.16729323,  0.0093985 ,  0.18609023, -0.34398496,  0.0093985 ,\n",
       "       -0.16729323, -0.2556391 ,  0.0093985 , -0.34398496, -0.07894737,\n",
       "       -0.07894737,  0.09774436,  0.18609023, -0.07894737,  0.0093985 ,\n",
       "        0.0093985 , -0.07894737,  0.0093985 ,  0.0093985 ,  0.18609023,\n",
       "        0.0093985 ,  0.09774436,  0.0093985 , -0.07894737,  0.27443609,\n",
       "       -0.2556391 ,  0.18609023,  0.0093985 , -0.2556391 , -0.07894737,\n",
       "        0.18609023,  0.09774436,  0.0093985 , -0.16729323, -0.07894737,\n",
       "        0.09774436,  0.18609023, -0.07894737,  0.0093985 ,  0.27443609,\n",
       "        0.18609023,  0.36278195, -0.07894737,  0.18609023,  0.09774436,\n",
       "        0.36278195, -0.16729323,  0.0093985 , -0.07894737, -0.2556391 ,\n",
       "        0.09774436,  0.09774436, -0.07894737,  0.0093985 , -0.07894737,\n",
       "       -0.43233083, -0.07894737,  0.0093985 ,  0.0093985 ,  0.0093985 ,\n",
       "       -0.16729323,  0.09774436,  0.09774436, -0.07894737, -0.07894737,\n",
       "        0.09774436, -0.07894737, -0.34398496,  0.18609023, -0.07894737,\n",
       "        0.09774436,  0.09774436,  0.09774436,  0.0093985 , -0.16729323,\n",
       "        0.18609023,  0.0093985 , -0.07894737,  0.18609023,  0.36278195,\n",
       "        0.09774436, -0.07894737,  0.09774436,  0.09774436,  0.09774436,\n",
       "       -0.2556391 ,  0.09774436,  0.09774436, -0.07894737, -0.2556391 ,\n",
       "        0.0093985 , -0.07894737, -0.16729323,  0.0093985 ,  0.0093985 ,\n",
       "        0.09774436,  0.0093985 ,  0.18609023,  0.18609023, -0.07894737,\n",
       "        0.18609023, -0.07894737,  0.18609023,  0.0093985 ,  0.0093985 ,\n",
       "        0.0093985 , -0.07894737,  0.09774436,  0.18609023, -0.16729323,\n",
       "        0.0093985 ,  0.09774436,  0.0093985 ,  0.09774436,  0.0093985 ,\n",
       "        0.27443609,  0.36278195,  0.0093985 ,  0.18609023,  0.0093985 ,\n",
       "       -0.16729323, -0.16729323, -0.2556391 ,  0.18609023,  0.09774436,\n",
       "       -0.07894737,  0.0093985 ,  0.09774436,  0.18609023,  0.0093985 ,\n",
       "        0.0093985 ,  0.18609023,  0.0093985 ,  0.27443609,  0.18609023,\n",
       "        0.09774436,  0.18609023,  0.09774436,  0.09774436,  0.0093985 ,\n",
       "        0.18609023, -0.07894737,  0.0093985 ,  0.18609023, -0.07894737,\n",
       "        0.09774436,  0.0093985 ,  0.09774436,  0.0093985 ,  0.09774436,\n",
       "        0.18609023,  0.0093985 , -0.07894737, -0.07894737, -0.07894737,\n",
       "       -0.2556391 ,  0.09774436,  0.0093985 ,  0.36278195, -0.2556391 ,\n",
       "       -0.07894737, -0.16729323,  0.0093985 , -0.07894737,  0.18609023,\n",
       "        0.0093985 , -0.16729323, -0.07894737,  0.18609023,  0.09774436,\n",
       "       -0.07894737,  0.18609023, -0.07894737,  0.0093985 , -0.2556391 ,\n",
       "       -0.07894737,  0.18609023,  0.0093985 , -0.07894737,  0.18609023,\n",
       "        0.0093985 , -0.2556391 ,  0.18609023, -0.07894737,  0.18609023,\n",
       "       -0.16729323, -0.16729323,  0.0093985 , -0.16729323,  0.18609023,\n",
       "       -0.16729323,  0.0093985 ,  0.0093985 , -0.34398496, -0.16729323,\n",
       "        0.0093985 , -0.2556391 ,  0.0093985 , -0.16729323, -0.16729323,\n",
       "        0.18609023, -0.07894737,  0.18609023,  0.09774436, -0.07894737,\n",
       "        0.09774436,  0.0093985 ,  0.09774436,  0.09774436,  0.0093985 ,\n",
       "        0.18609023,  0.09774436, -0.07894737, -0.16729323, -0.07894737,\n",
       "        0.18609023,  0.0093985 ,  0.0093985 ,  0.27443609,  0.0093985 ,\n",
       "        0.09774436, -0.2556391 , -0.2556391 ,  0.09774436,  0.09774436,\n",
       "        0.0093985 ,  0.0093985 , -0.07894737, -0.07894737,  0.0093985 ,\n",
       "        0.0093985 ,  0.0093985 ,  0.36278195, -0.16729323,  0.09774436,\n",
       "        0.09774436,  0.27443609,  0.0093985 , -0.16729323, -0.16729323,\n",
       "        0.09774436,  0.0093985 ,  0.09774436, -0.34398496, -0.16729323,\n",
       "        0.0093985 ,  0.0093985 , -0.2556391 ,  0.27443609, -0.34398496,\n",
       "        0.18609023,  0.09774436,  0.27443609,  0.18609023,  0.09774436,\n",
       "       -0.16729323,  0.09774436, -0.07894737, -0.2556391 ,  0.27443609,\n",
       "        0.18609023,  0.18609023,  0.18609023,  0.09774436,  0.09774436,\n",
       "        0.0093985 , -0.07894737,  0.09774436, -0.07894737, -0.34398496,\n",
       "        0.0093985 , -0.07894737,  0.0093985 ,  0.0093985 , -0.07894737,\n",
       "        0.0093985 ,  0.0093985 , -0.07894737, -0.07894737,  0.0093985 ,\n",
       "       -0.16729323, -0.07894737, -0.07894737,  0.09774436,  0.09774436,\n",
       "       -0.16729323,  0.0093985 ,  0.09774436, -0.07894737, -0.07894737,\n",
       "       -0.16729323, -0.16729323, -0.16729323,  0.09774436,  0.27443609,\n",
       "        0.27443609,  0.18609023, -0.16729323, -0.07894737,  0.18609023,\n",
       "        0.09774436,  0.0093985 , -0.16729323, -0.34398496,  0.27443609,\n",
       "        0.45112782, -0.07894737,  0.09774436,  0.09774436,  0.27443609,\n",
       "        0.09774436,  0.0093985 , -0.16729323,  0.18609023,  0.09774436,\n",
       "       -0.07894737,  0.18609023,  0.09774436,  0.09774436, -0.07894737,\n",
       "       -0.16729323,  0.0093985 ,  0.0093985 ,  0.18609023, -0.07894737,\n",
       "       -0.07894737,  0.09774436,  0.0093985 ,  0.0093985 , -0.07894737,\n",
       "        0.18609023, -0.16729323,  0.18609023, -0.16729323,  0.0093985 ,\n",
       "        0.0093985 , -0.16729323, -0.07894737,  0.0093985 ,  0.0093985 ,\n",
       "       -0.07894737,  0.18609023, -0.16729323,  0.0093985 ,  0.0093985 ,\n",
       "       -0.16729323,  0.0093985 ,  0.0093985 ,  0.0093985 ,  0.09774436,\n",
       "       -0.16729323, -0.07894737,  0.27443609, -0.16729323, -0.07894737,\n",
       "        0.0093985 , -0.16729323,  0.09774436, -0.07894737,  0.0093985 ,\n",
       "       -0.07894737,  0.09774436,  0.0093985 ,  0.0093985 ,  0.09774436,\n",
       "       -0.07894737, -0.07894737,  0.0093985 , -0.16729323,  0.0093985 ,\n",
       "       -0.07894737, -0.2556391 ,  0.09774436,  0.18609023,  0.18609023,\n",
       "       -0.07894737,  0.09774436,  0.0093985 ,  0.09774436,  0.09774436,\n",
       "       -0.07894737,  0.09774436,  0.0093985 ,  0.18609023,  0.09774436,\n",
       "        0.0093985 ,  0.18609023,  0.09774436, -0.34398496, -0.07894737,\n",
       "        0.09774436, -0.07894737, -0.16729323, -0.16729323, -0.16729323,\n",
       "       -0.07894737,  0.0093985 , -0.16729323,  0.18609023,  0.0093985 ,\n",
       "        0.27443609, -0.07894737, -0.16729323, -0.16729323, -0.07894737,\n",
       "        0.18609023,  0.09774436,  0.0093985 ,  0.18609023,  0.09774436,\n",
       "       -0.07894737,  0.18609023, -0.2556391 ,  0.09774436,  0.18609023,\n",
       "       -0.16729323, -0.2556391 , -0.2556391 , -0.07894737,  0.09774436,\n",
       "        0.0093985 , -0.16729323, -0.07894737, -0.34398496, -0.16729323,\n",
       "        0.0093985 ,  0.0093985 ,  0.09774436, -0.16729323,  0.09774436,\n",
       "       -0.07894737,  0.0093985 ,  0.0093985 , -0.07894737,  0.0093985 ,\n",
       "       -0.07894737,  0.27443609,  0.27443609, -0.2556391 ,  0.09774436,\n",
       "        0.09774436,  0.0093985 ,  0.0093985 , -0.07894737, -0.07894737,\n",
       "       -0.07894737,  0.0093985 ,  0.18609023,  0.09774436,  0.0093985 ,\n",
       "        0.09774436,  0.09774436, -0.2556391 ,  0.0093985 , -0.07894737,\n",
       "        0.09774436,  0.09774436,  0.18609023,  0.09774436,  0.36278195,\n",
       "       -0.07894737, -0.16729323,  0.0093985 , -0.34398496, -0.16729323,\n",
       "        0.0093985 ,  0.0093985 ,  0.0093985 , -0.2556391 ,  0.18609023,\n",
       "       -0.16729323,  0.09774436, -0.16729323, -0.07894737,  0.18609023,\n",
       "        0.09774436, -0.07894737,  0.18609023, -0.07894737, -0.07894737,\n",
       "       -0.07894737,  0.09774436,  0.0093985 ,  0.0093985 ,  0.18609023,\n",
       "       -0.34398496, -0.07894737, -0.2556391 , -0.07894737, -0.2556391 ,\n",
       "       -0.16729323,  0.09774436,  0.18609023, -0.16729323,  0.0093985 ,\n",
       "       -0.2556391 ,  0.18609023,  0.09774436, -0.2556391 ,  0.0093985 ,\n",
       "       -0.07894737,  0.0093985 , -0.2556391 ,  0.0093985 , -0.07894737,\n",
       "       -0.16729323,  0.0093985 ,  0.09774436,  0.0093985 , -0.2556391 ])"
      ]
     },
     "execution_count": 19,
     "metadata": {},
     "output_type": "execute_result"
    }
   ],
   "source": [
    "simulated_differences"
   ]
  },
  {
   "cell_type": "code",
   "execution_count": 20,
   "id": "2b14e612-8ba1-4055-b83a-b91439c02282",
   "metadata": {},
   "outputs": [
    {
     "data": {
      "text/plain": [
       "0.7161654135338344"
      ]
     },
     "execution_count": 20,
     "metadata": {},
     "output_type": "execute_result"
    }
   ],
   "source": [
    "observed_difference"
   ]
  },
  {
   "cell_type": "markdown",
   "id": "b20173ea-a71a-40ed-afdb-8648eebaed81",
   "metadata": {},
   "source": [
    "### Review Question 6"
   ]
  },
  {
   "cell_type": "code",
   "execution_count": 21,
   "id": "70bfcbc5-a938-46bd-b7a2-326a9fb2b65f",
   "metadata": {},
   "outputs": [
    {
     "data": {
      "text/plain": [
       "0.0"
      ]
     },
     "execution_count": 21,
     "metadata": {},
     "output_type": "execute_result"
    }
   ],
   "source": [
    "np.count_nonzero(simulated_differences >= observed_difference)/1000"
   ]
  },
  {
   "cell_type": "markdown",
   "id": "1139dd2a-10fd-44bb-b4e3-24f1b19aa26b",
   "metadata": {},
   "source": [
    "### Review Question 7"
   ]
  }
 ],
 "metadata": {
  "kernelspec": {
   "display_name": "data8",
   "language": "python",
   "name": "python3"
  },
  "language_info": {
   "codemirror_mode": {
    "name": "ipython",
    "version": 3
   },
   "file_extension": ".py",
   "mimetype": "text/x-python",
   "name": "python",
   "nbconvert_exporter": "python",
   "pygments_lexer": "ipython3",
   "version": "3.12.3"
  }
 },
 "nbformat": 4,
 "nbformat_minor": 5
}
