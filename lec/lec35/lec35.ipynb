{
 "cells": [
  {
   "cell_type": "code",
   "execution_count": 1,
   "id": "802c600b-7e62-4fd6-8203-ce13ae25ddf8",
   "metadata": {},
   "outputs": [],
   "source": [
    "from datascience import *\n",
    "import numpy as np\n",
    "import matplotlib\n",
    "\n",
    "%matplotlib inline\n",
    "import matplotlib.pyplot as plt\n",
    "plt.style.use('fivethirtyeight')\n",
    "\n",
    "import warnings\n",
    "warnings.simplefilter(\"ignore\")"
   ]
  },
  {
   "cell_type": "markdown",
   "id": "9e204149-3e5e-4819-b3cc-b121488db434",
   "metadata": {},
   "source": [
    "## Review"
   ]
  },
  {
   "cell_type": "code",
   "execution_count": 2,
   "id": "5e916449-5640-4498-8e4a-25034f61c6d9",
   "metadata": {},
   "outputs": [
    {
     "data": {
      "text/html": [
       "<table border=\"1\" class=\"dataframe\">\n",
       "    <thead>\n",
       "        <tr>\n",
       "            <th>Age</th> <th>Blood Pressure</th> <th>Specific Gravity</th> <th>Albumin</th> <th>Sugar</th> <th>Red Blood Cells</th> <th>Pus Cell</th> <th>Pus Cell clumps</th> <th>Bacteria</th> <th>Glucose</th> <th>Blood Urea</th> <th>Serum Creatinine</th> <th>Sodium</th> <th>Potassium</th> <th>Hemoglobin</th> <th>Packed Cell Volume</th> <th>White Blood Cell Count</th> <th>Red Blood Cell Count</th> <th>Hypertension</th> <th>Diabetes Mellitus</th> <th>Coronary Artery Disease</th> <th>Appetite</th> <th>Pedal Edema</th> <th>Anemia</th> <th>Class</th>\n",
       "        </tr>\n",
       "    </thead>\n",
       "    <tbody>\n",
       "        <tr>\n",
       "            <td>61  </td> <td>70            </td> <td>1.025           </td> <td>0      </td> <td>0    </td> <td>normal         </td> <td>normal  </td> <td>notpresent     </td> <td>notpresent</td> <td>120    </td> <td>29        </td> <td>0.7             </td> <td>137   </td> <td>3.5      </td> <td>17.4      </td> <td>52                </td> <td>7000                  </td> <td>5.3                 </td> <td>no          </td> <td>no               </td> <td>no                     </td> <td>good    </td> <td>no         </td> <td>no    </td> <td>0    </td>\n",
       "        </tr>\n",
       "        <tr>\n",
       "            <td>41  </td> <td>80            </td> <td>1.025           </td> <td>0      </td> <td>0    </td> <td>normal         </td> <td>normal  </td> <td>notpresent     </td> <td>notpresent</td> <td>112    </td> <td>48        </td> <td>0.7             </td> <td>140   </td> <td>5        </td> <td>17        </td> <td>52                </td> <td>7200                  </td> <td>5.8                 </td> <td>no          </td> <td>no               </td> <td>no                     </td> <td>good    </td> <td>no         </td> <td>no    </td> <td>0    </td>\n",
       "        </tr>\n",
       "        <tr>\n",
       "            <td>12  </td> <td>80            </td> <td>1.02            </td> <td>0      </td> <td>0    </td> <td>normal         </td> <td>normal  </td> <td>notpresent     </td> <td>notpresent</td> <td>100    </td> <td>26        </td> <td>0.6             </td> <td>137   </td> <td>4.4      </td> <td>15.8      </td> <td>49                </td> <td>6600                  </td> <td>5.4                 </td> <td>no          </td> <td>no               </td> <td>no                     </td> <td>good    </td> <td>no         </td> <td>no    </td> <td>0    </td>\n",
       "        </tr>\n",
       "    </tbody>\n",
       "</table>"
      ],
      "text/plain": [
       "<IPython.core.display.HTML object>"
      ]
     },
     "metadata": {},
     "output_type": "display_data"
    }
   ],
   "source": [
    "ckd = Table.read_table('ckd.csv').relabeled('Blood Glucose Random', 'Glucose')\n",
    "ckd.sample(3).show(3)"
   ]
  },
  {
   "cell_type": "code",
   "execution_count": 3,
   "id": "f2ae5915-c8e0-4af6-80e6-4d2c6e14a530",
   "metadata": {},
   "outputs": [
    {
     "data": {
      "text/html": [
       "<table border=\"1\" class=\"dataframe\">\n",
       "    <thead>\n",
       "        <tr>\n",
       "            <th>Hemoglobin</th> <th>Glucose</th> <th>Class</th>\n",
       "        </tr>\n",
       "    </thead>\n",
       "    <tbody>\n",
       "        <tr>\n",
       "            <td>11.2      </td> <td>117    </td> <td>1    </td>\n",
       "        </tr>\n",
       "        <tr>\n",
       "            <td>9.5       </td> <td>70     </td> <td>1    </td>\n",
       "        </tr>\n",
       "        <tr>\n",
       "            <td>10.8      </td> <td>380    </td> <td>1    </td>\n",
       "        </tr>\n",
       "    </tbody>\n",
       "</table>\n",
       "<p>... (155 rows omitted)</p>"
      ],
      "text/plain": [
       "<IPython.core.display.HTML object>"
      ]
     },
     "metadata": {},
     "output_type": "display_data"
    }
   ],
   "source": [
    "ckd = ckd.select('Hemoglobin', 'Glucose', 'Class')\n",
    "ckd.show(3)"
   ]
  },
  {
   "cell_type": "code",
   "execution_count": 4,
   "id": "c56a792c-bcea-4dfd-a9c5-f402ef2c6f13",
   "metadata": {},
   "outputs": [
    {
     "data": {
      "text/html": [
       "<table border=\"1\" class=\"dataframe\">\n",
       "    <thead>\n",
       "        <tr>\n",
       "            <th>Hemoglobin</th> <th>Glucose</th> <th>Class</th>\n",
       "        </tr>\n",
       "    </thead>\n",
       "    <tbody>\n",
       "        <tr>\n",
       "            <td>12.6      </td> <td>122    </td> <td>1    </td>\n",
       "        </tr>\n",
       "        <tr>\n",
       "            <td>10.8      </td> <td>380    </td> <td>1    </td>\n",
       "        </tr>\n",
       "        <tr>\n",
       "            <td>14.3      </td> <td>111    </td> <td>0    </td>\n",
       "        </tr>\n",
       "    </tbody>\n",
       "</table>"
      ],
      "text/plain": [
       "<IPython.core.display.HTML object>"
      ]
     },
     "metadata": {},
     "output_type": "display_data"
    }
   ],
   "source": [
    "ckd.sample(3).show(3)"
   ]
  },
  {
   "cell_type": "markdown",
   "id": "91fb5a6c-2181-48da-928a-0a7fdcf1d74c",
   "metadata": {},
   "source": [
    "### How do we evaluate our prediction machine?"
   ]
  },
  {
   "cell_type": "markdown",
   "id": "61bce8b5-7b00-4364-a50d-0e1c5f0fc796",
   "metadata": {},
   "source": [
    "#### Training and testing sets"
   ]
  },
  {
   "cell_type": "markdown",
   "id": "33655ac2-d023-4a54-9425-b0584f762d9b",
   "metadata": {},
   "source": [
    "- The training set and testing set need to be determined at random.\n",
    "- In the following code, we are *permuting* the rows randomly and then extracting a test subset and training subset using `np.take()`. "
   ]
  },
  {
   "cell_type": "markdown",
   "id": "9466def7-8fa3-4102-b8b1-97ae2a977f48",
   "metadata": {},
   "source": [
    "**Task**: Split the data in the `ckd` table into training and testing sets of (roughly) equal size."
   ]
  },
  {
   "cell_type": "code",
   "execution_count": 5,
   "id": "50b9a366-8539-427c-a9c3-31f7b9c90030",
   "metadata": {},
   "outputs": [
    {
     "data": {
      "text/plain": [
       "79"
      ]
     },
     "execution_count": 5,
     "metadata": {},
     "output_type": "execute_result"
    }
   ],
   "source": [
    "halfway = round(ckd.num_rows/2)\n",
    "halfway"
   ]
  },
  {
   "cell_type": "code",
   "execution_count": 6,
   "id": "3824ea23-3fe3-4d94-9326-80fe668f3d7f",
   "metadata": {},
   "outputs": [],
   "source": [
    "shuffled_patients = ckd.sample(with_replacement=False)"
   ]
  },
  {
   "cell_type": "code",
   "execution_count": 7,
   "id": "6f09a021-9453-427a-a9f2-f29cc21336cd",
   "metadata": {},
   "outputs": [],
   "source": [
    "training = shuffled_patients.take(np.arange(halfway))\n",
    "testing = shuffled_patients.take(np.arange(halfway, ckd.num_rows))"
   ]
  },
  {
   "cell_type": "code",
   "execution_count": 8,
   "id": "b5f486a9-beb7-4b09-9e38-130544b9720b",
   "metadata": {},
   "outputs": [
    {
     "data": {
      "text/plain": [
       "79"
      ]
     },
     "execution_count": 8,
     "metadata": {},
     "output_type": "execute_result"
    }
   ],
   "source": [
    "training.num_rows"
   ]
  },
  {
   "cell_type": "code",
   "execution_count": 9,
   "id": "b0be9985-84c9-4343-ab93-131ed8bbdf48",
   "metadata": {},
   "outputs": [
    {
     "data": {
      "text/plain": [
       "79"
      ]
     },
     "execution_count": 9,
     "metadata": {},
     "output_type": "execute_result"
    }
   ],
   "source": [
    "testing.num_rows"
   ]
  },
  {
   "cell_type": "markdown",
   "id": "131da81c-44f8-4d03-bcae-0f1a35500dbf",
   "metadata": {},
   "source": [
    "## New material"
   ]
  },
  {
   "cell_type": "markdown",
   "id": "7dff3a39-f1bd-48a0-8d52-947d7ed5a2dc",
   "metadata": {},
   "source": [
    "### How can we find the *k*-nearest neighbors?"
   ]
  },
  {
   "cell_type": "markdown",
   "id": "fb757ea5-7cd8-4905-b400-4b3959cbac44",
   "metadata": {},
   "source": [
    "- We will work with the `ckd` dataset\n",
    "- Goal: predict whether an out-of-sample patient has the disease or not.\n",
    "   - using the entire `ckd` dataset as training.\n",
    "\n",
    "Here's our out-of-sample point (\"Alice\") for today."
   ]
  },
  {
   "cell_type": "code",
   "execution_count": 10,
   "id": "34f298a3-e35d-41bd-8661-299d98605308",
   "metadata": {},
   "outputs": [
    {
     "data": {
      "text/plain": [
       "array([ 0. ,  1.1])"
      ]
     },
     "execution_count": 10,
     "metadata": {},
     "output_type": "execute_result"
    }
   ],
   "source": [
    "alice = make_array(0,1.1)\n",
    "alice"
   ]
  },
  {
   "cell_type": "markdown",
   "id": "1bfc8e42-2408-49a9-a600-9bb122f2e29f",
   "metadata": {},
   "source": [
    "#### Detour: Rows and row objects"
   ]
  },
  {
   "cell_type": "code",
   "execution_count": 11,
   "id": "d046f83a-5b4e-4242-b605-65055fde97df",
   "metadata": {},
   "outputs": [
    {
     "data": {
      "text/plain": [
       "Row(Hemoglobin=11.199999999999999, Glucose=117, Class=1)"
      ]
     },
     "execution_count": 11,
     "metadata": {},
     "output_type": "execute_result"
    }
   ],
   "source": [
    "ckd.row(0)"
   ]
  },
  {
   "cell_type": "code",
   "execution_count": 12,
   "id": "1d1be082-d294-40f9-8135-267a8be81bc4",
   "metadata": {},
   "outputs": [
    {
     "data": {
      "text/plain": [
       "datascience.tables.Row"
      ]
     },
     "execution_count": 12,
     "metadata": {},
     "output_type": "execute_result"
    }
   ],
   "source": [
    "type(ckd.row(0))"
   ]
  },
  {
   "cell_type": "code",
   "execution_count": 13,
   "id": "efc92391-e65d-4210-a04a-358a58f004fb",
   "metadata": {},
   "outputs": [
    {
     "data": {
      "text/plain": [
       "117"
      ]
     },
     "execution_count": 13,
     "metadata": {},
     "output_type": "execute_result"
    }
   ],
   "source": [
    "ckd.row(0).item(1)"
   ]
  },
  {
   "cell_type": "code",
   "execution_count": 14,
   "id": "0cbd95bb-8d76-46ef-929d-71c29d5fba49",
   "metadata": {},
   "outputs": [
    {
     "data": {
      "text/plain": [
       "array([[11.199999999999999, 117, 1]], dtype=object)"
      ]
     },
     "execution_count": 14,
     "metadata": {},
     "output_type": "execute_result"
    }
   ],
   "source": [
    "make_array(ckd.row(0))"
   ]
  },
  {
   "cell_type": "markdown",
   "id": "b4af23db-67e0-45e8-adde-cac5dc4e785a",
   "metadata": {},
   "source": [
    "Let's save the first training point (as a row object) into the name `patient`."
   ]
  },
  {
   "cell_type": "code",
   "execution_count": 15,
   "id": "aecd21b3-6160-4fc1-8c72-8b6bc9760f2f",
   "metadata": {},
   "outputs": [
    {
     "data": {
      "text/plain": [
       "Row(Hemoglobin=11.199999999999999, Glucose=117)"
      ]
     },
     "execution_count": 15,
     "metadata": {},
     "output_type": "execute_result"
    }
   ],
   "source": [
    "patient = ckd.drop('Class').row(0)\n",
    "patient"
   ]
  },
  {
   "cell_type": "code",
   "execution_count": 16,
   "id": "590cfbd9-6d4f-4856-a2c8-3cf58b1b4662",
   "metadata": {},
   "outputs": [
    {
     "data": {
      "text/plain": [
       "array([[11.199999999999999, 117]], dtype=object)"
      ]
     },
     "execution_count": 16,
     "metadata": {},
     "output_type": "execute_result"
    }
   ],
   "source": [
    "make_array(patient)"
   ]
  },
  {
   "cell_type": "markdown",
   "id": "86db5870-e467-4965-a98e-d22e230859ac",
   "metadata": {},
   "source": [
    "#### **Task**: Let's find a distance between `alice` and the first training point.\n",
    "\n",
    "$$ \\text{D} = \\sqrt{(x_0-x_1)^2 + (y_0-y_1)^2} $$"
   ]
  },
  {
   "cell_type": "code",
   "execution_count": 17,
   "id": "e9e4689a-d3a0-4510-8aeb-f8ca34dd67b5",
   "metadata": {},
   "outputs": [
    {
     "data": {
      "text/plain": [
       "13558.250000000002"
      ]
     },
     "execution_count": 17,
     "metadata": {},
     "output_type": "execute_result"
    }
   ],
   "source": [
    "(alice.item(0) - patient.item(0)) ** 2 + (alice.item(1) - patient.item(1)) ** 2 "
   ]
  },
  {
   "cell_type": "code",
   "execution_count": 18,
   "id": "6d3b0f2c-aa6a-4273-a7e3-b7feb2312ef9",
   "metadata": {},
   "outputs": [
    {
     "data": {
      "text/plain": [
       "array([ 0. ,  1.1])"
      ]
     },
     "execution_count": 18,
     "metadata": {},
     "output_type": "execute_result"
    }
   ],
   "source": [
    "#this is an array \n",
    "alice"
   ]
  },
  {
   "cell_type": "code",
   "execution_count": 19,
   "id": "8fb5c48c-cb45-4998-895f-279b5d147059",
   "metadata": {},
   "outputs": [
    {
     "data": {
      "text/plain": [
       "array([[11.199999999999999, 117]], dtype=object)"
      ]
     },
     "execution_count": 19,
     "metadata": {},
     "output_type": "execute_result"
    }
   ],
   "source": [
    "#This is an array\n",
    "make_array(patient)"
   ]
  },
  {
   "cell_type": "markdown",
   "id": "cc667451-ff63-4bd3-a856-a982ea14dd35",
   "metadata": {},
   "source": [
    "**Discussion Question** [1 min] Is there a quicker way to do the part $(x_0-x_1)^2 + (y_0-y_1)^2$?\n",
    "\n",
    "- *Hint*: do we have to access the individual elements using the `.item` method, or can we do something simpler?"
   ]
  },
  {
   "cell_type": "code",
   "execution_count": 20,
   "id": "6331001a-96cb-49fa-9767-74c012637b27",
   "metadata": {},
   "outputs": [
    {
     "data": {
      "text/plain": [
       "array([[-11.199999999999999, -115.90000000000001]], dtype=object)"
      ]
     },
     "execution_count": 20,
     "metadata": {},
     "output_type": "execute_result"
    }
   ],
   "source": [
    "alice-make_array(patient) "
   ]
  },
  {
   "cell_type": "code",
   "execution_count": 21,
   "id": "26c6ca2e-757c-4578-8f3e-93b0d49414d7",
   "metadata": {},
   "outputs": [
    {
     "data": {
      "text/plain": [
       "array([[125.43999999999998, 13432.810000000001]], dtype=object)"
      ]
     },
     "execution_count": 21,
     "metadata": {},
     "output_type": "execute_result"
    }
   ],
   "source": [
    "(alice-make_array(patient))**2"
   ]
  },
  {
   "cell_type": "code",
   "execution_count": 22,
   "id": "effa37e7-dea3-42ce-aa15-f2a7b73dfc9d",
   "metadata": {},
   "outputs": [
    {
     "data": {
      "text/plain": [
       "13558.250000000002"
      ]
     },
     "execution_count": 22,
     "metadata": {},
     "output_type": "execute_result"
    }
   ],
   "source": [
    "np.sum((alice-make_array(patient))**2)"
   ]
  },
  {
   "cell_type": "code",
   "execution_count": 23,
   "id": "5c91b357-5bd6-4f47-a904-d14497f909fe",
   "metadata": {},
   "outputs": [
    {
     "data": {
      "text/plain": [
       "116.43989866021012"
      ]
     },
     "execution_count": 23,
     "metadata": {},
     "output_type": "execute_result"
    }
   ],
   "source": [
    "np.sum((alice-make_array(patient))**2) ** 0.5"
   ]
  },
  {
   "cell_type": "code",
   "execution_count": 24,
   "id": "da5868fe-0816-487e-9588-fed9dc54b876",
   "metadata": {},
   "outputs": [],
   "source": [
    "def distance(point1, point2):\n",
    "    \"\"\"Returns the distance between point1 and point2\n",
    "    where each argument is an array \n",
    "    consisting of the coordinates of the point\"\"\"\n",
    "    return np.sum((point1-point2)**2) ** 0.5"
   ]
  },
  {
   "cell_type": "code",
   "execution_count": 25,
   "id": "3bc4db08-99d7-46cd-beaf-f0693bf036ea",
   "metadata": {},
   "outputs": [
    {
     "data": {
      "text/plain": [
       "116.43989866021012"
      ]
     },
     "execution_count": 25,
     "metadata": {},
     "output_type": "execute_result"
    }
   ],
   "source": [
    "distance(alice, make_array(patient))"
   ]
  },
  {
   "cell_type": "code",
   "execution_count": 26,
   "id": "df5947e5-0dab-44af-a3a0-f8fc90532e11",
   "metadata": {},
   "outputs": [],
   "source": [
    "def distance_from_alice(row):\n",
    "    return distance(alice, make_array(row))"
   ]
  },
  {
   "cell_type": "code",
   "execution_count": 27,
   "id": "efd26738-e976-433c-832a-361eeb9c948a",
   "metadata": {},
   "outputs": [
    {
     "data": {
      "text/plain": [
       "116.43989866021012"
      ]
     },
     "execution_count": 27,
     "metadata": {},
     "output_type": "execute_result"
    }
   ],
   "source": [
    "distance_from_alice(ckd.drop('Class').row(0))                     "
   ]
  },
  {
   "cell_type": "markdown",
   "id": "25cee4c7-3f0b-4a93-a46d-2a3366825ff9",
   "metadata": {},
   "source": [
    "_______"
   ]
  },
  {
   "cell_type": "markdown",
   "id": "018389e9-310e-449b-be69-098fbf462504",
   "metadata": {},
   "source": [
    "#### **Task**: Calculate the Euclidean distance between `alice` and every point in the training set."
   ]
  },
  {
   "cell_type": "code",
   "execution_count": 28,
   "id": "172627bc-785e-465b-9687-408c64d0ea3c",
   "metadata": {},
   "outputs": [
    {
     "data": {
      "text/html": [
       "<table border=\"1\" class=\"dataframe\">\n",
       "    <thead>\n",
       "        <tr>\n",
       "            <th>Hemoglobin</th> <th>Glucose</th>\n",
       "        </tr>\n",
       "    </thead>\n",
       "    <tbody>\n",
       "        <tr>\n",
       "            <td>11.2      </td> <td>117    </td>\n",
       "        </tr>\n",
       "        <tr>\n",
       "            <td>9.5       </td> <td>70     </td>\n",
       "        </tr>\n",
       "        <tr>\n",
       "            <td>10.8      </td> <td>380    </td>\n",
       "        </tr>\n",
       "        <tr>\n",
       "            <td>5.6       </td> <td>157    </td>\n",
       "        </tr>\n",
       "        <tr>\n",
       "            <td>7.7       </td> <td>173    </td>\n",
       "        </tr>\n",
       "    </tbody>\n",
       "</table>"
      ],
      "text/plain": [
       "Hemoglobin | Glucose\n",
       "11.2       | 117\n",
       "9.5        | 70\n",
       "10.8       | 380\n",
       "5.6        | 157\n",
       "7.7        | 173"
      ]
     },
     "execution_count": 28,
     "metadata": {},
     "output_type": "execute_result"
    }
   ],
   "source": [
    "ckd.drop('Class').take(np.arange(5))"
   ]
  },
  {
   "cell_type": "markdown",
   "id": "013cd11b-ad7a-425f-90a7-e91ae6939292",
   "metadata": {},
   "source": [
    "**Discussion Question** [1 min]: What's a method we can use to help us?\n"
   ]
  },
  {
   "cell_type": "code",
   "execution_count": 29,
   "id": "6bcdc66c-2360-4dad-b9f0-ca5ec2a599bb",
   "metadata": {},
   "outputs": [],
   "source": [
    "distances = ckd.drop('Class').apply(distance_from_alice)"
   ]
  },
  {
   "cell_type": "code",
   "execution_count": 30,
   "id": "8468d97d-77b5-4d44-90d0-856721897f7b",
   "metadata": {},
   "outputs": [],
   "source": [
    "def all_distances(training, new_row):\n",
    "    \"\"\"Returns an array of distances\n",
    "    between each point in the training set\n",
    "    and the new point (which is a row of attributes)\"\"\"\n",
    "    attributes = training.drop('Class')\n",
    "    def distance_from_new_row(row):\n",
    "        return distance(make_array(new_row), make_array(row))\n",
    "    return attributes.apply(distance_from_new_row)"
   ]
  },
  {
   "cell_type": "code",
   "execution_count": 31,
   "id": "50ca142e-4864-46aa-a4f1-4bb43b3d27a3",
   "metadata": {},
   "outputs": [],
   "source": [
    "distances = all_distances(ckd.drop('Class'), alice)"
   ]
  },
  {
   "cell_type": "code",
   "execution_count": 32,
   "id": "a40b9bda-c7aa-4700-ab1b-1a8534882805",
   "metadata": {},
   "outputs": [
    {
     "data": {
      "text/plain": [
       "array([ 116.43989866,   69.55185116,  379.05388799,  156.00054487,\n",
       "        172.0723685 ,   94.41001006,  263.19699846,   69.62190747,\n",
       "        252.11874187,  162.19633165,  128.22332081,  132.3015495 ,\n",
       "         75.23576277,  279.20281159,  209.5194979 ,  218.14804606,\n",
       "        294.0439593 ,  117.4545444 ,  223.04712507,  127.16465704,\n",
       "        117.514297  ,  104.49124365,  287.00874551,  272.02665311,\n",
       "        121.55480246,  302.07907905,  101.27437978,  106.22476171,\n",
       "        116.33060646,  238.08960498,   93.42601351,  128.15623278,\n",
       "        251.14985566,  254.00492121,  252.13571742,  213.1788451 ,\n",
       "        489.0352339 ,  162.09262784,  240.0920032 ,  213.10741423,\n",
       "        105.25193585,  423.08766231,  174.92747068,  139.70758748,\n",
       "         70.96625959,   82.44768038,  118.90151387,   98.75935399,\n",
       "        120.66884436,  130.70677106,   90.98356995,   97.89187913,\n",
       "        104.15190829,  130.66300165,  122.08935253,  117.92311054,\n",
       "        117.02670635,  131.6896731 ,   96.9456033 ,  132.55885485,\n",
       "        121.69642558,  120.83463907,  110.82644089,   95.89812303,\n",
       "        138.69192478,  124.99383985,  122.90687532,  111.84390909,\n",
       "        139.85313725,  129.82857929,  122.77120998,  100.33354374,\n",
       "         94.26775695,   81.2409995 ,   93.38720469,  123.79991922,\n",
       "         89.4723421 ,  125.03379543,   90.90797545,  126.80228705,\n",
       "         96.39304954,  127.57437047,  122.10331691,  127.80708118,\n",
       "        136.57880509,   81.10006165,  101.75976612,  131.61496875,\n",
       "        104.34414215,  130.8333673 ,  102.00887216,  120.16642626,\n",
       "        105.07949372,  108.79163571,  129.87694176,   99.885985  ,\n",
       "        109.05067629,  119.65270578,   80.1499844 ,  129.60501534,\n",
       "         99.4871851 ,  133.65646262,   91.97178915,  132.10469333,\n",
       "         87.91188771,   99.92847442,  129.59463723,   95.09053581,\n",
       "        111.08757806,  105.88375702,   96.84554714,  108.37181368,\n",
       "         98.84012343,   83.74879104,  108.93764271,   85.98238192,\n",
       "        101.95082148,   95.09053581,   87.58550108,  106.76970544,\n",
       "        116.62679795,   88.58583408,  104.93474163,   70.24884341,\n",
       "         89.17067904,  117.83314474,   81.29581785,  125.11582634,\n",
       "         82.2606832 ,  106.76970544,   83.48682531,   79.86344596,\n",
       "        108.93764271,  132.60957733,  111.1022052 ,   74.44743112,\n",
       "         88.43398668,   96.88782173,   78.567296  ,  112.94113511,\n",
       "         75.78555271,  118.71655318,  131.80276932,  113.10994651,\n",
       "        100.25053616,   93.40503198,   94.18418126,  112.19540989,\n",
       "         99.04246564,   85.33797513,  132.72772883,  116.62679795,\n",
       "        136.62949901,  139.78447696,   75.71961437,  100.15413122,\n",
       "        113.78949864,  130.8573651 ])"
      ]
     },
     "execution_count": 32,
     "metadata": {},
     "output_type": "execute_result"
    }
   ],
   "source": [
    "distances"
   ]
  },
  {
   "cell_type": "markdown",
   "id": "2ed5e404-25b0-4716-bab5-6a1804b3bb43",
   "metadata": {},
   "source": [
    "______"
   ]
  },
  {
   "cell_type": "markdown",
   "id": "62f668a2-9680-449e-974f-ba94264a6677",
   "metadata": {},
   "source": [
    "#### **Task:** Augment the training data table with a column containing all the distances."
   ]
  },
  {
   "cell_type": "code",
   "execution_count": 33,
   "id": "160cc654-c197-4ebe-b647-4273938f6b54",
   "metadata": {},
   "outputs": [
    {
     "data": {
      "text/html": [
       "<table border=\"1\" class=\"dataframe\">\n",
       "    <thead>\n",
       "        <tr>\n",
       "            <th>Hemoglobin</th> <th>Glucose</th> <th>Class</th> <th>Distance from Alice</th>\n",
       "        </tr>\n",
       "    </thead>\n",
       "    <tbody>\n",
       "        <tr>\n",
       "            <td>11.2      </td> <td>117    </td> <td>1    </td> <td>116.44             </td>\n",
       "        </tr>\n",
       "        <tr>\n",
       "            <td>9.5       </td> <td>70     </td> <td>1    </td> <td>69.5519            </td>\n",
       "        </tr>\n",
       "        <tr>\n",
       "            <td>10.8      </td> <td>380    </td> <td>1    </td> <td>379.054            </td>\n",
       "        </tr>\n",
       "        <tr>\n",
       "            <td>5.6       </td> <td>157    </td> <td>1    </td> <td>156.001            </td>\n",
       "        </tr>\n",
       "        <tr>\n",
       "            <td>7.7       </td> <td>173    </td> <td>1    </td> <td>172.072            </td>\n",
       "        </tr>\n",
       "        <tr>\n",
       "            <td>9.8       </td> <td>95     </td> <td>1    </td> <td>94.41              </td>\n",
       "        </tr>\n",
       "        <tr>\n",
       "            <td>12.5      </td> <td>264    </td> <td>1    </td> <td>263.197            </td>\n",
       "        </tr>\n",
       "        <tr>\n",
       "            <td>10        </td> <td>70     </td> <td>1    </td> <td>69.6219            </td>\n",
       "        </tr>\n",
       "        <tr>\n",
       "            <td>10.5      </td> <td>253    </td> <td>1    </td> <td>252.119            </td>\n",
       "        </tr>\n",
       "        <tr>\n",
       "            <td>9.8       </td> <td>163    </td> <td>1    </td> <td>162.196            </td>\n",
       "        </tr>\n",
       "    </tbody>\n",
       "</table>\n",
       "<p>... (148 rows omitted)</p>"
      ],
      "text/plain": [
       "Hemoglobin | Glucose | Class | Distance from Alice\n",
       "11.2       | 117     | 1     | 116.44\n",
       "9.5        | 70      | 1     | 69.5519\n",
       "10.8       | 380     | 1     | 379.054\n",
       "5.6        | 157     | 1     | 156.001\n",
       "7.7        | 173     | 1     | 172.072\n",
       "9.8        | 95      | 1     | 94.41\n",
       "12.5       | 264     | 1     | 263.197\n",
       "10         | 70      | 1     | 69.6219\n",
       "10.5       | 253     | 1     | 252.119\n",
       "9.8        | 163     | 1     | 162.196\n",
       "... (148 rows omitted)"
      ]
     },
     "execution_count": 33,
     "metadata": {},
     "output_type": "execute_result"
    }
   ],
   "source": [
    "ckd.with_column('Distance from Alice', distances)"
   ]
  },
  {
   "cell_type": "code",
   "execution_count": 34,
   "id": "4db165fd-7939-4c66-b77a-f0a0c2041773",
   "metadata": {},
   "outputs": [],
   "source": [
    "def table_with_distances(training, new_point):\n",
    "    \"\"\"Augments the training table \n",
    "    with a column of distances from new_point\"\"\"\n",
    "    return training.with_column('Distance', all_distances(training, new_point))"
   ]
  },
  {
   "cell_type": "code",
   "execution_count": 35,
   "id": "fabc67d1-a75e-4d2a-9b9b-1cfec27b43c6",
   "metadata": {},
   "outputs": [],
   "source": [
    "ckd_with_distances = table_with_distances(ckd, alice)"
   ]
  },
  {
   "cell_type": "markdown",
   "id": "47bc1603-567b-493e-a434-064df012078c",
   "metadata": {},
   "source": [
    "_______"
   ]
  },
  {
   "cell_type": "markdown",
   "id": "0b43a714-d068-4395-becf-664de0219155",
   "metadata": {},
   "source": [
    "#### **Task**: Find the 5 nearest neighbors."
   ]
  },
  {
   "cell_type": "markdown",
   "id": "c68df2ab-fa8a-4efb-874f-68dbdebd1d53",
   "metadata": {},
   "source": [
    "**Discussion Question** [1 min]: Think of two table methods that will help us return a *table* with the five nearest neighbors. "
   ]
  },
  {
   "cell_type": "code",
   "execution_count": 36,
   "id": "1f4af24d-fa02-4f66-8c57-8876c622bf0a",
   "metadata": {},
   "outputs": [
    {
     "data": {
      "text/html": [
       "<table border=\"1\" class=\"dataframe\">\n",
       "    <thead>\n",
       "        <tr>\n",
       "            <th>Hemoglobin</th> <th>Glucose</th> <th>Class</th> <th>Distance</th>\n",
       "        </tr>\n",
       "    </thead>\n",
       "    <tbody>\n",
       "        <tr>\n",
       "            <td>9.5       </td> <td>70     </td> <td>1    </td> <td>69.5519 </td>\n",
       "        </tr>\n",
       "        <tr>\n",
       "            <td>10        </td> <td>70     </td> <td>1    </td> <td>69.6219 </td>\n",
       "        </tr>\n",
       "        <tr>\n",
       "            <td>13.7      </td> <td>70     </td> <td>0    </td> <td>70.2488 </td>\n",
       "        </tr>\n",
       "        <tr>\n",
       "            <td>17        </td> <td>70     </td> <td>0    </td> <td>70.9663 </td>\n",
       "        </tr>\n",
       "        <tr>\n",
       "            <td>15.1      </td> <td>74     </td> <td>0    </td> <td>74.4474 </td>\n",
       "        </tr>\n",
       "        <tr>\n",
       "            <td>7.1       </td> <td>76     </td> <td>1    </td> <td>75.2358 </td>\n",
       "        </tr>\n",
       "        <tr>\n",
       "            <td>16.5      </td> <td>75     </td> <td>0    </td> <td>75.7196 </td>\n",
       "        </tr>\n",
       "        <tr>\n",
       "            <td>16.8      </td> <td>75     </td> <td>0    </td> <td>75.7856 </td>\n",
       "        </tr>\n",
       "        <tr>\n",
       "            <td>16.1      </td> <td>78     </td> <td>0    </td> <td>78.5673 </td>\n",
       "        </tr>\n",
       "        <tr>\n",
       "            <td>17.6      </td> <td>79     </td> <td>0    </td> <td>79.8634 </td>\n",
       "        </tr>\n",
       "    </tbody>\n",
       "</table>\n",
       "<p>... (148 rows omitted)</p>"
      ],
      "text/plain": [
       "Hemoglobin | Glucose | Class | Distance\n",
       "9.5        | 70      | 1     | 69.5519\n",
       "10         | 70      | 1     | 69.6219\n",
       "13.7       | 70      | 0     | 70.2488\n",
       "17         | 70      | 0     | 70.9663\n",
       "15.1       | 74      | 0     | 74.4474\n",
       "7.1        | 76      | 1     | 75.2358\n",
       "16.5       | 75      | 0     | 75.7196\n",
       "16.8       | 75      | 0     | 75.7856\n",
       "16.1       | 78      | 0     | 78.5673\n",
       "17.6       | 79      | 0     | 79.8634\n",
       "... (148 rows omitted)"
      ]
     },
     "execution_count": 36,
     "metadata": {},
     "output_type": "execute_result"
    }
   ],
   "source": [
    "ckd_with_distances.sort('Distance')"
   ]
  },
  {
   "cell_type": "code",
   "execution_count": 37,
   "id": "1d8eb211-0926-4836-bb85-29179782a620",
   "metadata": {},
   "outputs": [
    {
     "data": {
      "text/html": [
       "<table border=\"1\" class=\"dataframe\">\n",
       "    <thead>\n",
       "        <tr>\n",
       "            <th>Hemoglobin</th> <th>Glucose</th> <th>Class</th> <th>Distance</th>\n",
       "        </tr>\n",
       "    </thead>\n",
       "    <tbody>\n",
       "        <tr>\n",
       "            <td>9.5       </td> <td>70     </td> <td>1    </td> <td>69.5519 </td>\n",
       "        </tr>\n",
       "        <tr>\n",
       "            <td>10        </td> <td>70     </td> <td>1    </td> <td>69.6219 </td>\n",
       "        </tr>\n",
       "        <tr>\n",
       "            <td>13.7      </td> <td>70     </td> <td>0    </td> <td>70.2488 </td>\n",
       "        </tr>\n",
       "        <tr>\n",
       "            <td>17        </td> <td>70     </td> <td>0    </td> <td>70.9663 </td>\n",
       "        </tr>\n",
       "        <tr>\n",
       "            <td>15.1      </td> <td>74     </td> <td>0    </td> <td>74.4474 </td>\n",
       "        </tr>\n",
       "    </tbody>\n",
       "</table>"
      ],
      "text/plain": [
       "Hemoglobin | Glucose | Class | Distance\n",
       "9.5        | 70      | 1     | 69.5519\n",
       "10         | 70      | 1     | 69.6219\n",
       "13.7       | 70      | 0     | 70.2488\n",
       "17         | 70      | 0     | 70.9663\n",
       "15.1       | 74      | 0     | 74.4474"
      ]
     },
     "execution_count": 37,
     "metadata": {},
     "output_type": "execute_result"
    }
   ],
   "source": [
    "ckd_with_distances.sort('Distance').take(np.arange(5))"
   ]
  },
  {
   "cell_type": "code",
   "execution_count": 38,
   "id": "e3a35540-f306-4f21-aedb-3bfc03cf4057",
   "metadata": {},
   "outputs": [],
   "source": [
    "def nearest(training, new_point, k):\n",
    "    \"\"\"Returns a table of the k rows of the augmented table\n",
    "    corresponding to the k smallest distances\"\"\"\n",
    "    with_dists = table_with_distances(training, new_point)\n",
    "    sorted_by_distance = with_dists.sort('Distance')\n",
    "    nearest_neighbors_table = sorted_by_distance.take(np.arange(k))\n",
    "    return nearest_neighbors_table"
   ]
  },
  {
   "cell_type": "code",
   "execution_count": 39,
   "id": "f81bc862-50c7-4f23-987f-4103e0883cf7",
   "metadata": {},
   "outputs": [
    {
     "data": {
      "text/html": [
       "<table border=\"1\" class=\"dataframe\">\n",
       "    <thead>\n",
       "        <tr>\n",
       "            <th>Hemoglobin</th> <th>Glucose</th> <th>Class</th> <th>Distance</th>\n",
       "        </tr>\n",
       "    </thead>\n",
       "    <tbody>\n",
       "        <tr>\n",
       "            <td>9.5       </td> <td>70     </td> <td>1    </td> <td>69.5519 </td>\n",
       "        </tr>\n",
       "        <tr>\n",
       "            <td>10        </td> <td>70     </td> <td>1    </td> <td>69.6219 </td>\n",
       "        </tr>\n",
       "        <tr>\n",
       "            <td>13.7      </td> <td>70     </td> <td>0    </td> <td>70.2488 </td>\n",
       "        </tr>\n",
       "        <tr>\n",
       "            <td>17        </td> <td>70     </td> <td>0    </td> <td>70.9663 </td>\n",
       "        </tr>\n",
       "        <tr>\n",
       "            <td>15.1      </td> <td>74     </td> <td>0    </td> <td>74.4474 </td>\n",
       "        </tr>\n",
       "    </tbody>\n",
       "</table>"
      ],
      "text/plain": [
       "Hemoglobin | Glucose | Class | Distance\n",
       "9.5        | 70      | 1     | 69.5519\n",
       "10         | 70      | 1     | 69.6219\n",
       "13.7       | 70      | 0     | 70.2488\n",
       "17         | 70      | 0     | 70.9663\n",
       "15.1       | 74      | 0     | 74.4474"
      ]
     },
     "execution_count": 39,
     "metadata": {},
     "output_type": "execute_result"
    }
   ],
   "source": [
    "five_nearest_neighbors = nearest(ckd, alice, 5)\n",
    "five_nearest_neighbors"
   ]
  },
  {
   "cell_type": "markdown",
   "id": "660a89fc-577c-4732-919e-2835fa9898f1",
   "metadata": {},
   "source": [
    "### How do we classify the point?"
   ]
  },
  {
   "cell_type": "markdown",
   "id": "dca5aadf-b6ea-408b-a670-f88aa2410ad3",
   "metadata": {},
   "source": [
    "#### **Task**: Find the majority class (programatically)."
   ]
  },
  {
   "cell_type": "markdown",
   "id": "4046b15d-58cb-440f-b1c0-c08eb7cffdae",
   "metadata": {},
   "source": [
    "##### Method 1"
   ]
  },
  {
   "cell_type": "code",
   "execution_count": 40,
   "id": "3d57e8b7-ad38-46e6-8807-5a376a806162",
   "metadata": {},
   "outputs": [],
   "source": [
    "ones = five_nearest_neighbors.where('Class', are.equal_to(1)).num_rows"
   ]
  },
  {
   "cell_type": "code",
   "execution_count": 41,
   "id": "554c6e5a-31bf-49da-b4c9-20a2b21a1d88",
   "metadata": {},
   "outputs": [],
   "source": [
    "zeros = five_nearest_neighbors.where('Class', are.equal_to(0)).num_rows"
   ]
  },
  {
   "cell_type": "code",
   "execution_count": 42,
   "id": "3e9ade0f-6933-43c5-9689-11ae224b8770",
   "metadata": {},
   "outputs": [
    {
     "name": "stdout",
     "output_type": "stream",
     "text": [
      "0\n"
     ]
    }
   ],
   "source": [
    "if ones > zeros:\n",
    "    print(1)\n",
    "else:\n",
    "    print(0)"
   ]
  },
  {
   "cell_type": "code",
   "execution_count": 43,
   "id": "05b3b970-9eb1-42fd-b751-b804440fcfba",
   "metadata": {},
   "outputs": [],
   "source": [
    "def majority(nearest_neighbors_table):\n",
    "    \"\"\"1 if the majority of the \"Class\" column is 1s, and 0 otherwise.\"\"\"\n",
    "    ones = nearest_neighbors_table.where('Class', are.equal_to(1)).num_rows\n",
    "    zeros = nearest_neighbors_table.where('Class', are.equal_to(0)).num_rows\n",
    "    if ones > zeros:\n",
    "        return 1\n",
    "    else:\n",
    "        return 0"
   ]
  },
  {
   "cell_type": "code",
   "execution_count": 44,
   "id": "84b6995c-91ea-4ff1-bb9e-9cd795160a49",
   "metadata": {},
   "outputs": [
    {
     "data": {
      "text/plain": [
       "0"
      ]
     },
     "execution_count": 44,
     "metadata": {},
     "output_type": "execute_result"
    }
   ],
   "source": [
    "majority(five_nearest_neighbors)"
   ]
  },
  {
   "cell_type": "markdown",
   "id": "20ee7c01-55d0-4ecc-b60b-bfccd830d8e1",
   "metadata": {},
   "source": [
    "##### Method 2"
   ]
  },
  {
   "cell_type": "markdown",
   "id": "9b78a9ca-f6cc-4f98-9404-6b0a17d826ae",
   "metadata": {},
   "source": [
    "**Discussion Question:** [2 min]\n",
    "\n",
    "You are given the `five_nearest_neighbors` table. Write out on a piece of paper (or type on your notes app) a line(s) of code that will find the majority class and return it as a string/number, *regardless* of whether the classes are called 0 or 1, or whatever their names are!"
   ]
  },
  {
   "cell_type": "code",
   "execution_count": 45,
   "id": "42e3e15b-ef7c-47a4-9c09-e8e506d01780",
   "metadata": {},
   "outputs": [
    {
     "data": {
      "text/html": [
       "<table border=\"1\" class=\"dataframe\">\n",
       "    <thead>\n",
       "        <tr>\n",
       "            <th>Class</th> <th>count</th>\n",
       "        </tr>\n",
       "    </thead>\n",
       "    <tbody>\n",
       "        <tr>\n",
       "            <td>0    </td> <td>3    </td>\n",
       "        </tr>\n",
       "        <tr>\n",
       "            <td>1    </td> <td>2    </td>\n",
       "        </tr>\n",
       "    </tbody>\n",
       "</table>"
      ],
      "text/plain": [
       "Class | count\n",
       "0     | 3\n",
       "1     | 2"
      ]
     },
     "execution_count": 45,
     "metadata": {},
     "output_type": "execute_result"
    }
   ],
   "source": [
    "five_nearest_neighbors.group('Class')"
   ]
  },
  {
   "cell_type": "code",
   "execution_count": 46,
   "id": "80dbeb7b-6421-470d-a84c-2f200584b5b5",
   "metadata": {},
   "outputs": [
    {
     "data": {
      "text/html": [
       "<table border=\"1\" class=\"dataframe\">\n",
       "    <thead>\n",
       "        <tr>\n",
       "            <th>Class</th> <th>count</th>\n",
       "        </tr>\n",
       "    </thead>\n",
       "    <tbody>\n",
       "        <tr>\n",
       "            <td>0    </td> <td>3    </td>\n",
       "        </tr>\n",
       "        <tr>\n",
       "            <td>1    </td> <td>2    </td>\n",
       "        </tr>\n",
       "    </tbody>\n",
       "</table>"
      ],
      "text/plain": [
       "Class | count\n",
       "0     | 3\n",
       "1     | 2"
      ]
     },
     "execution_count": 46,
     "metadata": {},
     "output_type": "execute_result"
    }
   ],
   "source": [
    "five_nearest_neighbors.group('Class').sort('count', descending=True)"
   ]
  },
  {
   "cell_type": "code",
   "execution_count": 47,
   "id": "95062bb9-535d-4c5a-a10e-904b384c1be9",
   "metadata": {},
   "outputs": [
    {
     "data": {
      "text/plain": [
       "array([0, 1])"
      ]
     },
     "execution_count": 47,
     "metadata": {},
     "output_type": "execute_result"
    }
   ],
   "source": [
    "five_nearest_neighbors.group('Class').sort('count', descending=True).column('Class')"
   ]
  },
  {
   "cell_type": "code",
   "execution_count": 48,
   "id": "9b1aed74-0951-4271-a9bf-214f073d3343",
   "metadata": {},
   "outputs": [
    {
     "data": {
      "text/plain": [
       "0"
      ]
     },
     "execution_count": 48,
     "metadata": {},
     "output_type": "execute_result"
    }
   ],
   "source": [
    "five_nearest_neighbors.group('Class').sort('count', \n",
    "                                           descending=True).column('Class').item(0)"
   ]
  },
  {
   "cell_type": "code",
   "execution_count": 49,
   "id": "4c3f56d6-d51d-4fca-8410-411cdace97f1",
   "metadata": {},
   "outputs": [],
   "source": [
    "def majority(nearest_neighbors_table, class_name):\n",
    "    return nearest_neighbors_table.group(class_name).sort('count', \n",
    "                                                         descending=True).column(class_name).item(0)"
   ]
  },
  {
   "cell_type": "code",
   "execution_count": 50,
   "id": "2678fa0d-8b7a-49f1-ac7f-d8187c650745",
   "metadata": {},
   "outputs": [
    {
     "data": {
      "text/plain": [
       "0"
      ]
     },
     "execution_count": 50,
     "metadata": {},
     "output_type": "execute_result"
    }
   ],
   "source": [
    "majority(five_nearest_neighbors, 'Class')"
   ]
  },
  {
   "cell_type": "markdown",
   "id": "7a34793e-28bb-4a6b-8cad-c60834c00e19",
   "metadata": {},
   "source": [
    "#### **Task:** Write a function to complete the entire algorithm!"
   ]
  },
  {
   "cell_type": "code",
   "execution_count": 51,
   "id": "e814f54f-e832-4b93-95af-05476a8a5268",
   "metadata": {},
   "outputs": [
    {
     "data": {
      "text/plain": [
       "0"
      ]
     },
     "execution_count": 51,
     "metadata": {},
     "output_type": "execute_result"
    }
   ],
   "source": [
    "five_nearest_neighbors = nearest(ckd, alice, 5)\n",
    "majority(five_nearest_neighbors, 'Class')"
   ]
  },
  {
   "cell_type": "code",
   "execution_count": 52,
   "id": "69b4997d-6bc4-440c-ad12-a19f60d2d8a9",
   "metadata": {},
   "outputs": [],
   "source": [
    "def knn(training, class_name, new_point, k):\n",
    "    nearest_neighbors_table = nearest(training, new_point, k)\n",
    "    return majority(nearest_neighbors_table, class_name)"
   ]
  },
  {
   "cell_type": "code",
   "execution_count": 53,
   "id": "75db09fd-fdce-4708-b9c6-fe37ed0bfa81",
   "metadata": {},
   "outputs": [
    {
     "data": {
      "text/plain": [
       "0"
      ]
     },
     "execution_count": 53,
     "metadata": {},
     "output_type": "execute_result"
    }
   ],
   "source": [
    "knn(ckd, 'Class', alice, 5)"
   ]
  },
  {
   "cell_type": "markdown",
   "id": "befea69f-2d54-4d85-8116-dd9a29ecae26",
   "metadata": {},
   "source": [
    "#### Here are all the functions, in order, that made up this algorithm."
   ]
  },
  {
   "cell_type": "code",
   "execution_count": 54,
   "id": "a75df76f-1ad2-4e06-947f-bfa88393c46f",
   "metadata": {},
   "outputs": [],
   "source": [
    "def distance(point1, point2):\n",
    "    \"\"\"Returns the distance between point1 and point2\n",
    "    where each argument is an array \n",
    "    consisting of the coordinates of the point\"\"\"\n",
    "    return np.sum((point1-point2)**2) ** 0.5\n",
    "\n",
    "def all_distances(training, new_row):\n",
    "    \"\"\"Returns an array of distances\n",
    "    between each point in the training set\n",
    "    and the new point (which is a row of attributes)\"\"\"\n",
    "    attributes = training.drop('Class')\n",
    "    def distance_from_new(row):\n",
    "        return distance(make_array(new_row), make_array(row))\n",
    "    return attributes.apply(distance_from_new)\n",
    "\n",
    "\n",
    "def table_with_distances(training, new_point):\n",
    "    \"\"\"Augments the training table \n",
    "    with a column of distances from new_point\"\"\"\n",
    "    return training.with_column('Distance', all_distances(training, new_point))\n",
    "\n",
    "\n",
    "def nearest(training, new_point, k):\n",
    "    \"\"\"Returns a table of the k rows of the augmented table\n",
    "    corresponding to the k smallest distances\"\"\"\n",
    "    with_dists = table_with_distances(training, new_point)\n",
    "    sorted_by_distance = with_dists.sort('Distance')\n",
    "    nearest_neighbors_table = sorted_by_distance.take(np.arange(k))\n",
    "    return nearest_neighbors_table\n",
    "\n",
    "\n",
    "def majority(nearest_neighbors_table, class_name):\n",
    "    return nearest_neighbors_table.group(class_name).sort('count', \n",
    "                                                         descending=True).column(class_name).item(0)\n",
    "\n",
    "\n",
    "def knn(training, class_name, new_point, k):\n",
    "    nearest_neighbors_table = nearest(training, new_point, k)\n",
    "    return majority(nearest_neighbors_table, class_name)"
   ]
  },
  {
   "cell_type": "markdown",
   "id": "fb3a4828-7c59-492e-be85-4481b4a7246a",
   "metadata": {},
   "source": [
    "____"
   ]
  },
  {
   "cell_type": "markdown",
   "id": "a9ed0f63-d529-4107-9faf-f0a2fdf3339a",
   "metadata": {},
   "source": [
    "**Challenge Task**  [1 min] : Perform $k$-NN using the entire `banknotes` dataset as training! Make up a test point like we did with `alice` for the `ckd` dataset. What will the Euclidean distance calculation look like on paper if you use all of the variables (except `\"Class\"`) as predictors?"
   ]
  },
  {
   "cell_type": "code",
   "execution_count": 55,
   "id": "d934ba38-3338-4ccc-82c5-d1cea662be04",
   "metadata": {},
   "outputs": [
    {
     "data": {
      "text/html": [
       "<table border=\"1\" class=\"dataframe\">\n",
       "    <thead>\n",
       "        <tr>\n",
       "            <th>WaveletVar</th> <th>WaveletSkew</th> <th>WaveletCurt</th> <th>Entropy</th> <th>Class</th>\n",
       "        </tr>\n",
       "    </thead>\n",
       "    <tbody>\n",
       "        <tr>\n",
       "            <td>4.0446    </td> <td>11.1741    </td> <td>-4.3582    </td> <td>-4.7401 </td> <td>0    </td>\n",
       "        </tr>\n",
       "        <tr>\n",
       "            <td>-4.0786   </td> <td>2.9239     </td> <td>0.87026    </td> <td>-0.65389</td> <td>1    </td>\n",
       "        </tr>\n",
       "        <tr>\n",
       "            <td>2.7744    </td> <td>6.8576     </td> <td>-1.0671    </td> <td>0.075416</td> <td>0    </td>\n",
       "        </tr>\n",
       "        <tr>\n",
       "            <td>0.60731   </td> <td>3.9544     </td> <td>-4.772     </td> <td>-4.4853 </td> <td>1    </td>\n",
       "        </tr>\n",
       "        <tr>\n",
       "            <td>1.2616    </td> <td>4.4303     </td> <td>-1.3335    </td> <td>-1.7517 </td> <td>0    </td>\n",
       "        </tr>\n",
       "        <tr>\n",
       "            <td>-3.38     </td> <td>-0.7077    </td> <td>2.5325     </td> <td>0.71808 </td> <td>1    </td>\n",
       "        </tr>\n",
       "    </tbody>\n",
       "</table>"
      ],
      "text/plain": [
       "WaveletVar | WaveletSkew | WaveletCurt | Entropy  | Class\n",
       "4.0446     | 11.1741     | -4.3582     | -4.7401  | 0\n",
       "-4.0786    | 2.9239      | 0.87026     | -0.65389 | 1\n",
       "2.7744     | 6.8576      | -1.0671     | 0.075416 | 0\n",
       "0.60731    | 3.9544      | -4.772      | -4.4853  | 1\n",
       "1.2616     | 4.4303      | -1.3335     | -1.7517  | 0\n",
       "-3.38      | -0.7077     | 2.5325      | 0.71808  | 1"
      ]
     },
     "execution_count": 55,
     "metadata": {},
     "output_type": "execute_result"
    }
   ],
   "source": [
    "banknotes = Table.read_table('banknote.csv')\n",
    "banknotes.sample(6)"
   ]
  },
  {
   "cell_type": "code",
   "execution_count": 57,
   "id": "6c40e302",
   "metadata": {},
   "outputs": [],
   "source": [
    "training_set, testing_set = banknotes.split(banknotes.num_rows // 2)"
   ]
  },
  {
   "cell_type": "code",
   "execution_count": 58,
   "id": "4845b4b7",
   "metadata": {},
   "outputs": [
    {
     "data": {
      "text/plain": [
       "0.9985422740524781"
      ]
     },
     "execution_count": 58,
     "metadata": {},
     "output_type": "execute_result"
    }
   ],
   "source": [
    "testing_attribute = testing_set.drop('Class')\n",
    "correct_num = 0\n",
    "for i in np.arange(testing_set.num_rows):\n",
    "    test_class = knn(training_set, 'Class', testing_attribute.row(i), 5)\n",
    "    correct_num += (test_class == testing_set.column('Class').item(i))\n",
    "accuracy = correct_num / testing_set.num_rows\n",
    "accuracy"
   ]
  },
  {
   "cell_type": "code",
   "execution_count": 61,
   "id": "a3aa0b22",
   "metadata": {},
   "outputs": [
    {
     "data": {
      "text/plain": [
       "(685, 686, 0.9985422740524781)"
      ]
     },
     "execution_count": 61,
     "metadata": {},
     "output_type": "execute_result"
    }
   ],
   "source": [
    "correct_num, testing_set.num_rows, accuracy"
   ]
  },
  {
   "cell_type": "code",
   "execution_count": null,
   "id": "ef8aa84a",
   "metadata": {},
   "outputs": [],
   "source": []
  }
 ],
 "metadata": {
  "kernelspec": {
   "display_name": "data8",
   "language": "python",
   "name": "python3"
  },
  "language_info": {
   "codemirror_mode": {
    "name": "ipython",
    "version": 3
   },
   "file_extension": ".py",
   "mimetype": "text/x-python",
   "name": "python",
   "nbconvert_exporter": "python",
   "pygments_lexer": "ipython3",
   "version": "3.12.3"
  }
 },
 "nbformat": 4,
 "nbformat_minor": 5
}
