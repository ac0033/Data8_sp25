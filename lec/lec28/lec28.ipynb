{
 "cells": [
  {
   "cell_type": "code",
   "execution_count": 1,
   "metadata": {
    "scrolled": true
   },
   "outputs": [],
   "source": [
    "import matplotlib\n",
    "from datascience import *\n",
    "%matplotlib inline\n",
    "import matplotlib.pyplot as plots\n",
    "import numpy as np\n",
    "plots.style.use('fivethirtyeight')"
   ]
  },
  {
   "cell_type": "markdown",
   "metadata": {},
   "source": [
    "## Review"
   ]
  },
  {
   "cell_type": "code",
   "execution_count": 2,
   "metadata": {},
   "outputs": [],
   "source": [
    "united = Table.read_table('united.csv')"
   ]
  },
  {
   "cell_type": "code",
   "execution_count": 3,
   "metadata": {},
   "outputs": [
    {
     "data": {
      "text/html": [
       "<table border=\"1\" class=\"dataframe\">\n",
       "    <thead>\n",
       "        <tr>\n",
       "            <th>Date</th> <th>Flight Number</th> <th>Destination</th> <th>Delay</th>\n",
       "        </tr>\n",
       "    </thead>\n",
       "    <tbody>\n",
       "        <tr>\n",
       "            <td>6/1/15 </td> <td>1922         </td> <td>EWR        </td> <td>-1   </td>\n",
       "        </tr>\n",
       "        <tr>\n",
       "            <td>8/19/15</td> <td>267          </td> <td>PHL        </td> <td>-4   </td>\n",
       "        </tr>\n",
       "        <tr>\n",
       "            <td>8/7/15 </td> <td>1200         </td> <td>IAH        </td> <td>2    </td>\n",
       "        </tr>\n",
       "        <tr>\n",
       "            <td>6/6/15 </td> <td>364          </td> <td>PDX        </td> <td>17   </td>\n",
       "        </tr>\n",
       "        <tr>\n",
       "            <td>6/4/15 </td> <td>1111         </td> <td>EWR        </td> <td>-1   </td>\n",
       "        </tr>\n",
       "        <tr>\n",
       "            <td>7/26/15</td> <td>1957         </td> <td>MCO        </td> <td>17   </td>\n",
       "        </tr>\n",
       "    </tbody>\n",
       "</table>"
      ],
      "text/plain": [
       "<IPython.core.display.HTML object>"
      ]
     },
     "metadata": {},
     "output_type": "display_data"
    }
   ],
   "source": [
    "united.sample(6,with_replacement = False).show()"
   ]
  },
  {
   "cell_type": "code",
   "execution_count": 4,
   "metadata": {},
   "outputs": [
    {
     "data": {
      "text/plain": [
       "16.658155515370705"
      ]
     },
     "execution_count": 4,
     "metadata": {},
     "output_type": "execute_result"
    }
   ],
   "source": [
    "population_mean = np.average(united.column(\"Delay\"))\n",
    "population_mean"
   ]
  },
  {
   "cell_type": "code",
   "execution_count": 5,
   "metadata": {},
   "outputs": [
    {
     "data": {
      "text/plain": [
       "39.480199851609314"
      ]
     },
     "execution_count": 5,
     "metadata": {},
     "output_type": "execute_result"
    }
   ],
   "source": [
    "population_sd = np.std(united.column(\"Delay\"))\n",
    "population_sd"
   ]
  },
  {
   "cell_type": "code",
   "execution_count": 6,
   "metadata": {},
   "outputs": [],
   "source": [
    "def one_sample_mean(sample_size):\n",
    "    \"\"\"Take a sample from the population of flights and compute its mean\"\"\"\n",
    "    sampled_flights = united.sample(sample_size)\n",
    "    return np.mean(sampled_flights.column('Delay'))"
   ]
  },
  {
   "cell_type": "code",
   "execution_count": 7,
   "metadata": {},
   "outputs": [],
   "source": [
    "def ten_thousand_sample_means(sample_size):\n",
    "    \"\"\"Approximate the distribution of the sample mean\"\"\"\n",
    "    means = make_array()\n",
    "    for i in np.arange(10000):\n",
    "        mean = one_sample_mean(sample_size)\n",
    "        means = np.append(means, mean)\n",
    "    return means"
   ]
  },
  {
   "cell_type": "code",
   "execution_count": 8,
   "metadata": {},
   "outputs": [],
   "source": [
    "sample_means_400 = ten_thousand_sample_means(400)\n",
    "sample_means_900 = ten_thousand_sample_means(900)"
   ]
  },
  {
   "cell_type": "code",
   "execution_count": 10,
   "metadata": {},
   "outputs": [
    {
     "data": {
      "text/html": [
       "<table border=\"1\" class=\"dataframe\">\n",
       "    <thead>\n",
       "        <tr>\n",
       "            <th>400</th> <th>900</th>\n",
       "        </tr>\n",
       "    </thead>\n",
       "    <tbody>\n",
       "        <tr>\n",
       "            <td>20.32  </td> <td>15.2933</td>\n",
       "        </tr>\n",
       "        <tr>\n",
       "            <td>23.0975</td> <td>18.24  </td>\n",
       "        </tr>\n",
       "        <tr>\n",
       "            <td>16.7275</td> <td>15.3522</td>\n",
       "        </tr>\n",
       "        <tr>\n",
       "            <td>15.5125</td> <td>16.4311</td>\n",
       "        </tr>\n",
       "        <tr>\n",
       "            <td>15.3825</td> <td>16.69  </td>\n",
       "        </tr>\n",
       "        <tr>\n",
       "            <td>17.215 </td> <td>17.7356</td>\n",
       "        </tr>\n",
       "        <tr>\n",
       "            <td>15.815 </td> <td>16.6567</td>\n",
       "        </tr>\n",
       "        <tr>\n",
       "            <td>16.025 </td> <td>14.6433</td>\n",
       "        </tr>\n",
       "        <tr>\n",
       "            <td>15.3925</td> <td>15.9011</td>\n",
       "        </tr>\n",
       "        <tr>\n",
       "            <td>16.6225</td> <td>19.1156</td>\n",
       "        </tr>\n",
       "    </tbody>\n",
       "</table>\n",
       "<p>... (9990 rows omitted)</p>"
      ],
      "text/plain": [
       "400     | 900\n",
       "20.32   | 15.2933\n",
       "23.0975 | 18.24\n",
       "16.7275 | 15.3522\n",
       "15.5125 | 16.4311\n",
       "15.3825 | 16.69\n",
       "17.215  | 17.7356\n",
       "15.815  | 16.6567\n",
       "16.025  | 14.6433\n",
       "15.3925 | 15.9011\n",
       "16.6225 | 19.1156\n",
       "... (9990 rows omitted)"
      ]
     },
     "execution_count": 10,
     "metadata": {},
     "output_type": "execute_result"
    }
   ],
   "source": [
    "means_tbl = Table().with_columns(\n",
    "    '400', sample_means_400,\n",
    "    '900', sample_means_900,\n",
    ")\n",
    "means_tbl"
   ]
  },
  {
   "cell_type": "code",
   "execution_count": 11,
   "metadata": {},
   "outputs": [
    {
     "data": {
      "image/png": "[encoded data removed]",
      "text/plain": [
       "<Figure size 600x400 with 1 Axes>"
      ]
     },
     "metadata": {},
     "output_type": "display_data"
    }
   ],
   "source": [
    "means_tbl.hist(bins = np.arange(5, 31, 0.5))\n",
    "plots.plot((population_mean, population_mean), (0, 0.3), color='aquamarine', lw=2,ls='--')\n",
    "plots.show();"
   ]
  },
  {
   "cell_type": "markdown",
   "metadata": {},
   "source": [
    "## New material"
   ]
  },
  {
   "cell_type": "markdown",
   "metadata": {},
   "source": [
    "### Choosing a sample size given an interval width"
   ]
  },
  {
   "cell_type": "code",
   "execution_count": 12,
   "metadata": {
    "scrolled": true
   },
   "outputs": [
    {
     "name": "stdout",
     "output_type": "stream",
     "text": [
      "Standard Deviation: 0.4\n"
     ]
    },
    {
     "data": {
      "text/plain": [
       "array([ 1.,  1.,  0.,  0.,  0.,  0.,  0.,  0.,  0.,  0.])"
      ]
     },
     "execution_count": 12,
     "metadata": {},
     "output_type": "execute_result"
    }
   ],
   "source": [
    "# population of size 10\n",
    "\n",
    "number_of_ones = 2\n",
    "zero_one_population = np.append(np.ones(number_of_ones), np.zeros(10 - number_of_ones))\n",
    "\n",
    "print('Standard Deviation:', np.round(np.std(zero_one_population),2))\n",
    "\n",
    "zero_one_population"
   ]
  },
  {
   "cell_type": "code",
   "execution_count": 13,
   "metadata": {
    "scrolled": true
   },
   "outputs": [],
   "source": [
    "def sd_of_zero_one_population(number_of_ones):\n",
    "    \"\"\"Returns the SD of a population \n",
    "    that has 10 elements: num_ones with value 1 and (10 - num_ones) with value 0\"\"\"\n",
    "    zero_one_population = np.append(np.ones(number_of_ones), \n",
    "                                    np.zeros(10 - number_of_ones))\n",
    "    return np.std(zero_one_population)"
   ]
  },
  {
   "cell_type": "code",
   "execution_count": 14,
   "metadata": {
    "scrolled": true
   },
   "outputs": [
    {
     "data": {
      "text/html": [
       "<table border=\"1\" class=\"dataframe\">\n",
       "    <thead>\n",
       "        <tr>\n",
       "            <th>Number of Ones</th> <th>Proportion of Ones</th>\n",
       "        </tr>\n",
       "    </thead>\n",
       "    <tbody>\n",
       "        <tr>\n",
       "            <td>0             </td> <td>0                 </td>\n",
       "        </tr>\n",
       "        <tr>\n",
       "            <td>1             </td> <td>0.1               </td>\n",
       "        </tr>\n",
       "        <tr>\n",
       "            <td>2             </td> <td>0.2               </td>\n",
       "        </tr>\n",
       "        <tr>\n",
       "            <td>3             </td> <td>0.3               </td>\n",
       "        </tr>\n",
       "        <tr>\n",
       "            <td>4             </td> <td>0.4               </td>\n",
       "        </tr>\n",
       "        <tr>\n",
       "            <td>5             </td> <td>0.5               </td>\n",
       "        </tr>\n",
       "        <tr>\n",
       "            <td>6             </td> <td>0.6               </td>\n",
       "        </tr>\n",
       "        <tr>\n",
       "            <td>7             </td> <td>0.7               </td>\n",
       "        </tr>\n",
       "        <tr>\n",
       "            <td>8             </td> <td>0.8               </td>\n",
       "        </tr>\n",
       "        <tr>\n",
       "            <td>9             </td> <td>0.9               </td>\n",
       "        </tr>\n",
       "        <tr>\n",
       "            <td>10            </td> <td>1                 </td>\n",
       "        </tr>\n",
       "    </tbody>\n",
       "</table>"
      ],
      "text/plain": [
       "<IPython.core.display.HTML object>"
      ]
     },
     "metadata": {},
     "output_type": "display_data"
    }
   ],
   "source": [
    "possible_ones = np.arange(11)\n",
    "zero_one_pop = Table().with_columns(\n",
    "    'Number of Ones', possible_ones,\n",
    "    'Proportion of Ones', possible_ones / 10\n",
    ")\n",
    "zero_one_pop.show()"
   ]
  },
  {
   "cell_type": "code",
   "execution_count": 15,
   "metadata": {
    "scrolled": true
   },
   "outputs": [
    {
     "data": {
      "text/html": [
       "<table border=\"1\" class=\"dataframe\">\n",
       "    <thead>\n",
       "        <tr>\n",
       "            <th>Number of Ones</th> <th>Proportion of Ones</th> <th>Pop SD</th>\n",
       "        </tr>\n",
       "    </thead>\n",
       "    <tbody>\n",
       "        <tr>\n",
       "            <td>0             </td> <td>0                 </td> <td>0       </td>\n",
       "        </tr>\n",
       "        <tr>\n",
       "            <td>1             </td> <td>0.1               </td> <td>0.3     </td>\n",
       "        </tr>\n",
       "        <tr>\n",
       "            <td>2             </td> <td>0.2               </td> <td>0.4     </td>\n",
       "        </tr>\n",
       "        <tr>\n",
       "            <td>3             </td> <td>0.3               </td> <td>0.458258</td>\n",
       "        </tr>\n",
       "        <tr>\n",
       "            <td>4             </td> <td>0.4               </td> <td>0.489898</td>\n",
       "        </tr>\n",
       "        <tr>\n",
       "            <td>5             </td> <td>0.5               </td> <td>0.5     </td>\n",
       "        </tr>\n",
       "        <tr>\n",
       "            <td>6             </td> <td>0.6               </td> <td>0.489898</td>\n",
       "        </tr>\n",
       "        <tr>\n",
       "            <td>7             </td> <td>0.7               </td> <td>0.458258</td>\n",
       "        </tr>\n",
       "        <tr>\n",
       "            <td>8             </td> <td>0.8               </td> <td>0.4     </td>\n",
       "        </tr>\n",
       "        <tr>\n",
       "            <td>9             </td> <td>0.9               </td> <td>0.3     </td>\n",
       "        </tr>\n",
       "        <tr>\n",
       "            <td>10            </td> <td>1                 </td> <td>0       </td>\n",
       "        </tr>\n",
       "    </tbody>\n",
       "</table>"
      ],
      "text/plain": [
       "<IPython.core.display.HTML object>"
      ]
     },
     "metadata": {},
     "output_type": "display_data"
    }
   ],
   "source": [
    "sds = zero_one_pop.apply(sd_of_zero_one_population, 'Number of Ones')\n",
    "zero_one_pop = zero_one_pop.with_column('Pop SD', sds)\n",
    "zero_one_pop.show()"
   ]
  },
  {
   "cell_type": "code",
   "execution_count": 18,
   "metadata": {
    "scrolled": true
   },
   "outputs": [
    {
     "data": {
      "image/png": "[encoded data removed]",
      "text/plain": [
       "<Figure size 500x500 with 1 Axes>"
      ]
     },
     "metadata": {},
     "output_type": "display_data"
    }
   ],
   "source": [
    "zero_one_pop.scatter('Proportion of Ones', 'Pop SD')\n",
    "plots.show()"
   ]
  },
  {
   "cell_type": "code",
   "execution_count": 4,
   "metadata": {},
   "outputs": [
    {
     "data": {
      "text/plain": [
       "np.float64(0.47528938553264577)"
      ]
     },
     "execution_count": 4,
     "metadata": {},
     "output_type": "execute_result"
    }
   ],
   "source": [
    "import numpy as np\n",
    "(np.sqrt(1004)*0.06/4)"
   ]
  },
  {
   "cell_type": "code",
   "execution_count": 5,
   "metadata": {},
   "outputs": [
    {
     "data": {
      "text/plain": [
       "1111.1111111111113"
      ]
     },
     "execution_count": 5,
     "metadata": {},
     "output_type": "execute_result"
    }
   ],
   "source": [
    "(0.5*4/0.06)**2"
   ]
  },
  {
   "cell_type": "code",
   "execution_count": 6,
   "metadata": {},
   "outputs": [
    {
     "data": {
      "text/plain": [
       "np.float64(0.06324555320336758)"
      ]
     },
     "execution_count": 6,
     "metadata": {},
     "output_type": "execute_result"
    }
   ],
   "source": [
    "4*0.5/np.sqrt(1000)"
   ]
  },
  {
   "cell_type": "code",
   "execution_count": null,
   "metadata": {},
   "outputs": [],
   "source": []
  }
 ],
 "metadata": {
  "kernelspec": {
   "display_name": "data8",
   "language": "python",
   "name": "python3"
  },
  "language_info": {
   "codemirror_mode": {
    "name": "ipython",
    "version": 3
   },
   "file_extension": ".py",
   "mimetype": "text/x-python",
   "name": "python",
   "nbconvert_exporter": "python",
   "pygments_lexer": "ipython3",
   "version": "3.12.3"
  }
 },
 "nbformat": 4,
 "nbformat_minor": 4
}
