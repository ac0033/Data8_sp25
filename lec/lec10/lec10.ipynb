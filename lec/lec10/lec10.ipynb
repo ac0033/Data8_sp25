{
 "cells": [
  {
   "cell_type": "code",
   "execution_count": 2,
   "id": "d9553382-f8c7-4a61-bd9c-8fe287983e8e",
   "metadata": {},
   "outputs": [],
   "source": [
    "from datascience import *\n",
    "import numpy as np\n",
    "\n",
    "%matplotlib inline\n",
    "import matplotlib.pyplot as plots\n",
    "plots.style.use('fivethirtyeight')\n",
    "import warnings\n",
    "warnings.simplefilter(action='ignore', category=DeprecationWarning)"
   ]
  },
  {
   "cell_type": "markdown",
   "id": "11607002-6181-4a55-bd25-9adb8e9d7a6d",
   "metadata": {},
   "source": [
    "## Review\n",
    "\n",
    "- conducted on https://polleverywhere.com/jeremysanchez"
   ]
  },
  {
   "cell_type": "markdown",
   "id": "f1d1e391-69ee-43e2-b20e-eee25c926811",
   "metadata": {},
   "source": [
    "## New material"
   ]
  },
  {
   "cell_type": "markdown",
   "id": "2ea5711f-040a-46ca-9905-c57df582aae8",
   "metadata": {},
   "source": [
    "### One-column groups"
   ]
  },
  {
   "cell_type": "code",
   "execution_count": 3,
   "id": "8fc1ea34-1c38-41c2-8096-ab1d612f3eef",
   "metadata": {},
   "outputs": [],
   "source": [
    "cones = Table.read_table('cones.csv')\n",
    "cones_without_color = cones.drop('Color')"
   ]
  },
  {
   "cell_type": "code",
   "execution_count": 4,
   "id": "6239ad87-942e-482a-92be-c393dfbe241f",
   "metadata": {},
   "outputs": [
    {
     "data": {
      "text/html": [
       "<table border=\"1\" class=\"dataframe\">\n",
       "    <thead>\n",
       "        <tr>\n",
       "            <th>Flavor</th> <th>Price</th>\n",
       "        </tr>\n",
       "    </thead>\n",
       "    <tbody>\n",
       "        <tr>\n",
       "            <td>strawberry</td> <td>3.55 </td>\n",
       "        </tr>\n",
       "        <tr>\n",
       "            <td>chocolate </td> <td>4.75 </td>\n",
       "        </tr>\n",
       "        <tr>\n",
       "            <td>chocolate </td> <td>5.25 </td>\n",
       "        </tr>\n",
       "        <tr>\n",
       "            <td>strawberry</td> <td>5.25 </td>\n",
       "        </tr>\n",
       "        <tr>\n",
       "            <td>chocolate </td> <td>5.25 </td>\n",
       "        </tr>\n",
       "        <tr>\n",
       "            <td>bubblegum </td> <td>4.75 </td>\n",
       "        </tr>\n",
       "    </tbody>\n",
       "</table>"
      ],
      "text/plain": [
       "Flavor     | Price\n",
       "strawberry | 3.55\n",
       "chocolate  | 4.75\n",
       "chocolate  | 5.25\n",
       "strawberry | 5.25\n",
       "chocolate  | 5.25\n",
       "bubblegum  | 4.75"
      ]
     },
     "execution_count": 4,
     "metadata": {},
     "output_type": "execute_result"
    }
   ],
   "source": [
    "cones_without_color"
   ]
  },
  {
   "cell_type": "code",
   "execution_count": 5,
   "id": "410e4ab2-99d3-4e96-b2bd-b510d6ebeea7",
   "metadata": {},
   "outputs": [
    {
     "data": {
      "text/html": [
       "<table border=\"1\" class=\"dataframe\">\n",
       "    <thead>\n",
       "        <tr>\n",
       "            <th>Flavor</th> <th>Price</th>\n",
       "        </tr>\n",
       "    </thead>\n",
       "    <tbody>\n",
       "        <tr>\n",
       "            <td>strawberry</td> <td>3.55 </td>\n",
       "        </tr>\n",
       "        <tr>\n",
       "            <td>chocolate </td> <td>4.75 </td>\n",
       "        </tr>\n",
       "        <tr>\n",
       "            <td>chocolate </td> <td>5.25 </td>\n",
       "        </tr>\n",
       "        <tr>\n",
       "            <td>strawberry</td> <td>5.25 </td>\n",
       "        </tr>\n",
       "        <tr>\n",
       "            <td>chocolate </td> <td>5.25 </td>\n",
       "        </tr>\n",
       "        <tr>\n",
       "            <td>bubblegum </td> <td>4.75 </td>\n",
       "        </tr>\n",
       "    </tbody>\n",
       "</table>"
      ],
      "text/plain": [
       "Flavor     | Price\n",
       "strawberry | 3.55\n",
       "chocolate  | 4.75\n",
       "chocolate  | 5.25\n",
       "strawberry | 5.25\n",
       "chocolate  | 5.25\n",
       "bubblegum  | 4.75"
      ]
     },
     "execution_count": 5,
     "metadata": {},
     "output_type": "execute_result"
    }
   ],
   "source": [
    "cones_without_color"
   ]
  },
  {
   "cell_type": "code",
   "execution_count": 6,
   "id": "34b8583d-5506-41af-b736-81560bc33cce",
   "metadata": {},
   "outputs": [
    {
     "data": {
      "text/html": [
       "<table border=\"1\" class=\"dataframe\">\n",
       "    <thead>\n",
       "        <tr>\n",
       "            <th>Flavor</th> <th>Price average</th>\n",
       "        </tr>\n",
       "    </thead>\n",
       "    <tbody>\n",
       "        <tr>\n",
       "            <td>bubblegum </td> <td>4.75         </td>\n",
       "        </tr>\n",
       "        <tr>\n",
       "            <td>chocolate </td> <td>5.08333      </td>\n",
       "        </tr>\n",
       "        <tr>\n",
       "            <td>strawberry</td> <td>4.4          </td>\n",
       "        </tr>\n",
       "    </tbody>\n",
       "</table>"
      ],
      "text/plain": [
       "Flavor     | Price average\n",
       "bubblegum  | 4.75\n",
       "chocolate  | 5.08333\n",
       "strawberry | 4.4"
      ]
     },
     "execution_count": 6,
     "metadata": {},
     "output_type": "execute_result"
    }
   ],
   "source": [
    "cones_without_color.group('Flavor', np.average)"
   ]
  },
  {
   "cell_type": "markdown",
   "id": "1a5ec44e-c578-44ed-af5a-1a161212fc9d",
   "metadata": {},
   "source": [
    "### Two-column groups"
   ]
  },
  {
   "cell_type": "code",
   "execution_count": 7,
   "id": "dd5700e1-ea78-4253-8ba2-880152a76f75",
   "metadata": {},
   "outputs": [
    {
     "data": {
      "text/html": [
       "<table border=\"1\" class=\"dataframe\">\n",
       "    <thead>\n",
       "        <tr>\n",
       "            <th>Flavor</th> <th>Color</th> <th>Price</th>\n",
       "        </tr>\n",
       "    </thead>\n",
       "    <tbody>\n",
       "        <tr>\n",
       "            <td>strawberry</td> <td>pink       </td> <td>3.55 </td>\n",
       "        </tr>\n",
       "        <tr>\n",
       "            <td>chocolate </td> <td>light brown</td> <td>4.75 </td>\n",
       "        </tr>\n",
       "        <tr>\n",
       "            <td>chocolate </td> <td>dark brown </td> <td>5.25 </td>\n",
       "        </tr>\n",
       "        <tr>\n",
       "            <td>strawberry</td> <td>pink       </td> <td>5.25 </td>\n",
       "        </tr>\n",
       "        <tr>\n",
       "            <td>chocolate </td> <td>dark brown </td> <td>5.25 </td>\n",
       "        </tr>\n",
       "        <tr>\n",
       "            <td>bubblegum </td> <td>pink       </td> <td>4.75 </td>\n",
       "        </tr>\n",
       "    </tbody>\n",
       "</table>"
      ],
      "text/plain": [
       "Flavor     | Color       | Price\n",
       "strawberry | pink        | 3.55\n",
       "chocolate  | light brown | 4.75\n",
       "chocolate  | dark brown  | 5.25\n",
       "strawberry | pink        | 5.25\n",
       "chocolate  | dark brown  | 5.25\n",
       "bubblegum  | pink        | 4.75"
      ]
     },
     "execution_count": 7,
     "metadata": {},
     "output_type": "execute_result"
    }
   ],
   "source": [
    "cones"
   ]
  },
  {
   "cell_type": "code",
   "execution_count": 8,
   "id": "c37d2afa-8717-4a7f-859a-1a10037e35cc",
   "metadata": {},
   "outputs": [
    {
     "data": {
      "text/html": [
       "<table border=\"1\" class=\"dataframe\">\n",
       "    <thead>\n",
       "        <tr>\n",
       "            <th>Flavor</th> <th>Color</th> <th>Price average</th>\n",
       "        </tr>\n",
       "    </thead>\n",
       "    <tbody>\n",
       "        <tr>\n",
       "            <td>bubblegum </td> <td>pink       </td> <td>4.75         </td>\n",
       "        </tr>\n",
       "        <tr>\n",
       "            <td>chocolate </td> <td>dark brown </td> <td>5.25         </td>\n",
       "        </tr>\n",
       "        <tr>\n",
       "            <td>chocolate </td> <td>light brown</td> <td>4.75         </td>\n",
       "        </tr>\n",
       "        <tr>\n",
       "            <td>strawberry</td> <td>pink       </td> <td>4.4          </td>\n",
       "        </tr>\n",
       "    </tbody>\n",
       "</table>"
      ],
      "text/plain": [
       "Flavor     | Color       | Price average\n",
       "bubblegum  | pink        | 4.75\n",
       "chocolate  | dark brown  | 5.25\n",
       "chocolate  | light brown | 4.75\n",
       "strawberry | pink        | 4.4"
      ]
     },
     "execution_count": 8,
     "metadata": {},
     "output_type": "execute_result"
    }
   ],
   "source": [
    "cones.group(['Flavor','Color'],np.average)"
   ]
  },
  {
   "cell_type": "code",
   "execution_count": 10,
   "id": "046222cf-8f8d-41e5-af30-e3840e57b98c",
   "metadata": {},
   "outputs": [
    {
     "data": {
      "text/html": [
       "<table border=\"1\" class=\"dataframe\">\n",
       "    <thead>\n",
       "        <tr>\n",
       "            <th>Flavor</th> <th>Color</th> <th>Price sum</th>\n",
       "        </tr>\n",
       "    </thead>\n",
       "    <tbody>\n",
       "        <tr>\n",
       "            <td>bubblegum </td> <td>pink       </td> <td>4.75     </td>\n",
       "        </tr>\n",
       "        <tr>\n",
       "            <td>chocolate </td> <td>dark brown </td> <td>10.5     </td>\n",
       "        </tr>\n",
       "        <tr>\n",
       "            <td>chocolate </td> <td>light brown</td> <td>4.75     </td>\n",
       "        </tr>\n",
       "        <tr>\n",
       "            <td>strawberry</td> <td>pink       </td> <td>8.8      </td>\n",
       "        </tr>\n",
       "    </tbody>\n",
       "</table>"
      ],
      "text/plain": [
       "Flavor     | Color       | Price sum\n",
       "bubblegum  | pink        | 4.75\n",
       "chocolate  | dark brown  | 10.5\n",
       "chocolate  | light brown | 4.75\n",
       "strawberry | pink        | 8.8"
      ]
     },
     "execution_count": 10,
     "metadata": {},
     "output_type": "execute_result"
    }
   ],
   "source": [
    "cones.group(['Flavor','Color'], sum)"
   ]
  },
  {
   "cell_type": "markdown",
   "id": "88b4fe20-f1d0-4a56-b5ba-75f723fe2759",
   "metadata": {},
   "source": [
    "### We can make our own collect functions!"
   ]
  },
  {
   "cell_type": "code",
   "execution_count": 9,
   "id": "36941151-b104-49d7-be5f-e13071332041",
   "metadata": {},
   "outputs": [
    {
     "data": {
      "text/html": [
       "<table border=\"1\" class=\"dataframe\">\n",
       "    <thead>\n",
       "        <tr>\n",
       "            <th>rank</th> <th>name</th> <th>position</th> <th>team</th> <th>salary</th> <th>season</th>\n",
       "        </tr>\n",
       "    </thead>\n",
       "    <tbody>\n",
       "        <tr>\n",
       "            <td>1   </td> <td>Shaquille O'Neal</td> <td>C       </td> <td>Los Angeles Lakers    </td> <td>17142000</td> <td>2000  </td>\n",
       "        </tr>\n",
       "        <tr>\n",
       "            <td>2   </td> <td>Kevin Garnett   </td> <td>PF      </td> <td>Minnesota Timberwolves</td> <td>16806000</td> <td>2000  </td>\n",
       "        </tr>\n",
       "        <tr>\n",
       "            <td>3   </td> <td>Alonzo Mourning </td> <td>C       </td> <td>Miami Heat            </td> <td>15004000</td> <td>2000  </td>\n",
       "        </tr>\n",
       "        <tr>\n",
       "            <td>4   </td> <td>Juwan Howard    </td> <td>PF      </td> <td>Washington Wizards    </td> <td>15000000</td> <td>2000  </td>\n",
       "        </tr>\n",
       "        <tr>\n",
       "            <td>5   </td> <td>Scottie Pippen  </td> <td>SF      </td> <td>Portland Trail Blazers</td> <td>14795000</td> <td>2000  </td>\n",
       "        </tr>\n",
       "        <tr>\n",
       "            <td>6   </td> <td>Karl Malone     </td> <td>PF      </td> <td>Utah Jazz             </td> <td>14000000</td> <td>2000  </td>\n",
       "        </tr>\n",
       "    </tbody>\n",
       "</table>\n",
       "<p>... (9450 rows omitted)</p>"
      ],
      "text/plain": [
       "<IPython.core.display.HTML object>"
      ]
     },
     "metadata": {},
     "output_type": "display_data"
    }
   ],
   "source": [
    "nba = Table.read_table(\"nba_salaries.csv\")\n",
    "nba.show(6)"
   ]
  },
  {
   "cell_type": "markdown",
   "id": "7b3bd217-290d-4131-8c6c-84832dd84f18",
   "metadata": {},
   "source": [
    "**Task/Discussion Question**: Write a function called `average_in_millions` which:\n",
    "- finds the average of a set of numbers, `values`\n",
    "- divides this average by 1 million."
   ]
  },
  {
   "cell_type": "code",
   "execution_count": 11,
   "id": "7df4d92d-fd3b-4561-ab44-152113a6400b",
   "metadata": {},
   "outputs": [],
   "source": [
    "def average_in_millions(values):\n",
    "    return np.average(values)/1e6"
   ]
  },
  {
   "cell_type": "code",
   "execution_count": 12,
   "id": "9c9fdca3-1ec3-4b91-870f-8d5bc578fdb7",
   "metadata": {},
   "outputs": [
    {
     "data": {
      "text/plain": [
       "0.00014999999999999999"
      ]
     },
     "execution_count": 12,
     "metadata": {},
     "output_type": "execute_result"
    }
   ],
   "source": [
    "average_in_millions(make_array(100,200))"
   ]
  },
  {
   "cell_type": "markdown",
   "id": "f06a4789-df0e-42bd-b475-087adda69ac1",
   "metadata": {},
   "source": [
    "**Task/Discussion Question**: There are 30 NBA teams. How many rows and how many columns will the table be that is produced by the following code [code given in lecture]?"
   ]
  },
  {
   "cell_type": "code",
   "execution_count": 13,
   "id": "0f7c6128-9b83-4f62-8e8d-e74881554b04",
   "metadata": {},
   "outputs": [
    {
     "data": {
      "text/html": [
       "<table border=\"1\" class=\"dataframe\">\n",
       "    <thead>\n",
       "        <tr>\n",
       "            <th>team</th> <th>salary average_in_millions</th>\n",
       "        </tr>\n",
       "    </thead>\n",
       "    <tbody>\n",
       "        <tr>\n",
       "            <td>Atlanta Hawks        </td> <td>5.37159                   </td>\n",
       "        </tr>\n",
       "        <tr>\n",
       "            <td>Boston Celtics       </td> <td>7.43857                   </td>\n",
       "        </tr>\n",
       "        <tr>\n",
       "            <td>Brooklyn Nets        </td> <td>6.97464                   </td>\n",
       "        </tr>\n",
       "        <tr>\n",
       "            <td>Charlotte Hornets    </td> <td>6.49526                   </td>\n",
       "        </tr>\n",
       "        <tr>\n",
       "            <td>Chicago Bulls        </td> <td>6.05126                   </td>\n",
       "        </tr>\n",
       "        <tr>\n",
       "            <td>Cleveland Cavaliers  </td> <td>7.31261                   </td>\n",
       "        </tr>\n",
       "        <tr>\n",
       "            <td>Dallas Mavericks     </td> <td>8.42969                   </td>\n",
       "        </tr>\n",
       "        <tr>\n",
       "            <td>Denver Nuggets       </td> <td>9.75706                   </td>\n",
       "        </tr>\n",
       "        <tr>\n",
       "            <td>Detroit Pistons      </td> <td>7.55149                   </td>\n",
       "        </tr>\n",
       "        <tr>\n",
       "            <td>Golden State Warriors</td> <td>8.15469                   </td>\n",
       "        </tr>\n",
       "    </tbody>\n",
       "</table>\n",
       "<p>... (20 rows omitted)</p>"
      ],
      "text/plain": [
       "team                  | salary average_in_millions\n",
       "Atlanta Hawks         | 5.37159\n",
       "Boston Celtics        | 7.43857\n",
       "Brooklyn Nets         | 6.97464\n",
       "Charlotte Hornets     | 6.49526\n",
       "Chicago Bulls         | 6.05126\n",
       "Cleveland Cavaliers   | 7.31261\n",
       "Dallas Mavericks      | 8.42969\n",
       "Denver Nuggets        | 9.75706\n",
       "Detroit Pistons       | 7.55149\n",
       "Golden State Warriors | 8.15469\n",
       "... (20 rows omitted)"
      ]
     },
     "execution_count": 13,
     "metadata": {},
     "output_type": "execute_result"
    }
   ],
   "source": [
    "nba.where('season',\n",
    "          2020).select('team',\n",
    "                       'salary').group('team', average_in_millions)"
   ]
  },
  {
   "cell_type": "markdown",
   "id": "ed62a1ab-293e-4c3b-8d05-9a6730897e6f",
   "metadata": {},
   "source": [
    "____"
   ]
  },
  {
   "cell_type": "markdown",
   "id": "b6609347-a059-48fe-8bf4-5bd07dddd376",
   "metadata": {},
   "source": [
    "#### **Challenge Task (`nba` dataset)**: Find the five teams paying the highest average salary (in millions) in 2010.\n",
    "- Your results should be in the form of a table with 5 rows and 2 columns:\n",
    "    - One column should have the team name\n",
    "    - The other column should have the average salary for that team, in millions.\n",
    "- Challenge: Try to only use `Table.select()` or `Table.drop()` *once* in your solution. "
   ]
  },
  {
   "cell_type": "code",
   "execution_count": 15,
   "id": "279e9145-023c-4449-b691-80c45cab08c8",
   "metadata": {},
   "outputs": [
    {
     "data": {
      "text/html": [
       "<table border=\"1\" class=\"dataframe\">\n",
       "    <thead>\n",
       "        <tr>\n",
       "            <th>team</th> <th>salary average_in_millions</th>\n",
       "        </tr>\n",
       "    </thead>\n",
       "    <tbody>\n",
       "        <tr>\n",
       "            <td>Dallas Mavericks   </td> <td>7.10886                   </td>\n",
       "        </tr>\n",
       "        <tr>\n",
       "            <td>Brooklyn Nets      </td> <td>7.1                       </td>\n",
       "        </tr>\n",
       "        <tr>\n",
       "            <td>Los Angeles Lakers </td> <td>6.57696                   </td>\n",
       "        </tr>\n",
       "        <tr>\n",
       "            <td>Orlando Magic      </td> <td>6.31238                   </td>\n",
       "        </tr>\n",
       "        <tr>\n",
       "            <td>New Orleans Hornets</td> <td>6.15382                   </td>\n",
       "        </tr>\n",
       "    </tbody>\n",
       "</table>\n",
       "<p>... (28 rows omitted)</p>"
      ],
      "text/plain": [
       "<IPython.core.display.HTML object>"
      ]
     },
     "metadata": {},
     "output_type": "display_data"
    }
   ],
   "source": [
    "nba.where('season', 2010).select('team', 'salary').group('team', average_in_millions).sort(1, descending=True).show(5)"
   ]
  },
  {
   "cell_type": "code",
   "execution_count": null,
   "id": "9e11ded0-e163-473f-8bc6-f8f7abb06bfd",
   "metadata": {},
   "outputs": [],
   "source": []
  },
  {
   "cell_type": "markdown",
   "id": "b456dacc-d07b-4569-b47c-24088041b1d8",
   "metadata": {},
   "source": [
    "#### **Challenge Task (`nba` dataset)** Find the $n$ teams paying the highest average salary (in millions) in season $y$.\n",
    "- In other words, write code that will produce the table you made above, but for any given $n$ and $y$."
   ]
  },
  {
   "cell_type": "markdown",
   "id": "f69b97f0-6b60-4c10-aa0c-b0dd027e344f",
   "metadata": {},
   "source": [
    "Note that in this solution, we are calling the function `average_in_millions` inside of our `highest_paying_teams` function!!!"
   ]
  },
  {
   "cell_type": "code",
   "execution_count": 41,
   "id": "529d6942-6fb6-42b9-bec9-04b16b585d3a",
   "metadata": {},
   "outputs": [],
   "source": [
    "n = 7\n",
    "y = 2019"
   ]
  },
  {
   "cell_type": "code",
   "execution_count": 42,
   "id": "2b22e786-f158-4c49-adf4-3b170767b991",
   "metadata": {},
   "outputs": [
    {
     "data": {
      "text/html": [
       "<table border=\"1\" class=\"dataframe\">\n",
       "    <thead>\n",
       "        <tr>\n",
       "            <th>team</th> <th>salary average_in_millions</th>\n",
       "        </tr>\n",
       "    </thead>\n",
       "    <tbody>\n",
       "        <tr>\n",
       "            <td>Golden State Warriors </td> <td>9.62365                   </td>\n",
       "        </tr>\n",
       "        <tr>\n",
       "            <td>Oklahoma City Thunder </td> <td>8.88878                   </td>\n",
       "        </tr>\n",
       "        <tr>\n",
       "            <td>Boston Celtics        </td> <td>8.35512                   </td>\n",
       "        </tr>\n",
       "        <tr>\n",
       "            <td>Detroit Pistons       </td> <td>8.22591                   </td>\n",
       "        </tr>\n",
       "        <tr>\n",
       "            <td>Charlotte Hornets     </td> <td>8.12068                   </td>\n",
       "        </tr>\n",
       "        <tr>\n",
       "            <td>Houston Rockets       </td> <td>8.06426                   </td>\n",
       "        </tr>\n",
       "        <tr>\n",
       "            <td>Minnesota Timberwolves</td> <td>7.95237                   </td>\n",
       "        </tr>\n",
       "    </tbody>\n",
       "</table>\n",
       "<p>... (23 rows omitted)</p>"
      ],
      "text/plain": [
       "<IPython.core.display.HTML object>"
      ]
     },
     "metadata": {},
     "output_type": "display_data"
    }
   ],
   "source": [
    "nba.where('season', y).select('team', 'salary').group('team', average_in_millions).sort(1, descending=True).show(n)"
   ]
  },
  {
   "cell_type": "code",
   "execution_count": null,
   "id": "f19990d2",
   "metadata": {},
   "outputs": [],
   "source": []
  }
 ],
 "metadata": {
  "kernelspec": {
   "display_name": "data8",
   "language": "python",
   "name": "python3"
  },
  "language_info": {
   "codemirror_mode": {
    "name": "ipython",
    "version": 3
   },
   "file_extension": ".py",
   "mimetype": "text/x-python",
   "name": "python",
   "nbconvert_exporter": "python",
   "pygments_lexer": "ipython3",
   "version": "3.12.3"
  }
 },
 "nbformat": 4,
 "nbformat_minor": 5
}
